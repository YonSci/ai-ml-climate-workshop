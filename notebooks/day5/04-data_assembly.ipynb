{
 "cells": [
  {
   "cell_type": "markdown",
   "id": "7eb9c8da",
   "metadata": {},
   "source": [
    "# Data Assembly "
   ]
  },
  {
   "cell_type": "code",
   "execution_count": 8,
   "id": "604cad14",
   "metadata": {},
   "outputs": [],
   "source": [
    "import os\n",
    "import pandas as pd\n",
    "import numpy as np\n",
    "\n",
    "# Set working directory \n",
    "\n",
    "os.chdir(\"C:\\\\Users\\\\yonas\\\\Documents\\\\ICPAC\\\\ea_seasonal_pred\\\\seasonal-ml-pred\")\n",
    "\n",
    "\n",
    "PROCESSED_DIR = \"data/processed\"\n",
    "os.makedirs(PROCESSED_DIR, exist_ok=True)\n"
   ]
  },
  {
   "cell_type": "code",
   "execution_count": 14,
   "id": "c32536ec",
   "metadata": {},
   "outputs": [],
   "source": [
    "# Load processed dataframes\n",
    "OND_uganda = pd.read_csv(\"data//processed//uganda_OND_1981_2024.csv\", index_col=0)\n",
    "MAM_uganda = pd.read_csv(\"data//processed//uganda_MAM_1981_2024.csv\", index_col=0)"
   ]
  },
  {
   "cell_type": "code",
   "execution_count": 15,
   "id": "3dae8bb7",
   "metadata": {},
   "outputs": [
    {
     "data": {
      "text/plain": [
       "((44, 4), (44, 4))"
      ]
     },
     "execution_count": 15,
     "metadata": {},
     "output_type": "execute_result"
    }
   ],
   "source": [
    "OND_uganda.shape, MAM_uganda.shape"
   ]
  },
  {
   "cell_type": "code",
   "execution_count": 16,
   "id": "fdc251be",
   "metadata": {},
   "outputs": [],
   "source": [
    "def missing_report(df: pd.DataFrame, title: str = \"\"):\n",
    "    col_na = df.isna().sum().sort_values(ascending=False)\n",
    "    col_rate = (df.isna().mean()*100).round(1).sort_values(ascending=False)\n",
    "    row_na = df.isna().sum(axis=1)\n",
    "    row_rate = (df.isna().mean(axis=1)*100).round(1)\n",
    "    print(f\"=== Missingness report: {title} ===\")\n",
    "    print(f\"Rows: {len(df)} | Cols: {df.shape[1]}\")\n",
    "    print(f\"Rows with ≥1 missing: {int((row_na>0).sum())} ({(row_na>0).mean()*100:.1f}%)\")\n",
    "    print(\"\\nTop 10 columns by % missing:\")\n",
    "    display(col_rate.head(10).to_frame(\"% missing\"))\n",
    "    print(\"\\nYears with any missing (first 10):\")\n",
    "    display(row_rate[row_rate>0].head(10).to_frame(\"% missing in row\"))"
   ]
  },
  {
   "cell_type": "code",
   "execution_count": 17,
   "id": "be3f3a3a",
   "metadata": {},
   "outputs": [
    {
     "name": "stdout",
     "output_type": "stream",
     "text": [
      "=== Missingness report: OND 1981-2024 ===\n",
      "Rows: 44 | Cols: 4\n",
      "Rows with ≥1 missing: 0 (0.0%)\n",
      "\n",
      "Top 10 columns by % missing:\n"
     ]
    },
    {
     "data": {
      "text/html": [
       "<div>\n",
       "<style scoped>\n",
       "    .dataframe tbody tr th:only-of-type {\n",
       "        vertical-align: middle;\n",
       "    }\n",
       "\n",
       "    .dataframe tbody tr th {\n",
       "        vertical-align: top;\n",
       "    }\n",
       "\n",
       "    .dataframe thead th {\n",
       "        text-align: right;\n",
       "    }\n",
       "</style>\n",
       "<table border=\"1\" class=\"dataframe\">\n",
       "  <thead>\n",
       "    <tr style=\"text-align: right;\">\n",
       "      <th></th>\n",
       "      <th>% missing</th>\n",
       "    </tr>\n",
       "  </thead>\n",
       "  <tbody>\n",
       "    <tr>\n",
       "      <th>OND_total_mm</th>\n",
       "      <td>0.0</td>\n",
       "    </tr>\n",
       "    <tr>\n",
       "      <th>OND_clim1991_2020_mm</th>\n",
       "      <td>0.0</td>\n",
       "    </tr>\n",
       "    <tr>\n",
       "      <th>OND_anom_mm</th>\n",
       "      <td>0.0</td>\n",
       "    </tr>\n",
       "    <tr>\n",
       "      <th>OND_anom_std</th>\n",
       "      <td>0.0</td>\n",
       "    </tr>\n",
       "  </tbody>\n",
       "</table>\n",
       "</div>"
      ],
      "text/plain": [
       "                      % missing\n",
       "OND_total_mm                0.0\n",
       "OND_clim1991_2020_mm        0.0\n",
       "OND_anom_mm                 0.0\n",
       "OND_anom_std                0.0"
      ]
     },
     "metadata": {},
     "output_type": "display_data"
    },
    {
     "name": "stdout",
     "output_type": "stream",
     "text": [
      "\n",
      "Years with any missing (first 10):\n"
     ]
    },
    {
     "data": {
      "text/html": [
       "<div>\n",
       "<style scoped>\n",
       "    .dataframe tbody tr th:only-of-type {\n",
       "        vertical-align: middle;\n",
       "    }\n",
       "\n",
       "    .dataframe tbody tr th {\n",
       "        vertical-align: top;\n",
       "    }\n",
       "\n",
       "    .dataframe thead th {\n",
       "        text-align: right;\n",
       "    }\n",
       "</style>\n",
       "<table border=\"1\" class=\"dataframe\">\n",
       "  <thead>\n",
       "    <tr style=\"text-align: right;\">\n",
       "      <th></th>\n",
       "      <th>% missing in row</th>\n",
       "    </tr>\n",
       "    <tr>\n",
       "      <th>season_year</th>\n",
       "      <th></th>\n",
       "    </tr>\n",
       "  </thead>\n",
       "  <tbody>\n",
       "  </tbody>\n",
       "</table>\n",
       "</div>"
      ],
      "text/plain": [
       "Empty DataFrame\n",
       "Columns: [% missing in row]\n",
       "Index: []"
      ]
     },
     "metadata": {},
     "output_type": "display_data"
    }
   ],
   "source": [
    "missing_report(OND_uganda, \"OND 1981-2024\")"
   ]
  },
  {
   "cell_type": "code",
   "execution_count": 18,
   "id": "d0fe8912",
   "metadata": {},
   "outputs": [
    {
     "name": "stdout",
     "output_type": "stream",
     "text": [
      "=== Missingness report: MAM 1981-2024 ===\n",
      "Rows: 44 | Cols: 4\n",
      "Rows with ≥1 missing: 0 (0.0%)\n",
      "\n",
      "Top 10 columns by % missing:\n"
     ]
    },
    {
     "data": {
      "text/html": [
       "<div>\n",
       "<style scoped>\n",
       "    .dataframe tbody tr th:only-of-type {\n",
       "        vertical-align: middle;\n",
       "    }\n",
       "\n",
       "    .dataframe tbody tr th {\n",
       "        vertical-align: top;\n",
       "    }\n",
       "\n",
       "    .dataframe thead th {\n",
       "        text-align: right;\n",
       "    }\n",
       "</style>\n",
       "<table border=\"1\" class=\"dataframe\">\n",
       "  <thead>\n",
       "    <tr style=\"text-align: right;\">\n",
       "      <th></th>\n",
       "      <th>% missing</th>\n",
       "    </tr>\n",
       "  </thead>\n",
       "  <tbody>\n",
       "    <tr>\n",
       "      <th>MAM_total_mm</th>\n",
       "      <td>0.0</td>\n",
       "    </tr>\n",
       "    <tr>\n",
       "      <th>MAM_clim1991_2020_mm</th>\n",
       "      <td>0.0</td>\n",
       "    </tr>\n",
       "    <tr>\n",
       "      <th>MAM_anom_mm</th>\n",
       "      <td>0.0</td>\n",
       "    </tr>\n",
       "    <tr>\n",
       "      <th>MAM_anom_std</th>\n",
       "      <td>0.0</td>\n",
       "    </tr>\n",
       "  </tbody>\n",
       "</table>\n",
       "</div>"
      ],
      "text/plain": [
       "                      % missing\n",
       "MAM_total_mm                0.0\n",
       "MAM_clim1991_2020_mm        0.0\n",
       "MAM_anom_mm                 0.0\n",
       "MAM_anom_std                0.0"
      ]
     },
     "metadata": {},
     "output_type": "display_data"
    },
    {
     "name": "stdout",
     "output_type": "stream",
     "text": [
      "\n",
      "Years with any missing (first 10):\n"
     ]
    },
    {
     "data": {
      "text/html": [
       "<div>\n",
       "<style scoped>\n",
       "    .dataframe tbody tr th:only-of-type {\n",
       "        vertical-align: middle;\n",
       "    }\n",
       "\n",
       "    .dataframe tbody tr th {\n",
       "        vertical-align: top;\n",
       "    }\n",
       "\n",
       "    .dataframe thead th {\n",
       "        text-align: right;\n",
       "    }\n",
       "</style>\n",
       "<table border=\"1\" class=\"dataframe\">\n",
       "  <thead>\n",
       "    <tr style=\"text-align: right;\">\n",
       "      <th></th>\n",
       "      <th>% missing in row</th>\n",
       "    </tr>\n",
       "    <tr>\n",
       "      <th>season_year</th>\n",
       "      <th></th>\n",
       "    </tr>\n",
       "  </thead>\n",
       "  <tbody>\n",
       "  </tbody>\n",
       "</table>\n",
       "</div>"
      ],
      "text/plain": [
       "Empty DataFrame\n",
       "Columns: [% missing in row]\n",
       "Index: []"
      ]
     },
     "metadata": {},
     "output_type": "display_data"
    }
   ],
   "source": [
    "missing_report(MAM_uganda, \"MAM 1981-2024\")"
   ]
  },
  {
   "cell_type": "code",
   "execution_count": 9,
   "id": "d5ee97a1",
   "metadata": {},
   "outputs": [],
   "source": [
    "# Load the features dataframes\n",
    "features_OND_all_plus = pd.read_csv(\"data//processed//features_OND_all_plus_persist.csv\", index_col=0)\n",
    "features_MAM_all_plus = pd.read_csv(\"data//processed//features_MAM_all_plus_persist.csv\", index_col=0)"
   ]
  },
  {
   "cell_type": "code",
   "execution_count": 13,
   "id": "ca1a0f92",
   "metadata": {},
   "outputs": [
    {
     "data": {
      "text/plain": [
       "((44, 30), (44, 30))"
      ]
     },
     "execution_count": 13,
     "metadata": {},
     "output_type": "execute_result"
    }
   ],
   "source": [
    "features_OND_all_plus.shape, features_MAM_all_plus.shape"
   ]
  },
  {
   "cell_type": "code",
   "execution_count": null,
   "id": "8e155673",
   "metadata": {},
   "outputs": [
    {
     "name": "stdout",
     "output_type": "stream",
     "text": [
      "=== Missingness report: Features OND all plus ===\n",
      "Rows: 44 | Cols: 30\n",
      "Rows with ≥1 missing: 0 (0.0%)\n",
      "\n",
      "Top 10 columns by % missing:\n"
     ]
    },
    {
     "data": {
      "text/html": [
       "<div>\n",
       "<style scoped>\n",
       "    .dataframe tbody tr th:only-of-type {\n",
       "        vertical-align: middle;\n",
       "    }\n",
       "\n",
       "    .dataframe tbody tr th {\n",
       "        vertical-align: top;\n",
       "    }\n",
       "\n",
       "    .dataframe thead th {\n",
       "        text-align: right;\n",
       "    }\n",
       "</style>\n",
       "<table border=\"1\" class=\"dataframe\">\n",
       "  <thead>\n",
       "    <tr style=\"text-align: right;\">\n",
       "      <th></th>\n",
       "      <th>% missing</th>\n",
       "    </tr>\n",
       "  </thead>\n",
       "  <tbody>\n",
       "    <tr>\n",
       "      <th>n12_JAS</th>\n",
       "      <td>0.0</td>\n",
       "    </tr>\n",
       "    <tr>\n",
       "      <th>n12_AS</th>\n",
       "      <td>0.0</td>\n",
       "    </tr>\n",
       "    <tr>\n",
       "      <th>n12_Sep</th>\n",
       "      <td>0.0</td>\n",
       "    </tr>\n",
       "    <tr>\n",
       "      <th>n3_JAS</th>\n",
       "      <td>0.0</td>\n",
       "    </tr>\n",
       "    <tr>\n",
       "      <th>n3_AS</th>\n",
       "      <td>0.0</td>\n",
       "    </tr>\n",
       "    <tr>\n",
       "      <th>n3_Sep</th>\n",
       "      <td>0.0</td>\n",
       "    </tr>\n",
       "    <tr>\n",
       "      <th>n34_JAS</th>\n",
       "      <td>0.0</td>\n",
       "    </tr>\n",
       "    <tr>\n",
       "      <th>n34_AS</th>\n",
       "      <td>0.0</td>\n",
       "    </tr>\n",
       "    <tr>\n",
       "      <th>n34_Sep</th>\n",
       "      <td>0.0</td>\n",
       "    </tr>\n",
       "    <tr>\n",
       "      <th>n4_JAS</th>\n",
       "      <td>0.0</td>\n",
       "    </tr>\n",
       "  </tbody>\n",
       "</table>\n",
       "</div>"
      ],
      "text/plain": [
       "         % missing\n",
       "n12_JAS        0.0\n",
       "n12_AS         0.0\n",
       "n12_Sep        0.0\n",
       "n3_JAS         0.0\n",
       "n3_AS          0.0\n",
       "n3_Sep         0.0\n",
       "n34_JAS        0.0\n",
       "n34_AS         0.0\n",
       "n34_Sep        0.0\n",
       "n4_JAS         0.0"
      ]
     },
     "metadata": {},
     "output_type": "display_data"
    },
    {
     "name": "stdout",
     "output_type": "stream",
     "text": [
      "\n",
      "Years with any missing (first 10):\n"
     ]
    },
    {
     "data": {
      "text/html": [
       "<div>\n",
       "<style scoped>\n",
       "    .dataframe tbody tr th:only-of-type {\n",
       "        vertical-align: middle;\n",
       "    }\n",
       "\n",
       "    .dataframe tbody tr th {\n",
       "        vertical-align: top;\n",
       "    }\n",
       "\n",
       "    .dataframe thead th {\n",
       "        text-align: right;\n",
       "    }\n",
       "</style>\n",
       "<table border=\"1\" class=\"dataframe\">\n",
       "  <thead>\n",
       "    <tr style=\"text-align: right;\">\n",
       "      <th></th>\n",
       "      <th>% missing in row</th>\n",
       "    </tr>\n",
       "    <tr>\n",
       "      <th>season_year</th>\n",
       "      <th></th>\n",
       "    </tr>\n",
       "  </thead>\n",
       "  <tbody>\n",
       "  </tbody>\n",
       "</table>\n",
       "</div>"
      ],
      "text/plain": [
       "Empty DataFrame\n",
       "Columns: [% missing in row]\n",
       "Index: []"
      ]
     },
     "metadata": {},
     "output_type": "display_data"
    }
   ],
   "source": [
    "missing_report(, \"Features OND all plus\")features_OND_all_plus"
   ]
  },
  {
   "cell_type": "code",
   "execution_count": 20,
   "id": "f87a11a8",
   "metadata": {},
   "outputs": [
    {
     "name": "stdout",
     "output_type": "stream",
     "text": [
      "=== Missingness report: MAM features all plus ===\n",
      "Rows: 44 | Cols: 30\n",
      "Rows with ≥1 missing: 1 (2.3%)\n",
      "\n",
      "Top 10 columns by % missing:\n"
     ]
    },
    {
     "data": {
      "text/html": [
       "<div>\n",
       "<style scoped>\n",
       "    .dataframe tbody tr th:only-of-type {\n",
       "        vertical-align: middle;\n",
       "    }\n",
       "\n",
       "    .dataframe tbody tr th {\n",
       "        vertical-align: top;\n",
       "    }\n",
       "\n",
       "    .dataframe thead th {\n",
       "        text-align: right;\n",
       "    }\n",
       "</style>\n",
       "<table border=\"1\" class=\"dataframe\">\n",
       "  <thead>\n",
       "    <tr style=\"text-align: right;\">\n",
       "      <th></th>\n",
       "      <th>% missing</th>\n",
       "    </tr>\n",
       "  </thead>\n",
       "  <tbody>\n",
       "    <tr>\n",
       "      <th>n12_NDJ</th>\n",
       "      <td>2.3</td>\n",
       "    </tr>\n",
       "    <tr>\n",
       "      <th>n12_DJ</th>\n",
       "      <td>2.3</td>\n",
       "    </tr>\n",
       "    <tr>\n",
       "      <th>n3_NDJ</th>\n",
       "      <td>2.3</td>\n",
       "    </tr>\n",
       "    <tr>\n",
       "      <th>n3_DJ</th>\n",
       "      <td>2.3</td>\n",
       "    </tr>\n",
       "    <tr>\n",
       "      <th>n34_DJ</th>\n",
       "      <td>2.3</td>\n",
       "    </tr>\n",
       "    <tr>\n",
       "      <th>n34_NDJ</th>\n",
       "      <td>2.3</td>\n",
       "    </tr>\n",
       "    <tr>\n",
       "      <th>meiv2_DJ</th>\n",
       "      <td>2.3</td>\n",
       "    </tr>\n",
       "    <tr>\n",
       "      <th>meiv2_NDJ</th>\n",
       "      <td>2.3</td>\n",
       "    </tr>\n",
       "    <tr>\n",
       "      <th>n4_NDJ</th>\n",
       "      <td>2.3</td>\n",
       "    </tr>\n",
       "    <tr>\n",
       "      <th>n4_DJ</th>\n",
       "      <td>2.3</td>\n",
       "    </tr>\n",
       "  </tbody>\n",
       "</table>\n",
       "</div>"
      ],
      "text/plain": [
       "           % missing\n",
       "n12_NDJ          2.3\n",
       "n12_DJ           2.3\n",
       "n3_NDJ           2.3\n",
       "n3_DJ            2.3\n",
       "n34_DJ           2.3\n",
       "n34_NDJ          2.3\n",
       "meiv2_DJ         2.3\n",
       "meiv2_NDJ        2.3\n",
       "n4_NDJ           2.3\n",
       "n4_DJ            2.3"
      ]
     },
     "metadata": {},
     "output_type": "display_data"
    },
    {
     "name": "stdout",
     "output_type": "stream",
     "text": [
      "\n",
      "Years with any missing (first 10):\n"
     ]
    },
    {
     "data": {
      "text/html": [
       "<div>\n",
       "<style scoped>\n",
       "    .dataframe tbody tr th:only-of-type {\n",
       "        vertical-align: middle;\n",
       "    }\n",
       "\n",
       "    .dataframe tbody tr th {\n",
       "        vertical-align: top;\n",
       "    }\n",
       "\n",
       "    .dataframe thead th {\n",
       "        text-align: right;\n",
       "    }\n",
       "</style>\n",
       "<table border=\"1\" class=\"dataframe\">\n",
       "  <thead>\n",
       "    <tr style=\"text-align: right;\">\n",
       "      <th></th>\n",
       "      <th>% missing in row</th>\n",
       "    </tr>\n",
       "    <tr>\n",
       "      <th>season_year</th>\n",
       "      <th></th>\n",
       "    </tr>\n",
       "  </thead>\n",
       "  <tbody>\n",
       "    <tr>\n",
       "      <th>1981</th>\n",
       "      <td>70.0</td>\n",
       "    </tr>\n",
       "  </tbody>\n",
       "</table>\n",
       "</div>"
      ],
      "text/plain": [
       "             % missing in row\n",
       "season_year                  \n",
       "1981                     70.0"
      ]
     },
     "metadata": {},
     "output_type": "display_data"
    }
   ],
   "source": [
    "missing_report(features_MAM_all_plus, \"MAM features all plus\")"
   ]
  },
  {
   "cell_type": "code",
   "execution_count": 21,
   "id": "65b8f535",
   "metadata": {},
   "outputs": [
    {
     "data": {
      "text/html": [
       "<div>\n",
       "<style scoped>\n",
       "    .dataframe tbody tr th:only-of-type {\n",
       "        vertical-align: middle;\n",
       "    }\n",
       "\n",
       "    .dataframe tbody tr th {\n",
       "        vertical-align: top;\n",
       "    }\n",
       "\n",
       "    .dataframe thead th {\n",
       "        text-align: right;\n",
       "    }\n",
       "</style>\n",
       "<table border=\"1\" class=\"dataframe\">\n",
       "  <thead>\n",
       "    <tr style=\"text-align: right;\">\n",
       "      <th></th>\n",
       "      <th>n12_NDJ</th>\n",
       "      <th>n12_DJ</th>\n",
       "      <th>n12_Feb</th>\n",
       "      <th>n3_NDJ</th>\n",
       "      <th>n3_DJ</th>\n",
       "      <th>n3_Feb</th>\n",
       "      <th>n34_NDJ</th>\n",
       "      <th>n34_DJ</th>\n",
       "      <th>n34_Feb</th>\n",
       "      <th>n4_NDJ</th>\n",
       "      <th>...</th>\n",
       "      <th>pacwarmpool_Feb</th>\n",
       "      <th>censo_NDJ</th>\n",
       "      <th>censo_DJ</th>\n",
       "      <th>censo_Feb</th>\n",
       "      <th>dmi_NDJ</th>\n",
       "      <th>dmi_DJ</th>\n",
       "      <th>dmi_Feb</th>\n",
       "      <th>PERSIST_SONprev_anom_mm</th>\n",
       "      <th>PERSIST_ONDprev_anom_mm</th>\n",
       "      <th>PERSIST_DJF_anom_mm</th>\n",
       "    </tr>\n",
       "    <tr>\n",
       "      <th>season_year</th>\n",
       "      <th></th>\n",
       "      <th></th>\n",
       "      <th></th>\n",
       "      <th></th>\n",
       "      <th></th>\n",
       "      <th></th>\n",
       "      <th></th>\n",
       "      <th></th>\n",
       "      <th></th>\n",
       "      <th></th>\n",
       "      <th></th>\n",
       "      <th></th>\n",
       "      <th></th>\n",
       "      <th></th>\n",
       "      <th></th>\n",
       "      <th></th>\n",
       "      <th></th>\n",
       "      <th></th>\n",
       "      <th></th>\n",
       "      <th></th>\n",
       "      <th></th>\n",
       "    </tr>\n",
       "  </thead>\n",
       "  <tbody>\n",
       "    <tr>\n",
       "      <th>1982</th>\n",
       "      <td>-0.300000</td>\n",
       "      <td>-0.220</td>\n",
       "      <td>-0.79</td>\n",
       "      <td>-0.086667</td>\n",
       "      <td>0.075</td>\n",
       "      <td>-0.00</td>\n",
       "      <td>-0.160000</td>\n",
       "      <td>-0.035</td>\n",
       "      <td>-0.17</td>\n",
       "      <td>-0.143333</td>\n",
       "      <td>...</td>\n",
       "      <td>-0.305</td>\n",
       "      <td>-0.166667</td>\n",
       "      <td>-0.175</td>\n",
       "      <td>-0.04</td>\n",
       "      <td>-0.067667</td>\n",
       "      <td>0.0625</td>\n",
       "      <td>0.166</td>\n",
       "      <td>1.067961</td>\n",
       "      <td>-3.141819</td>\n",
       "      <td>-1.641512</td>\n",
       "    </tr>\n",
       "    <tr>\n",
       "      <th>1983</th>\n",
       "      <td>2.946667</td>\n",
       "      <td>2.905</td>\n",
       "      <td>2.03</td>\n",
       "      <td>2.753333</td>\n",
       "      <td>2.930</td>\n",
       "      <td>2.30</td>\n",
       "      <td>2.156667</td>\n",
       "      <td>2.275</td>\n",
       "      <td>1.94</td>\n",
       "      <td>0.490000</td>\n",
       "      <td>...</td>\n",
       "      <td>-0.153</td>\n",
       "      <td>2.503333</td>\n",
       "      <td>2.440</td>\n",
       "      <td>2.76</td>\n",
       "      <td>-0.120000</td>\n",
       "      <td>-0.3220</td>\n",
       "      <td>-0.587</td>\n",
       "      <td>-0.035007</td>\n",
       "      <td>5.855969</td>\n",
       "      <td>-0.308066</td>\n",
       "    </tr>\n",
       "    <tr>\n",
       "      <th>1984</th>\n",
       "      <td>0.073333</td>\n",
       "      <td>-0.090</td>\n",
       "      <td>-0.88</td>\n",
       "      <td>-0.816667</td>\n",
       "      <td>-0.710</td>\n",
       "      <td>-0.15</td>\n",
       "      <td>-0.996667</td>\n",
       "      <td>-0.850</td>\n",
       "      <td>-0.19</td>\n",
       "      <td>-0.890000</td>\n",
       "      <td>...</td>\n",
       "      <td>-0.404</td>\n",
       "      <td>-0.390000</td>\n",
       "      <td>-0.330</td>\n",
       "      <td>-0.47</td>\n",
       "      <td>-0.222333</td>\n",
       "      <td>-0.1620</td>\n",
       "      <td>-0.149</td>\n",
       "      <td>-4.057695</td>\n",
       "      <td>-3.513931</td>\n",
       "      <td>0.486139</td>\n",
       "    </tr>\n",
       "    <tr>\n",
       "      <th>1985</th>\n",
       "      <td>-0.436667</td>\n",
       "      <td>-0.590</td>\n",
       "      <td>-1.38</td>\n",
       "      <td>-1.173333</td>\n",
       "      <td>-1.265</td>\n",
       "      <td>-0.90</td>\n",
       "      <td>-1.230000</td>\n",
       "      <td>-1.250</td>\n",
       "      <td>-0.72</td>\n",
       "      <td>-0.833333</td>\n",
       "      <td>...</td>\n",
       "      <td>-0.275</td>\n",
       "      <td>-0.463333</td>\n",
       "      <td>-0.375</td>\n",
       "      <td>-0.84</td>\n",
       "      <td>-0.387333</td>\n",
       "      <td>-0.3720</td>\n",
       "      <td>-0.627</td>\n",
       "      <td>-5.366506</td>\n",
       "      <td>-2.751584</td>\n",
       "      <td>1.288048</td>\n",
       "    </tr>\n",
       "    <tr>\n",
       "      <th>1986</th>\n",
       "      <td>-0.390000</td>\n",
       "      <td>-0.190</td>\n",
       "      <td>-0.10</td>\n",
       "      <td>-0.743333</td>\n",
       "      <td>-0.765</td>\n",
       "      <td>-0.53</td>\n",
       "      <td>-0.480000</td>\n",
       "      <td>-0.535</td>\n",
       "      <td>-0.71</td>\n",
       "      <td>-0.280000</td>\n",
       "      <td>...</td>\n",
       "      <td>-0.318</td>\n",
       "      <td>-0.280000</td>\n",
       "      <td>-0.410</td>\n",
       "      <td>0.17</td>\n",
       "      <td>-0.152000</td>\n",
       "      <td>-0.2650</td>\n",
       "      <td>-0.135</td>\n",
       "      <td>-3.723882</td>\n",
       "      <td>-7.442914</td>\n",
       "      <td>-2.746658</td>\n",
       "    </tr>\n",
       "  </tbody>\n",
       "</table>\n",
       "<p>5 rows × 30 columns</p>\n",
       "</div>"
      ],
      "text/plain": [
       "              n12_NDJ  n12_DJ  n12_Feb    n3_NDJ  n3_DJ  n3_Feb   n34_NDJ  \\\n",
       "season_year                                                                 \n",
       "1982        -0.300000  -0.220    -0.79 -0.086667  0.075   -0.00 -0.160000   \n",
       "1983         2.946667   2.905     2.03  2.753333  2.930    2.30  2.156667   \n",
       "1984         0.073333  -0.090    -0.88 -0.816667 -0.710   -0.15 -0.996667   \n",
       "1985        -0.436667  -0.590    -1.38 -1.173333 -1.265   -0.90 -1.230000   \n",
       "1986        -0.390000  -0.190    -0.10 -0.743333 -0.765   -0.53 -0.480000   \n",
       "\n",
       "             n34_DJ  n34_Feb    n4_NDJ  ...  pacwarmpool_Feb  censo_NDJ  \\\n",
       "season_year                             ...                               \n",
       "1982         -0.035    -0.17 -0.143333  ...           -0.305  -0.166667   \n",
       "1983          2.275     1.94  0.490000  ...           -0.153   2.503333   \n",
       "1984         -0.850    -0.19 -0.890000  ...           -0.404  -0.390000   \n",
       "1985         -1.250    -0.72 -0.833333  ...           -0.275  -0.463333   \n",
       "1986         -0.535    -0.71 -0.280000  ...           -0.318  -0.280000   \n",
       "\n",
       "             censo_DJ  censo_Feb   dmi_NDJ  dmi_DJ  dmi_Feb  \\\n",
       "season_year                                                   \n",
       "1982           -0.175      -0.04 -0.067667  0.0625    0.166   \n",
       "1983            2.440       2.76 -0.120000 -0.3220   -0.587   \n",
       "1984           -0.330      -0.47 -0.222333 -0.1620   -0.149   \n",
       "1985           -0.375      -0.84 -0.387333 -0.3720   -0.627   \n",
       "1986           -0.410       0.17 -0.152000 -0.2650   -0.135   \n",
       "\n",
       "             PERSIST_SONprev_anom_mm  PERSIST_ONDprev_anom_mm  \\\n",
       "season_year                                                     \n",
       "1982                        1.067961                -3.141819   \n",
       "1983                       -0.035007                 5.855969   \n",
       "1984                       -4.057695                -3.513931   \n",
       "1985                       -5.366506                -2.751584   \n",
       "1986                       -3.723882                -7.442914   \n",
       "\n",
       "             PERSIST_DJF_anom_mm  \n",
       "season_year                       \n",
       "1982                   -1.641512  \n",
       "1983                   -0.308066  \n",
       "1984                    0.486139  \n",
       "1985                    1.288048  \n",
       "1986                   -2.746658  \n",
       "\n",
       "[5 rows x 30 columns]"
      ]
     },
     "execution_count": 21,
     "metadata": {},
     "output_type": "execute_result"
    }
   ],
   "source": [
    "# Lets drop the the 1981 rows since they have alot of missing data\n",
    "features_MAM_all_plus = features_MAM_all_plus[features_MAM_all_plus.index >= 1982]\n",
    "features_MAM_all_plus.head()"
   ]
  },
  {
   "cell_type": "code",
   "execution_count": 22,
   "id": "74acfaeb",
   "metadata": {},
   "outputs": [
    {
     "name": "stdout",
     "output_type": "stream",
     "text": [
      "=== Missingness report: MAM features all plus ===\n",
      "Rows: 43 | Cols: 30\n",
      "Rows with ≥1 missing: 0 (0.0%)\n",
      "\n",
      "Top 10 columns by % missing:\n"
     ]
    },
    {
     "data": {
      "text/html": [
       "<div>\n",
       "<style scoped>\n",
       "    .dataframe tbody tr th:only-of-type {\n",
       "        vertical-align: middle;\n",
       "    }\n",
       "\n",
       "    .dataframe tbody tr th {\n",
       "        vertical-align: top;\n",
       "    }\n",
       "\n",
       "    .dataframe thead th {\n",
       "        text-align: right;\n",
       "    }\n",
       "</style>\n",
       "<table border=\"1\" class=\"dataframe\">\n",
       "  <thead>\n",
       "    <tr style=\"text-align: right;\">\n",
       "      <th></th>\n",
       "      <th>% missing</th>\n",
       "    </tr>\n",
       "  </thead>\n",
       "  <tbody>\n",
       "    <tr>\n",
       "      <th>n12_NDJ</th>\n",
       "      <td>0.0</td>\n",
       "    </tr>\n",
       "    <tr>\n",
       "      <th>n12_DJ</th>\n",
       "      <td>0.0</td>\n",
       "    </tr>\n",
       "    <tr>\n",
       "      <th>n12_Feb</th>\n",
       "      <td>0.0</td>\n",
       "    </tr>\n",
       "    <tr>\n",
       "      <th>n3_NDJ</th>\n",
       "      <td>0.0</td>\n",
       "    </tr>\n",
       "    <tr>\n",
       "      <th>n3_DJ</th>\n",
       "      <td>0.0</td>\n",
       "    </tr>\n",
       "    <tr>\n",
       "      <th>n3_Feb</th>\n",
       "      <td>0.0</td>\n",
       "    </tr>\n",
       "    <tr>\n",
       "      <th>n34_NDJ</th>\n",
       "      <td>0.0</td>\n",
       "    </tr>\n",
       "    <tr>\n",
       "      <th>n34_DJ</th>\n",
       "      <td>0.0</td>\n",
       "    </tr>\n",
       "    <tr>\n",
       "      <th>n34_Feb</th>\n",
       "      <td>0.0</td>\n",
       "    </tr>\n",
       "    <tr>\n",
       "      <th>n4_NDJ</th>\n",
       "      <td>0.0</td>\n",
       "    </tr>\n",
       "  </tbody>\n",
       "</table>\n",
       "</div>"
      ],
      "text/plain": [
       "         % missing\n",
       "n12_NDJ        0.0\n",
       "n12_DJ         0.0\n",
       "n12_Feb        0.0\n",
       "n3_NDJ         0.0\n",
       "n3_DJ          0.0\n",
       "n3_Feb         0.0\n",
       "n34_NDJ        0.0\n",
       "n34_DJ         0.0\n",
       "n34_Feb        0.0\n",
       "n4_NDJ         0.0"
      ]
     },
     "metadata": {},
     "output_type": "display_data"
    },
    {
     "name": "stdout",
     "output_type": "stream",
     "text": [
      "\n",
      "Years with any missing (first 10):\n"
     ]
    },
    {
     "data": {
      "text/html": [
       "<div>\n",
       "<style scoped>\n",
       "    .dataframe tbody tr th:only-of-type {\n",
       "        vertical-align: middle;\n",
       "    }\n",
       "\n",
       "    .dataframe tbody tr th {\n",
       "        vertical-align: top;\n",
       "    }\n",
       "\n",
       "    .dataframe thead th {\n",
       "        text-align: right;\n",
       "    }\n",
       "</style>\n",
       "<table border=\"1\" class=\"dataframe\">\n",
       "  <thead>\n",
       "    <tr style=\"text-align: right;\">\n",
       "      <th></th>\n",
       "      <th>% missing in row</th>\n",
       "    </tr>\n",
       "    <tr>\n",
       "      <th>season_year</th>\n",
       "      <th></th>\n",
       "    </tr>\n",
       "  </thead>\n",
       "  <tbody>\n",
       "  </tbody>\n",
       "</table>\n",
       "</div>"
      ],
      "text/plain": [
       "Empty DataFrame\n",
       "Columns: [% missing in row]\n",
       "Index: []"
      ]
     },
     "metadata": {},
     "output_type": "display_data"
    }
   ],
   "source": [
    "missing_report(features_MAM_all_plus, \"MAM features all plus\")"
   ]
  },
  {
   "cell_type": "code",
   "execution_count": 23,
   "id": "92705be9",
   "metadata": {},
   "outputs": [
    {
     "data": {
      "text/html": [
       "<div>\n",
       "<style scoped>\n",
       "    .dataframe tbody tr th:only-of-type {\n",
       "        vertical-align: middle;\n",
       "    }\n",
       "\n",
       "    .dataframe tbody tr th {\n",
       "        vertical-align: top;\n",
       "    }\n",
       "\n",
       "    .dataframe thead th {\n",
       "        text-align: right;\n",
       "    }\n",
       "</style>\n",
       "<table border=\"1\" class=\"dataframe\">\n",
       "  <thead>\n",
       "    <tr style=\"text-align: right;\">\n",
       "      <th></th>\n",
       "      <th>MAM_total_mm</th>\n",
       "      <th>MAM_clim1991_2020_mm</th>\n",
       "      <th>MAM_anom_mm</th>\n",
       "      <th>MAM_anom_std</th>\n",
       "    </tr>\n",
       "    <tr>\n",
       "      <th>season_year</th>\n",
       "      <th></th>\n",
       "      <th></th>\n",
       "      <th></th>\n",
       "      <th></th>\n",
       "    </tr>\n",
       "  </thead>\n",
       "  <tbody>\n",
       "    <tr>\n",
       "      <th>1982</th>\n",
       "      <td>435.96973</td>\n",
       "      <td>416.46323</td>\n",
       "      <td>19.506500</td>\n",
       "      <td>0.380850</td>\n",
       "    </tr>\n",
       "    <tr>\n",
       "      <th>1983</th>\n",
       "      <td>354.69670</td>\n",
       "      <td>416.46323</td>\n",
       "      <td>-61.766540</td>\n",
       "      <td>-1.205945</td>\n",
       "    </tr>\n",
       "    <tr>\n",
       "      <th>1984</th>\n",
       "      <td>312.64685</td>\n",
       "      <td>416.46323</td>\n",
       "      <td>-103.816376</td>\n",
       "      <td>-2.026936</td>\n",
       "    </tr>\n",
       "    <tr>\n",
       "      <th>1985</th>\n",
       "      <td>479.86670</td>\n",
       "      <td>416.46323</td>\n",
       "      <td>63.403473</td>\n",
       "      <td>1.237905</td>\n",
       "    </tr>\n",
       "    <tr>\n",
       "      <th>1986</th>\n",
       "      <td>415.87973</td>\n",
       "      <td>416.46323</td>\n",
       "      <td>-0.583496</td>\n",
       "      <td>-0.011392</td>\n",
       "    </tr>\n",
       "  </tbody>\n",
       "</table>\n",
       "</div>"
      ],
      "text/plain": [
       "             MAM_total_mm  MAM_clim1991_2020_mm  MAM_anom_mm  MAM_anom_std\n",
       "season_year                                                               \n",
       "1982            435.96973             416.46323    19.506500      0.380850\n",
       "1983            354.69670             416.46323   -61.766540     -1.205945\n",
       "1984            312.64685             416.46323  -103.816376     -2.026936\n",
       "1985            479.86670             416.46323    63.403473      1.237905\n",
       "1986            415.87973             416.46323    -0.583496     -0.011392"
      ]
     },
     "execution_count": 23,
     "metadata": {},
     "output_type": "execute_result"
    }
   ],
   "source": [
    "# Drop the 1981 rows from the MAM_uganda dataframe as well\n",
    "MAM_uganda = MAM_uganda[MAM_uganda.index >= 1982]\n",
    "MAM_uganda.head()"
   ]
  },
  {
   "cell_type": "code",
   "execution_count": null,
   "id": "d12d72fe",
   "metadata": {},
   "outputs": [],
   "source": [
    "def load_target(name_parq: str, name_csv: str, cols_keep: list[str]) -> pd.DataFrame:\n",
    "    parq_path = os.path.join(PROCESSED_DIR, name_parq)\n",
    "    csv_path  = os.path.join(PROCESSED_DIR, name_csv)\n",
    "    if os.path.exists(parq_path):\n",
    "        df = pd.read_parquet(parq_path)\n",
    "    elif os.path.exists(csv_path):\n",
    "        df = pd.read_csv(csv_path, index_col=0)\n",
    "    else:\n",
    "        raise FileNotFoundError(f\"Missing target file: {parq_path} or {csv_path}\")\n",
    "    # ensure index is season_year (int)\n",
    "    if df.index.name != \"season_year\":\n",
    "        df.index.name = \"season_year\"\n",
    "    try:\n",
    "        df.index = df.index.astype(int)\n",
    "    except Exception:\n",
    "        pass\n",
    "    # keep only requested columns if present\n",
    "    cols = [c for c in cols_keep if c in df.columns]\n",
    "    return df[cols].sort_index()"
   ]
  },
  {
   "cell_type": "code",
   "execution_count": 25,
   "id": "c6d468f2",
   "metadata": {},
   "outputs": [
    {
     "name": "stdout",
     "output_type": "stream",
     "text": [
      "OND target years: 1981 → 2024 | rows: 44\n",
      "MAM target years: 1981 → 2024 | rows: 44\n"
     ]
    },
    {
     "data": {
      "text/plain": [
       "(             OND_total_mm  OND_clim1991_2020_mm  OND_anom_mm  OND_anom_std\n",
       " season_year                                                               \n",
       " 1981            251.31606              328.4043    -77.08824     -1.053309\n",
       " 1982            373.33360              328.4043     44.92929      0.613899,\n",
       "              MAM_total_mm  MAM_clim1991_2020_mm  MAM_anom_mm  MAM_anom_std\n",
       " season_year                                                               \n",
       " 1981            459.40836             416.46323     42.94513      0.838471\n",
       " 1982            435.96973             416.46323     19.50650      0.380850)"
      ]
     },
     "execution_count": 25,
     "metadata": {},
     "output_type": "execute_result"
    }
   ],
   "source": [
    "\n",
    "\n",
    "OND_cols = [\"OND_total_mm\", \"OND_clim1991_2020_mm\", \"OND_anom_mm\", \"OND_anom_std\"]\n",
    "MAM_cols = [\"MAM_total_mm\", \"MAM_clim1991_2020_mm\", \"MAM_anom_mm\", \"MAM_anom_std\"]\n",
    "\n",
    "OND_tgt = load_target(\"kenya_OND_1981_2024.parquet\", \"uganda_OND_1981_2024.csv\", OND_cols)\n",
    "MAM_tgt = load_target(\"kenya_MAM_1981_2024.parquet\", \"uganda_MAM_1981_2024.csv\", MAM_cols)\n",
    "\n",
    "print(\"OND target years:\", OND_tgt.index.min(), \"→\", OND_tgt.index.max(), \"| rows:\", len(OND_tgt))\n",
    "print(\"MAM target years:\", MAM_tgt.index.min(), \"→\", MAM_tgt.index.max(), \"| rows:\", len(MAM_tgt))\n",
    "OND_tgt.head(2), MAM_tgt.head(2)\n"
   ]
  },
  {
   "cell_type": "code",
   "execution_count": 26,
   "id": "d12295ad",
   "metadata": {},
   "outputs": [],
   "source": [
    "def load_features(primary_parq: str, fallback_parq: str) -> pd.DataFrame:\n",
    "    primary = os.path.join(PROCESSED_DIR, primary_parq)\n",
    "    fallback = os.path.join(PROCESSED_DIR, fallback_parq)\n",
    "    if os.path.exists(primary):\n",
    "        df = pd.read_parquet(primary)\n",
    "    elif os.path.exists(fallback):\n",
    "        df = pd.read_parquet(fallback)\n",
    "    else:\n",
    "        raise FileNotFoundError(f\"Missing features: {primary} or {fallback}\")\n",
    "    # ensure index is season_year\n",
    "    if df.index.name != \"season_year\":\n",
    "        df.index.name = \"season_year\"\n",
    "    try:\n",
    "        df.index = df.index.astype(int)\n",
    "    except Exception:\n",
    "        pass\n",
    "    return df.sort_index()"
   ]
  },
  {
   "cell_type": "code",
   "execution_count": 30,
   "id": "28106aeb",
   "metadata": {},
   "outputs": [],
   "source": [
    "OND_feat = features_OND_all_plus\n",
    "MAM_feat = features_MAM_all_plus"
   ]
  },
  {
   "cell_type": "code",
   "execution_count": 31,
   "id": "15ccae76",
   "metadata": {},
   "outputs": [],
   "source": [
    "# Overlap years\n",
    "years_ond = OND_tgt.index.intersection(OND_feat.index)\n",
    "years_mam = MAM_tgt.index.intersection(MAM_feat.index)"
   ]
  },
  {
   "cell_type": "code",
   "execution_count": 32,
   "id": "372806d3",
   "metadata": {},
   "outputs": [
    {
     "data": {
      "text/plain": [
       "Index([1981, 1982, 1983, 1984, 1985, 1986, 1987, 1988, 1989, 1990, 1991, 1992,\n",
       "       1993, 1994, 1995, 1996, 1997, 1998, 1999, 2000, 2001, 2002, 2003, 2004,\n",
       "       2005, 2006, 2007, 2008, 2009, 2010, 2011, 2012, 2013, 2014, 2015, 2016,\n",
       "       2017, 2018, 2019, 2020, 2021, 2022, 2023, 2024],\n",
       "      dtype='int64', name='season_year')"
      ]
     },
     "execution_count": 32,
     "metadata": {},
     "output_type": "execute_result"
    }
   ],
   "source": [
    "years_ond"
   ]
  },
  {
   "cell_type": "code",
   "execution_count": 43,
   "id": "29829af0",
   "metadata": {},
   "outputs": [
    {
     "data": {
      "text/plain": [
       "(np.int64(1981), np.int64(2024))"
      ]
     },
     "execution_count": 43,
     "metadata": {},
     "output_type": "execute_result"
    }
   ],
   "source": [
    "OND_tgt.index.min(), OND_tgt.index.max()"
   ]
  },
  {
   "cell_type": "code",
   "execution_count": 33,
   "id": "9a84f604",
   "metadata": {},
   "outputs": [
    {
     "data": {
      "text/plain": [
       "Index([1982, 1983, 1984, 1985, 1986, 1987, 1988, 1989, 1990, 1991, 1992, 1993,\n",
       "       1994, 1995, 1996, 1997, 1998, 1999, 2000, 2001, 2002, 2003, 2004, 2005,\n",
       "       2006, 2007, 2008, 2009, 2010, 2011, 2012, 2013, 2014, 2015, 2016, 2017,\n",
       "       2018, 2019, 2020, 2021, 2022, 2023, 2024],\n",
       "      dtype='int64', name='season_year')"
      ]
     },
     "execution_count": 33,
     "metadata": {},
     "output_type": "execute_result"
    }
   ],
   "source": [
    "years_mam"
   ]
  },
  {
   "cell_type": "code",
   "execution_count": 44,
   "id": "9950479c",
   "metadata": {},
   "outputs": [
    {
     "data": {
      "text/plain": [
       "(np.int64(1981), np.int64(2024))"
      ]
     },
     "execution_count": 44,
     "metadata": {},
     "output_type": "execute_result"
    }
   ],
   "source": [
    "MAM_tgt.index.min(), MAM_tgt.index.max()"
   ]
  },
  {
   "cell_type": "code",
   "execution_count": null,
   "id": "57d4f361",
   "metadata": {},
   "outputs": [],
   "source": [
    "# Inner join (keeps years present in both)\n",
    "OND_table = OND_tgt.loc[years_ond].join(OND_feat.loc[years_ond], how=\"inner\")\n",
    "MAM_table = MAM_tgt.loc[years_mam].join(MAM_feat.loc[years_mam], how=\"inner\")\n"
   ]
  },
  {
   "cell_type": "code",
   "execution_count": 38,
   "id": "644510d2",
   "metadata": {},
   "outputs": [
    {
     "data": {
      "text/plain": [
       "((44, 34), (43, 34))"
      ]
     },
     "execution_count": 38,
     "metadata": {},
     "output_type": "execute_result"
    }
   ],
   "source": [
    "OND_table.shape, MAM_table.shape"
   ]
  },
  {
   "cell_type": "code",
   "execution_count": 45,
   "id": "d76cca00",
   "metadata": {},
   "outputs": [
    {
     "data": {
      "text/plain": [
       "(np.int64(1981), np.int64(2024))"
      ]
     },
     "execution_count": 45,
     "metadata": {},
     "output_type": "execute_result"
    }
   ],
   "source": [
    "OND_table.index.min(), OND_table.index.max()"
   ]
  },
  {
   "cell_type": "code",
   "execution_count": 36,
   "id": "b64d1e18",
   "metadata": {},
   "outputs": [
    {
     "data": {
      "text/html": [
       "<div>\n",
       "<style scoped>\n",
       "    .dataframe tbody tr th:only-of-type {\n",
       "        vertical-align: middle;\n",
       "    }\n",
       "\n",
       "    .dataframe tbody tr th {\n",
       "        vertical-align: top;\n",
       "    }\n",
       "\n",
       "    .dataframe thead th {\n",
       "        text-align: right;\n",
       "    }\n",
       "</style>\n",
       "<table border=\"1\" class=\"dataframe\">\n",
       "  <thead>\n",
       "    <tr style=\"text-align: right;\">\n",
       "      <th></th>\n",
       "      <th>OND_total_mm</th>\n",
       "      <th>OND_clim1991_2020_mm</th>\n",
       "      <th>OND_anom_mm</th>\n",
       "      <th>OND_anom_std</th>\n",
       "      <th>n12_JAS</th>\n",
       "      <th>n12_AS</th>\n",
       "      <th>n12_Sep</th>\n",
       "      <th>n3_JAS</th>\n",
       "      <th>n3_AS</th>\n",
       "      <th>n3_Sep</th>\n",
       "      <th>...</th>\n",
       "      <th>pacwarmpool_Sep</th>\n",
       "      <th>censo_JAS</th>\n",
       "      <th>censo_AS</th>\n",
       "      <th>censo_Sep</th>\n",
       "      <th>dmi_JAS</th>\n",
       "      <th>dmi_AS</th>\n",
       "      <th>dmi_Sep</th>\n",
       "      <th>PERSIST_MJJ_anom_mm</th>\n",
       "      <th>PERSIST_JJA_anom_mm</th>\n",
       "      <th>PERSIST_JAS_anom_mm</th>\n",
       "    </tr>\n",
       "    <tr>\n",
       "      <th>season_year</th>\n",
       "      <th></th>\n",
       "      <th></th>\n",
       "      <th></th>\n",
       "      <th></th>\n",
       "      <th></th>\n",
       "      <th></th>\n",
       "      <th></th>\n",
       "      <th></th>\n",
       "      <th></th>\n",
       "      <th></th>\n",
       "      <th></th>\n",
       "      <th></th>\n",
       "      <th></th>\n",
       "      <th></th>\n",
       "      <th></th>\n",
       "      <th></th>\n",
       "      <th></th>\n",
       "      <th></th>\n",
       "      <th></th>\n",
       "      <th></th>\n",
       "      <th></th>\n",
       "    </tr>\n",
       "  </thead>\n",
       "  <tbody>\n",
       "    <tr>\n",
       "      <th>1981</th>\n",
       "      <td>251.31606</td>\n",
       "      <td>328.4043</td>\n",
       "      <td>-77.08824</td>\n",
       "      <td>-1.053309</td>\n",
       "      <td>-0.936667</td>\n",
       "      <td>-0.960</td>\n",
       "      <td>-0.79</td>\n",
       "      <td>-0.520000</td>\n",
       "      <td>-0.48</td>\n",
       "      <td>-0.23</td>\n",
       "      <td>...</td>\n",
       "      <td>-0.186</td>\n",
       "      <td>-0.360000</td>\n",
       "      <td>-0.235</td>\n",
       "      <td>-0.18</td>\n",
       "      <td>-0.648333</td>\n",
       "      <td>-0.6925</td>\n",
       "      <td>-0.757</td>\n",
       "      <td>-2.042121</td>\n",
       "      <td>1.513391</td>\n",
       "      <td>3.086952</td>\n",
       "    </tr>\n",
       "    <tr>\n",
       "      <th>1982</th>\n",
       "      <td>373.33360</td>\n",
       "      <td>328.4043</td>\n",
       "      <td>44.92929</td>\n",
       "      <td>0.613899</td>\n",
       "      <td>0.860000</td>\n",
       "      <td>1.055</td>\n",
       "      <td>1.31</td>\n",
       "      <td>1.083333</td>\n",
       "      <td>1.42</td>\n",
       "      <td>1.89</td>\n",
       "      <td>...</td>\n",
       "      <td>-0.495</td>\n",
       "      <td>1.786667</td>\n",
       "      <td>1.905</td>\n",
       "      <td>1.95</td>\n",
       "      <td>0.321000</td>\n",
       "      <td>0.3490</td>\n",
       "      <td>0.442</td>\n",
       "      <td>-8.787225</td>\n",
       "      <td>-1.924204</td>\n",
       "      <td>-5.021202</td>\n",
       "    </tr>\n",
       "  </tbody>\n",
       "</table>\n",
       "<p>2 rows × 34 columns</p>\n",
       "</div>"
      ],
      "text/plain": [
       "             OND_total_mm  OND_clim1991_2020_mm  OND_anom_mm  OND_anom_std  \\\n",
       "season_year                                                                  \n",
       "1981            251.31606              328.4043    -77.08824     -1.053309   \n",
       "1982            373.33360              328.4043     44.92929      0.613899   \n",
       "\n",
       "              n12_JAS  n12_AS  n12_Sep    n3_JAS  n3_AS  n3_Sep  ...  \\\n",
       "season_year                                                      ...   \n",
       "1981        -0.936667  -0.960    -0.79 -0.520000  -0.48   -0.23  ...   \n",
       "1982         0.860000   1.055     1.31  1.083333   1.42    1.89  ...   \n",
       "\n",
       "             pacwarmpool_Sep  censo_JAS  censo_AS  censo_Sep   dmi_JAS  \\\n",
       "season_year                                                              \n",
       "1981                  -0.186  -0.360000    -0.235      -0.18 -0.648333   \n",
       "1982                  -0.495   1.786667     1.905       1.95  0.321000   \n",
       "\n",
       "             dmi_AS  dmi_Sep  PERSIST_MJJ_anom_mm  PERSIST_JJA_anom_mm  \\\n",
       "season_year                                                              \n",
       "1981        -0.6925   -0.757            -2.042121             1.513391   \n",
       "1982         0.3490    0.442            -8.787225            -1.924204   \n",
       "\n",
       "             PERSIST_JAS_anom_mm  \n",
       "season_year                       \n",
       "1981                    3.086952  \n",
       "1982                   -5.021202  \n",
       "\n",
       "[2 rows x 34 columns]"
      ]
     },
     "execution_count": 36,
     "metadata": {},
     "output_type": "execute_result"
    }
   ],
   "source": [
    "OND_table.head(2)"
   ]
  },
  {
   "cell_type": "code",
   "execution_count": 37,
   "id": "4d7b1463",
   "metadata": {},
   "outputs": [
    {
     "data": {
      "text/html": [
       "<div>\n",
       "<style scoped>\n",
       "    .dataframe tbody tr th:only-of-type {\n",
       "        vertical-align: middle;\n",
       "    }\n",
       "\n",
       "    .dataframe tbody tr th {\n",
       "        vertical-align: top;\n",
       "    }\n",
       "\n",
       "    .dataframe thead th {\n",
       "        text-align: right;\n",
       "    }\n",
       "</style>\n",
       "<table border=\"1\" class=\"dataframe\">\n",
       "  <thead>\n",
       "    <tr style=\"text-align: right;\">\n",
       "      <th></th>\n",
       "      <th>MAM_total_mm</th>\n",
       "      <th>MAM_clim1991_2020_mm</th>\n",
       "      <th>MAM_anom_mm</th>\n",
       "      <th>MAM_anom_std</th>\n",
       "      <th>n12_NDJ</th>\n",
       "      <th>n12_DJ</th>\n",
       "      <th>n12_Feb</th>\n",
       "      <th>n3_NDJ</th>\n",
       "      <th>n3_DJ</th>\n",
       "      <th>n3_Feb</th>\n",
       "      <th>...</th>\n",
       "      <th>pacwarmpool_Feb</th>\n",
       "      <th>censo_NDJ</th>\n",
       "      <th>censo_DJ</th>\n",
       "      <th>censo_Feb</th>\n",
       "      <th>dmi_NDJ</th>\n",
       "      <th>dmi_DJ</th>\n",
       "      <th>dmi_Feb</th>\n",
       "      <th>PERSIST_SONprev_anom_mm</th>\n",
       "      <th>PERSIST_ONDprev_anom_mm</th>\n",
       "      <th>PERSIST_DJF_anom_mm</th>\n",
       "    </tr>\n",
       "    <tr>\n",
       "      <th>season_year</th>\n",
       "      <th></th>\n",
       "      <th></th>\n",
       "      <th></th>\n",
       "      <th></th>\n",
       "      <th></th>\n",
       "      <th></th>\n",
       "      <th></th>\n",
       "      <th></th>\n",
       "      <th></th>\n",
       "      <th></th>\n",
       "      <th></th>\n",
       "      <th></th>\n",
       "      <th></th>\n",
       "      <th></th>\n",
       "      <th></th>\n",
       "      <th></th>\n",
       "      <th></th>\n",
       "      <th></th>\n",
       "      <th></th>\n",
       "      <th></th>\n",
       "      <th></th>\n",
       "    </tr>\n",
       "  </thead>\n",
       "  <tbody>\n",
       "    <tr>\n",
       "      <th>1982</th>\n",
       "      <td>435.96973</td>\n",
       "      <td>416.46323</td>\n",
       "      <td>19.50650</td>\n",
       "      <td>0.380850</td>\n",
       "      <td>-0.300000</td>\n",
       "      <td>-0.220</td>\n",
       "      <td>-0.79</td>\n",
       "      <td>-0.086667</td>\n",
       "      <td>0.075</td>\n",
       "      <td>-0.0</td>\n",
       "      <td>...</td>\n",
       "      <td>-0.305</td>\n",
       "      <td>-0.166667</td>\n",
       "      <td>-0.175</td>\n",
       "      <td>-0.04</td>\n",
       "      <td>-0.067667</td>\n",
       "      <td>0.0625</td>\n",
       "      <td>0.166</td>\n",
       "      <td>1.067961</td>\n",
       "      <td>-3.141819</td>\n",
       "      <td>-1.641512</td>\n",
       "    </tr>\n",
       "    <tr>\n",
       "      <th>1983</th>\n",
       "      <td>354.69670</td>\n",
       "      <td>416.46323</td>\n",
       "      <td>-61.76654</td>\n",
       "      <td>-1.205945</td>\n",
       "      <td>2.946667</td>\n",
       "      <td>2.905</td>\n",
       "      <td>2.03</td>\n",
       "      <td>2.753333</td>\n",
       "      <td>2.930</td>\n",
       "      <td>2.3</td>\n",
       "      <td>...</td>\n",
       "      <td>-0.153</td>\n",
       "      <td>2.503333</td>\n",
       "      <td>2.440</td>\n",
       "      <td>2.76</td>\n",
       "      <td>-0.120000</td>\n",
       "      <td>-0.3220</td>\n",
       "      <td>-0.587</td>\n",
       "      <td>-0.035007</td>\n",
       "      <td>5.855969</td>\n",
       "      <td>-0.308066</td>\n",
       "    </tr>\n",
       "  </tbody>\n",
       "</table>\n",
       "<p>2 rows × 34 columns</p>\n",
       "</div>"
      ],
      "text/plain": [
       "             MAM_total_mm  MAM_clim1991_2020_mm  MAM_anom_mm  MAM_anom_std  \\\n",
       "season_year                                                                  \n",
       "1982            435.96973             416.46323     19.50650      0.380850   \n",
       "1983            354.69670             416.46323    -61.76654     -1.205945   \n",
       "\n",
       "              n12_NDJ  n12_DJ  n12_Feb    n3_NDJ  n3_DJ  n3_Feb  ...  \\\n",
       "season_year                                                      ...   \n",
       "1982        -0.300000  -0.220    -0.79 -0.086667  0.075    -0.0  ...   \n",
       "1983         2.946667   2.905     2.03  2.753333  2.930     2.3  ...   \n",
       "\n",
       "             pacwarmpool_Feb  censo_NDJ  censo_DJ  censo_Feb   dmi_NDJ  \\\n",
       "season_year                                                              \n",
       "1982                  -0.305  -0.166667    -0.175      -0.04 -0.067667   \n",
       "1983                  -0.153   2.503333     2.440       2.76 -0.120000   \n",
       "\n",
       "             dmi_DJ  dmi_Feb  PERSIST_SONprev_anom_mm  \\\n",
       "season_year                                             \n",
       "1982         0.0625    0.166                 1.067961   \n",
       "1983        -0.3220   -0.587                -0.035007   \n",
       "\n",
       "             PERSIST_ONDprev_anom_mm  PERSIST_DJF_anom_mm  \n",
       "season_year                                                \n",
       "1982                       -3.141819            -1.641512  \n",
       "1983                        5.855969            -0.308066  \n",
       "\n",
       "[2 rows x 34 columns]"
      ]
     },
     "execution_count": 37,
     "metadata": {},
     "output_type": "execute_result"
    }
   ],
   "source": [
    "MAM_table.head(2)\n"
   ]
  },
  {
   "cell_type": "code",
   "execution_count": 46,
   "id": "9421c066",
   "metadata": {},
   "outputs": [
    {
     "data": {
      "text/plain": [
       "(np.int64(1982), np.int64(2024))"
      ]
     },
     "execution_count": 46,
     "metadata": {},
     "output_type": "execute_result"
    }
   ],
   "source": [
    "MAM_table.index.min(), MAM_table.index.max()"
   ]
  },
  {
   "cell_type": "code",
   "execution_count": null,
   "id": "cf533474",
   "metadata": {},
   "outputs": [],
   "source": [
    "# Export final data tables as CSV files\n",
    "\n",
    "OND_table.to_csv(os.path.join(PROCESSED_DIR, \"uganda_OND_target_features_1981_2024.csv\"), index=True)\n",
    "MAM_table.to_csv(os.path.join(PROCESSED_DIR, \"uganda_MAM_target_features_1982_2024.csv\"), index=True)\n"
   ]
  },
  {
   "cell_type": "code",
   "execution_count": null,
   "id": "c809d55c",
   "metadata": {},
   "outputs": [],
   "source": []
  }
 ],
 "metadata": {
  "kernelspec": {
   "display_name": "seasonal_env",
   "language": "python",
   "name": "python3"
  },
  "language_info": {
   "codemirror_mode": {
    "name": "ipython",
    "version": 3
   },
   "file_extension": ".py",
   "mimetype": "text/x-python",
   "name": "python",
   "nbconvert_exporter": "python",
   "pygments_lexer": "ipython3",
   "version": "3.13.9"
  }
 },
 "nbformat": 4,
 "nbformat_minor": 5
}

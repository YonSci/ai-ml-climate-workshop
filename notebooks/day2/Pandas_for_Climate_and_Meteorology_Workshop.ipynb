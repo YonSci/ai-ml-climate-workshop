{
 "cells": [
  {
   "cell_type": "markdown",
   "metadata": {},
   "source": [
    "# Pandas for Climate Scientists & Meteorologists\n",
    "\n",
    "---\n",
    "A practical, beginner-friendly notebook that teaches Pandas using climate/weather examples.\n",
    "\n",
    "## Agenda\n",
    "\n",
    "- Learn the basics of the Pandas library.\n",
    "- Understand how to work with Series and DataFrames.\n",
    "- Perform data manipulation tasks like filtering, sorting, and aggregating.\n",
    "- Learn how to handle missing data."
   ]
  },
  {
   "cell_type": "markdown",
   "id": "ab0d4787",
   "metadata": {},
   "source": [
    "Introduction to Pandas:\n",
    "- `Pandas` is a powerful library for data manipulation and analysis.\n",
    "- The two main data structures are:\n",
    "  - `Series`: A one-dimensional labeled array.\n",
    "  - `DataFrame`: A two-dimensional table-like data structure.\n",
    "\n",
    "  ---"
   ]
  },
  {
   "cell_type": "code",
   "execution_count": 1,
   "id": "fa203b57",
   "metadata": {},
   "outputs": [],
   "source": [
    "# Set working directory \n",
    "\n",
    "import os\n",
    "os.chdir(\"c:\\\\Users\\\\yonas\\\\Documents\\\\ICPAC\\\\python-climate\")\n",
    "\n",
    "processed_data_dir = os.path.join(\"data\", \"processed\")\n",
    "raw_data_dir = os.path.join(\"data\", \"raw\")"
   ]
  },
  {
   "cell_type": "code",
   "execution_count": 4,
   "id": "0a5614fb",
   "metadata": {},
   "outputs": [],
   "source": [
    "import numpy as np\n",
    "import pandas as pd"
   ]
  },
  {
   "cell_type": "code",
   "execution_count": 33,
   "id": "fa5446ca",
   "metadata": {},
   "outputs": [
    {
     "name": "stdout",
     "output_type": "stream",
     "text": [
      "2.3.3\n"
     ]
    }
   ],
   "source": [
    "# Check the version of Pandas\n",
    "print(pd.__version__)"
   ]
  },
  {
   "cell_type": "markdown",
   "id": "ac529ab8",
   "metadata": {},
   "source": [
    "---\n",
    "## 1. Pandas Series\n",
    "- A `Series` is a one-dimensional array with labels (index).\n",
    "- It is similar to a column in a spreadsheet."
   ]
  },
  {
   "cell_type": "code",
   "execution_count": 34,
   "id": "d2360605",
   "metadata": {},
   "outputs": [
    {
     "name": "stdout",
     "output_type": "stream",
     "text": [
      "A    10\n",
      "B    20\n",
      "C    30\n",
      "D    40\n",
      "dtype: int64\n"
     ]
    }
   ],
   "source": [
    "# Create a Series from a list\n",
    "data = [10, 20, 30, 40]\n",
    "series = pd.Series(data, index=[\"A\", \"B\", \"C\", \"D\"])\n",
    "print(series)"
   ]
  },
  {
   "cell_type": "code",
   "execution_count": 35,
   "id": "d39b39df",
   "metadata": {},
   "outputs": [
    {
     "name": "stdout",
     "output_type": "stream",
     "text": [
      "20\n"
     ]
    }
   ],
   "source": [
    "# Accessing elements in a Series\n",
    "print(series[\"B\"])  # Output: 20"
   ]
  },
  {
   "cell_type": "markdown",
   "id": "38457e17",
   "metadata": {},
   "source": [
    "---\n",
    "\n",
    "## 2. Pandas DataFrame\n",
    "- A DataFrame is a two-dimensional structure with rows and columns.\n",
    "\n",
    "- Think of it as a table in a database or an Excel sheet.\n",
    "\n",
    "- Create a DataFrame from a dictionary."
   ]
  },
  {
   "cell_type": "code",
   "execution_count": 50,
   "id": "28b199d8",
   "metadata": {},
   "outputs": [
    {
     "data": {
      "text/html": [
       "<div>\n",
       "<style scoped>\n",
       "    .dataframe tbody tr th:only-of-type {\n",
       "        vertical-align: middle;\n",
       "    }\n",
       "\n",
       "    .dataframe tbody tr th {\n",
       "        vertical-align: top;\n",
       "    }\n",
       "\n",
       "    .dataframe thead th {\n",
       "        text-align: right;\n",
       "    }\n",
       "</style>\n",
       "<table border=\"1\" class=\"dataframe\">\n",
       "  <thead>\n",
       "    <tr style=\"text-align: right;\">\n",
       "      <th></th>\n",
       "      <th>Name</th>\n",
       "      <th>Age</th>\n",
       "      <th>City</th>\n",
       "    </tr>\n",
       "  </thead>\n",
       "  <tbody>\n",
       "    <tr>\n",
       "      <th>0</th>\n",
       "      <td>Alice</td>\n",
       "      <td>25</td>\n",
       "      <td>New York</td>\n",
       "    </tr>\n",
       "    <tr>\n",
       "      <th>1</th>\n",
       "      <td>Bob</td>\n",
       "      <td>30</td>\n",
       "      <td>Los Angeles</td>\n",
       "    </tr>\n",
       "    <tr>\n",
       "      <th>2</th>\n",
       "      <td>Charlie</td>\n",
       "      <td>35</td>\n",
       "      <td>Chicago</td>\n",
       "    </tr>\n",
       "  </tbody>\n",
       "</table>\n",
       "</div>"
      ],
      "text/plain": [
       "      Name  Age         City\n",
       "0    Alice   25     New York\n",
       "1      Bob   30  Los Angeles\n",
       "2  Charlie   35      Chicago"
      ]
     },
     "execution_count": 50,
     "metadata": {},
     "output_type": "execute_result"
    }
   ],
   "source": [
    "data = {\n",
    "    \"Name\": [\"Alice\", \"Bob\", \"Charlie\"],\n",
    "    \"Age\": [25, 30, 35],\n",
    "    \"City\": [\"New York\", \"Los Angeles\", \"Chicago\"]\n",
    "}\n",
    "\n",
    "df = pd.DataFrame(data)\n",
    "df"
   ]
  },
  {
   "cell_type": "markdown",
   "id": "8aa74e42",
   "metadata": {},
   "source": [
    "### Viewing DataFrame\n",
    "\n",
    "- Use DataFrame.head() and DataFrame.tail() to view the top and bottom rows of the frame respectively."
   ]
  },
  {
   "cell_type": "code",
   "execution_count": null,
   "id": "41da3878",
   "metadata": {},
   "outputs": [
    {
     "data": {
      "text/html": [
       "<div>\n",
       "<style scoped>\n",
       "    .dataframe tbody tr th:only-of-type {\n",
       "        vertical-align: middle;\n",
       "    }\n",
       "\n",
       "    .dataframe tbody tr th {\n",
       "        vertical-align: top;\n",
       "    }\n",
       "\n",
       "    .dataframe thead th {\n",
       "        text-align: right;\n",
       "    }\n",
       "</style>\n",
       "<table border=\"1\" class=\"dataframe\">\n",
       "  <thead>\n",
       "    <tr style=\"text-align: right;\">\n",
       "      <th></th>\n",
       "      <th>Name</th>\n",
       "      <th>Age</th>\n",
       "      <th>City</th>\n",
       "    </tr>\n",
       "  </thead>\n",
       "  <tbody>\n",
       "    <tr>\n",
       "      <th>0</th>\n",
       "      <td>Alice</td>\n",
       "      <td>25</td>\n",
       "      <td>New York</td>\n",
       "    </tr>\n",
       "    <tr>\n",
       "      <th>1</th>\n",
       "      <td>Bob</td>\n",
       "      <td>30</td>\n",
       "      <td>Los Angeles</td>\n",
       "    </tr>\n",
       "  </tbody>\n",
       "</table>\n",
       "</div>"
      ],
      "text/plain": [
       "    Name  Age         City\n",
       "0  Alice   25     New York\n",
       "1    Bob   30  Los Angeles"
      ]
     },
     "execution_count": 38,
     "metadata": {},
     "output_type": "execute_result"
    }
   ],
   "source": [
    "# Print the head of the DataFrame\n",
    "df.head(2)"
   ]
  },
  {
   "cell_type": "code",
   "execution_count": 39,
   "id": "d114e0ef",
   "metadata": {},
   "outputs": [
    {
     "data": {
      "text/html": [
       "<div>\n",
       "<style scoped>\n",
       "    .dataframe tbody tr th:only-of-type {\n",
       "        vertical-align: middle;\n",
       "    }\n",
       "\n",
       "    .dataframe tbody tr th {\n",
       "        vertical-align: top;\n",
       "    }\n",
       "\n",
       "    .dataframe thead th {\n",
       "        text-align: right;\n",
       "    }\n",
       "</style>\n",
       "<table border=\"1\" class=\"dataframe\">\n",
       "  <thead>\n",
       "    <tr style=\"text-align: right;\">\n",
       "      <th></th>\n",
       "      <th>Name</th>\n",
       "      <th>Age</th>\n",
       "      <th>City</th>\n",
       "    </tr>\n",
       "  </thead>\n",
       "  <tbody>\n",
       "    <tr>\n",
       "      <th>1</th>\n",
       "      <td>Bob</td>\n",
       "      <td>30</td>\n",
       "      <td>Los Angeles</td>\n",
       "    </tr>\n",
       "    <tr>\n",
       "      <th>2</th>\n",
       "      <td>Charlie</td>\n",
       "      <td>35</td>\n",
       "      <td>Chicago</td>\n",
       "    </tr>\n",
       "  </tbody>\n",
       "</table>\n",
       "</div>"
      ],
      "text/plain": [
       "      Name  Age         City\n",
       "1      Bob   30  Los Angeles\n",
       "2  Charlie   35      Chicago"
      ]
     },
     "execution_count": 39,
     "metadata": {},
     "output_type": "execute_result"
    }
   ],
   "source": [
    "# Print the tail of the DataFrame\n",
    "df.tail(2)"
   ]
  },
  {
   "cell_type": "markdown",
   "id": "cc68fbb2",
   "metadata": {},
   "source": [
    "### Display DataFrame information"
   ]
  },
  {
   "cell_type": "code",
   "execution_count": 40,
   "id": "8418237e",
   "metadata": {},
   "outputs": [
    {
     "name": "stdout",
     "output_type": "stream",
     "text": [
      "<class 'pandas.core.frame.DataFrame'>\n",
      "RangeIndex: 3 entries, 0 to 2\n",
      "Data columns (total 3 columns):\n",
      " #   Column  Non-Null Count  Dtype \n",
      "---  ------  --------------  ----- \n",
      " 0   Name    3 non-null      object\n",
      " 1   Age     3 non-null      int64 \n",
      " 2   City    3 non-null      object\n",
      "dtypes: int64(1), object(2)\n",
      "memory usage: 204.0+ bytes\n"
     ]
    }
   ],
   "source": [
    "df.info()"
   ]
  },
  {
   "cell_type": "markdown",
   "id": "88ab33f3",
   "metadata": {},
   "source": [
    "### Display the data types"
   ]
  },
  {
   "cell_type": "code",
   "execution_count": 41,
   "id": "c5d2987f",
   "metadata": {},
   "outputs": [
    {
     "data": {
      "text/plain": [
       "Name    object\n",
       "Age      int64\n",
       "City    object\n",
       "dtype: object"
      ]
     },
     "execution_count": 41,
     "metadata": {},
     "output_type": "execute_result"
    }
   ],
   "source": [
    "df.dtypes"
   ]
  },
  {
   "cell_type": "markdown",
   "id": "4f041938",
   "metadata": {},
   "source": [
    "###  Display statistical summary of DataFrame"
   ]
  },
  {
   "cell_type": "code",
   "execution_count": 42,
   "id": "d9957f7c",
   "metadata": {},
   "outputs": [
    {
     "data": {
      "text/html": [
       "<div>\n",
       "<style scoped>\n",
       "    .dataframe tbody tr th:only-of-type {\n",
       "        vertical-align: middle;\n",
       "    }\n",
       "\n",
       "    .dataframe tbody tr th {\n",
       "        vertical-align: top;\n",
       "    }\n",
       "\n",
       "    .dataframe thead th {\n",
       "        text-align: right;\n",
       "    }\n",
       "</style>\n",
       "<table border=\"1\" class=\"dataframe\">\n",
       "  <thead>\n",
       "    <tr style=\"text-align: right;\">\n",
       "      <th></th>\n",
       "      <th>Age</th>\n",
       "    </tr>\n",
       "  </thead>\n",
       "  <tbody>\n",
       "    <tr>\n",
       "      <th>count</th>\n",
       "      <td>3.0</td>\n",
       "    </tr>\n",
       "    <tr>\n",
       "      <th>mean</th>\n",
       "      <td>30.0</td>\n",
       "    </tr>\n",
       "    <tr>\n",
       "      <th>std</th>\n",
       "      <td>5.0</td>\n",
       "    </tr>\n",
       "    <tr>\n",
       "      <th>min</th>\n",
       "      <td>25.0</td>\n",
       "    </tr>\n",
       "    <tr>\n",
       "      <th>25%</th>\n",
       "      <td>27.5</td>\n",
       "    </tr>\n",
       "    <tr>\n",
       "      <th>50%</th>\n",
       "      <td>30.0</td>\n",
       "    </tr>\n",
       "    <tr>\n",
       "      <th>75%</th>\n",
       "      <td>32.5</td>\n",
       "    </tr>\n",
       "    <tr>\n",
       "      <th>max</th>\n",
       "      <td>35.0</td>\n",
       "    </tr>\n",
       "  </tbody>\n",
       "</table>\n",
       "</div>"
      ],
      "text/plain": [
       "        Age\n",
       "count   3.0\n",
       "mean   30.0\n",
       "std     5.0\n",
       "min    25.0\n",
       "25%    27.5\n",
       "50%    30.0\n",
       "75%    32.5\n",
       "max    35.0"
      ]
     },
     "execution_count": 42,
     "metadata": {},
     "output_type": "execute_result"
    }
   ],
   "source": [
    "df.describe()"
   ]
  },
  {
   "cell_type": "markdown",
   "id": "adc5eb76",
   "metadata": {},
   "source": [
    "### Display the DataFrame index and columns\n",
    "\n",
    "- Use `DataFrame.index` or `DataFrame.columns` to get the DataFrame index and columns\n",
    "\n",
    "- Get the DataFrame index"
   ]
  },
  {
   "cell_type": "code",
   "execution_count": 43,
   "id": "ecac2627",
   "metadata": {},
   "outputs": [
    {
     "data": {
      "text/plain": [
       "RangeIndex(start=0, stop=3, step=1)"
      ]
     },
     "execution_count": 43,
     "metadata": {},
     "output_type": "execute_result"
    }
   ],
   "source": [
    "df.index"
   ]
  },
  {
   "cell_type": "markdown",
   "id": "003d4536",
   "metadata": {},
   "source": [
    "### Get the DataFrame columns"
   ]
  },
  {
   "cell_type": "code",
   "execution_count": 44,
   "id": "d76cd642",
   "metadata": {},
   "outputs": [
    {
     "data": {
      "text/plain": [
       "Index(['Name', 'Age', 'City'], dtype='object')"
      ]
     },
     "execution_count": 44,
     "metadata": {},
     "output_type": "execute_result"
    }
   ],
   "source": [
    "df.columns"
   ]
  },
  {
   "cell_type": "markdown",
   "id": "ae09afea",
   "metadata": {},
   "source": [
    "### Accessing a DataFrame"
   ]
  },
  {
   "cell_type": "code",
   "execution_count": 47,
   "id": "25fbf81f",
   "metadata": {},
   "outputs": [
    {
     "data": {
      "text/plain": [
       "0      Alice\n",
       "1        Bob\n",
       "2    Charlie\n",
       "Name: Name, dtype: object"
      ]
     },
     "execution_count": 47,
     "metadata": {},
     "output_type": "execute_result"
    }
   ],
   "source": [
    "# Accessing a column\n",
    "df[\"Name\"]"
   ]
  },
  {
   "cell_type": "code",
   "execution_count": 48,
   "id": "94f2fbf5",
   "metadata": {},
   "outputs": [
    {
     "data": {
      "text/plain": [
       "Name            Bob\n",
       "Age              30\n",
       "City    Los Angeles\n",
       "Name: 1, dtype: object"
      ]
     },
     "execution_count": 48,
     "metadata": {},
     "output_type": "execute_result"
    }
   ],
   "source": [
    "# Accessing rows using loc\n",
    "df.loc[1]"
   ]
  },
  {
   "cell_type": "code",
   "execution_count": 51,
   "id": "7889aa76",
   "metadata": {},
   "outputs": [
    {
     "data": {
      "text/plain": [
       "Name    Charlie\n",
       "Age          35\n",
       "City    Chicago\n",
       "Name: 2, dtype: object"
      ]
     },
     "execution_count": 51,
     "metadata": {},
     "output_type": "execute_result"
    }
   ],
   "source": [
    "# Accessing rows using iloc\n",
    "df.iloc[2] "
   ]
  },
  {
   "cell_type": "markdown",
   "metadata": {},
   "source": [
    "### Adding New Columns"
   ]
  },
  {
   "cell_type": "code",
   "execution_count": 52,
   "id": "53ea1522",
   "metadata": {},
   "outputs": [
    {
     "data": {
      "text/html": [
       "<div>\n",
       "<style scoped>\n",
       "    .dataframe tbody tr th:only-of-type {\n",
       "        vertical-align: middle;\n",
       "    }\n",
       "\n",
       "    .dataframe tbody tr th {\n",
       "        vertical-align: top;\n",
       "    }\n",
       "\n",
       "    .dataframe thead th {\n",
       "        text-align: right;\n",
       "    }\n",
       "</style>\n",
       "<table border=\"1\" class=\"dataframe\">\n",
       "  <thead>\n",
       "    <tr style=\"text-align: right;\">\n",
       "      <th></th>\n",
       "      <th>Name</th>\n",
       "      <th>Age</th>\n",
       "      <th>City</th>\n",
       "      <th>Experience</th>\n",
       "    </tr>\n",
       "  </thead>\n",
       "  <tbody>\n",
       "    <tr>\n",
       "      <th>0</th>\n",
       "      <td>Alice</td>\n",
       "      <td>25</td>\n",
       "      <td>New York</td>\n",
       "      <td>2</td>\n",
       "    </tr>\n",
       "    <tr>\n",
       "      <th>1</th>\n",
       "      <td>Bob</td>\n",
       "      <td>30</td>\n",
       "      <td>Los Angeles</td>\n",
       "      <td>2</td>\n",
       "    </tr>\n",
       "    <tr>\n",
       "      <th>2</th>\n",
       "      <td>Charlie</td>\n",
       "      <td>35</td>\n",
       "      <td>Chicago</td>\n",
       "      <td>2</td>\n",
       "    </tr>\n",
       "  </tbody>\n",
       "</table>\n",
       "</div>"
      ],
      "text/plain": [
       "      Name  Age         City  Experience\n",
       "0    Alice   25     New York           2\n",
       "1      Bob   30  Los Angeles           2\n",
       "2  Charlie   35      Chicago           2"
      ]
     },
     "execution_count": 52,
     "metadata": {},
     "output_type": "execute_result"
    }
   ],
   "source": [
    "df['Experience'] = np.random.randint(1, 5, size=len(df))\n",
    "\n",
    "df.head()"
   ]
  },
  {
   "cell_type": "markdown",
   "id": "53ba50ab",
   "metadata": {},
   "source": [
    "### Dropping Columns\n",
    "\n",
    "- Use the drop() method to remove columns.\n",
    "\n",
    "- Specify axis=1 to indicate columns.\n",
    "\n",
    "- Use inplace=True to modify the DataFrame directly (optional)."
   ]
  },
  {
   "cell_type": "code",
   "execution_count": 53,
   "id": "eb05a34a",
   "metadata": {},
   "outputs": [
    {
     "data": {
      "text/html": [
       "<div>\n",
       "<style scoped>\n",
       "    .dataframe tbody tr th:only-of-type {\n",
       "        vertical-align: middle;\n",
       "    }\n",
       "\n",
       "    .dataframe tbody tr th {\n",
       "        vertical-align: top;\n",
       "    }\n",
       "\n",
       "    .dataframe thead th {\n",
       "        text-align: right;\n",
       "    }\n",
       "</style>\n",
       "<table border=\"1\" class=\"dataframe\">\n",
       "  <thead>\n",
       "    <tr style=\"text-align: right;\">\n",
       "      <th></th>\n",
       "      <th>Name</th>\n",
       "      <th>Age</th>\n",
       "      <th>Experience</th>\n",
       "    </tr>\n",
       "  </thead>\n",
       "  <tbody>\n",
       "    <tr>\n",
       "      <th>0</th>\n",
       "      <td>Alice</td>\n",
       "      <td>25</td>\n",
       "      <td>2</td>\n",
       "    </tr>\n",
       "    <tr>\n",
       "      <th>1</th>\n",
       "      <td>Bob</td>\n",
       "      <td>30</td>\n",
       "      <td>2</td>\n",
       "    </tr>\n",
       "    <tr>\n",
       "      <th>2</th>\n",
       "      <td>Charlie</td>\n",
       "      <td>35</td>\n",
       "      <td>2</td>\n",
       "    </tr>\n",
       "  </tbody>\n",
       "</table>\n",
       "</div>"
      ],
      "text/plain": [
       "      Name  Age  Experience\n",
       "0    Alice   25           2\n",
       "1      Bob   30           2\n",
       "2  Charlie   35           2"
      ]
     },
     "execution_count": 53,
     "metadata": {},
     "output_type": "execute_result"
    }
   ],
   "source": [
    "# Dropping a Single Column\n",
    "df_dropped = df.drop(\"City\", axis=1)\n",
    "df_dropped"
   ]
  },
  {
   "cell_type": "code",
   "execution_count": 54,
   "id": "af92fa79",
   "metadata": {},
   "outputs": [
    {
     "data": {
      "text/html": [
       "<div>\n",
       "<style scoped>\n",
       "    .dataframe tbody tr th:only-of-type {\n",
       "        vertical-align: middle;\n",
       "    }\n",
       "\n",
       "    .dataframe tbody tr th {\n",
       "        vertical-align: top;\n",
       "    }\n",
       "\n",
       "    .dataframe thead th {\n",
       "        text-align: right;\n",
       "    }\n",
       "</style>\n",
       "<table border=\"1\" class=\"dataframe\">\n",
       "  <thead>\n",
       "    <tr style=\"text-align: right;\">\n",
       "      <th></th>\n",
       "      <th>Name</th>\n",
       "      <th>Age</th>\n",
       "      <th>Experience</th>\n",
       "    </tr>\n",
       "  </thead>\n",
       "  <tbody>\n",
       "    <tr>\n",
       "      <th>0</th>\n",
       "      <td>Alice</td>\n",
       "      <td>25</td>\n",
       "      <td>2</td>\n",
       "    </tr>\n",
       "    <tr>\n",
       "      <th>1</th>\n",
       "      <td>Bob</td>\n",
       "      <td>30</td>\n",
       "      <td>2</td>\n",
       "    </tr>\n",
       "    <tr>\n",
       "      <th>2</th>\n",
       "      <td>Charlie</td>\n",
       "      <td>35</td>\n",
       "      <td>2</td>\n",
       "    </tr>\n",
       "  </tbody>\n",
       "</table>\n",
       "</div>"
      ],
      "text/plain": [
       "      Name  Age  Experience\n",
       "0    Alice   25           2\n",
       "1      Bob   30           2\n",
       "2  Charlie   35           2"
      ]
     },
     "execution_count": 54,
     "metadata": {},
     "output_type": "execute_result"
    }
   ],
   "source": [
    "# Alternatively, drop in place (modifies the original DataFrame)\n",
    "df.drop(\"City\", axis=1, inplace=True)\n",
    "df"
   ]
  },
  {
   "cell_type": "code",
   "execution_count": 55,
   "id": "58d4c37b",
   "metadata": {},
   "outputs": [
    {
     "data": {
      "text/html": [
       "<div>\n",
       "<style scoped>\n",
       "    .dataframe tbody tr th:only-of-type {\n",
       "        vertical-align: middle;\n",
       "    }\n",
       "\n",
       "    .dataframe tbody tr th {\n",
       "        vertical-align: top;\n",
       "    }\n",
       "\n",
       "    .dataframe thead th {\n",
       "        text-align: right;\n",
       "    }\n",
       "</style>\n",
       "<table border=\"1\" class=\"dataframe\">\n",
       "  <thead>\n",
       "    <tr style=\"text-align: right;\">\n",
       "      <th></th>\n",
       "      <th>Name</th>\n",
       "      <th>Age</th>\n",
       "      <th>City</th>\n",
       "    </tr>\n",
       "  </thead>\n",
       "  <tbody>\n",
       "    <tr>\n",
       "      <th>1</th>\n",
       "      <td>Bob</td>\n",
       "      <td>30</td>\n",
       "      <td>Los Angeles</td>\n",
       "    </tr>\n",
       "  </tbody>\n",
       "</table>\n",
       "</div>"
      ],
      "text/plain": [
       "  Name  Age         City\n",
       "1  Bob   30  Los Angeles"
      ]
     },
     "execution_count": 55,
     "metadata": {},
     "output_type": "execute_result"
    }
   ],
   "source": [
    "# Drop multiple rows\n",
    "df = pd.DataFrame(data)  # Recreate the original DataFrame\n",
    "df_dropped = df.drop([0, 2], axis=0)\n",
    "df_dropped"
   ]
  },
  {
   "cell_type": "markdown",
   "id": "a3815fb6",
   "metadata": {},
   "source": [
    "---\n",
    "\n",
    "## 4. Synthetic climate dataset (multi-station, 5 years daily)"
   ]
  },
  {
   "cell_type": "code",
   "execution_count": 5,
   "id": "af2667ea",
   "metadata": {},
   "outputs": [],
   "source": [
    "# Initializing random number generator and station data\n",
    "rng = np.random.default_rng(42)\n",
    "\n",
    "# Station metadata: (Station ID, Name, Latitude, Longitude)\n",
    "stations = [\n",
    "    (\"ADD\", \"Addis Ababa\",      9.03,   38.74),\n",
    "    (\"NBO\", \"Nairobi\",         -1.286,  36.817),\n",
    "    (\"KRT\", \"Khartoum\",        15.500,  32.560),\n",
    "    (\"DAR\", \"Dar es Salaam\",   -6.792,  39.208),\n",
    "    (\"MOG\", \"Mogadishu\",        2.046,  45.318),\n",
    "]"
   ]
  },
  {
   "cell_type": "code",
   "execution_count": 7,
   "id": "82a94eb1",
   "metadata": {},
   "outputs": [
    {
     "data": {
      "text/plain": [
       "DatetimeIndex(['2015-01-01', '2015-01-02', '2015-01-03', '2015-01-04',\n",
       "               '2015-01-05', '2015-01-06', '2015-01-07', '2015-01-08',\n",
       "               '2015-01-09', '2015-01-10',\n",
       "               ...\n",
       "               '2019-12-22', '2019-12-23', '2019-12-24', '2019-12-25',\n",
       "               '2019-12-26', '2019-12-27', '2019-12-28', '2019-12-29',\n",
       "               '2019-12-30', '2019-12-31'],\n",
       "              dtype='datetime64[ns]', length=1826, freq='D')"
      ]
     },
     "execution_count": 7,
     "metadata": {},
     "output_type": "execute_result"
    }
   ],
   "source": [
    "dates = pd.date_range(\"2015-01-01\", \"2019-12-31\", freq=\"D\")\n",
    "dates"
   ]
  },
  {
   "cell_type": "code",
   "execution_count": 76,
   "metadata": {},
   "outputs": [
    {
     "data": {
      "text/html": [
       "<div>\n",
       "<style scoped>\n",
       "    .dataframe tbody tr th:only-of-type {\n",
       "        vertical-align: middle;\n",
       "    }\n",
       "\n",
       "    .dataframe tbody tr th {\n",
       "        vertical-align: top;\n",
       "    }\n",
       "\n",
       "    .dataframe thead th {\n",
       "        text-align: right;\n",
       "    }\n",
       "</style>\n",
       "<table border=\"1\" class=\"dataframe\">\n",
       "  <thead>\n",
       "    <tr style=\"text-align: right;\">\n",
       "      <th></th>\n",
       "      <th>station_id</th>\n",
       "      <th>station_name</th>\n",
       "      <th>lat</th>\n",
       "      <th>lon</th>\n",
       "      <th>t2m_c</th>\n",
       "      <th>precip_mm</th>\n",
       "      <th>wind_ms</th>\n",
       "      <th>rh_pct</th>\n",
       "    </tr>\n",
       "    <tr>\n",
       "      <th>date</th>\n",
       "      <th></th>\n",
       "      <th></th>\n",
       "      <th></th>\n",
       "      <th></th>\n",
       "      <th></th>\n",
       "      <th></th>\n",
       "      <th></th>\n",
       "      <th></th>\n",
       "    </tr>\n",
       "  </thead>\n",
       "  <tbody>\n",
       "    <tr>\n",
       "      <th>2015-01-01</th>\n",
       "      <td>ADD</td>\n",
       "      <td>Addis Ababa</td>\n",
       "      <td>9.030</td>\n",
       "      <td>38.740</td>\n",
       "      <td>23.492607</td>\n",
       "      <td>0.0</td>\n",
       "      <td>3.828286</td>\n",
       "      <td>62.610573</td>\n",
       "    </tr>\n",
       "    <tr>\n",
       "      <th>2015-01-01</th>\n",
       "      <td>MOG</td>\n",
       "      <td>Mogadishu</td>\n",
       "      <td>2.046</td>\n",
       "      <td>45.318</td>\n",
       "      <td>25.061257</td>\n",
       "      <td>0.0</td>\n",
       "      <td>1.512537</td>\n",
       "      <td>59.372599</td>\n",
       "    </tr>\n",
       "    <tr>\n",
       "      <th>2015-01-01</th>\n",
       "      <td>NBO</td>\n",
       "      <td>Nairobi</td>\n",
       "      <td>-1.286</td>\n",
       "      <td>36.817</td>\n",
       "      <td>26.761467</td>\n",
       "      <td>0.0</td>\n",
       "      <td>5.396700</td>\n",
       "      <td>46.460131</td>\n",
       "    </tr>\n",
       "    <tr>\n",
       "      <th>2015-01-01</th>\n",
       "      <td>KRT</td>\n",
       "      <td>Khartoum</td>\n",
       "      <td>15.500</td>\n",
       "      <td>32.560</td>\n",
       "      <td>23.538721</td>\n",
       "      <td>0.0</td>\n",
       "      <td>2.196587</td>\n",
       "      <td>51.063869</td>\n",
       "    </tr>\n",
       "    <tr>\n",
       "      <th>2015-01-01</th>\n",
       "      <td>DAR</td>\n",
       "      <td>Dar es Salaam</td>\n",
       "      <td>-6.792</td>\n",
       "      <td>39.208</td>\n",
       "      <td>27.539051</td>\n",
       "      <td>0.0</td>\n",
       "      <td>2.585994</td>\n",
       "      <td>55.125804</td>\n",
       "    </tr>\n",
       "  </tbody>\n",
       "</table>\n",
       "</div>"
      ],
      "text/plain": [
       "           station_id   station_name     lat     lon      t2m_c  precip_mm  \\\n",
       "date                                                                         \n",
       "2015-01-01        ADD    Addis Ababa   9.030  38.740  23.492607        0.0   \n",
       "2015-01-01        MOG      Mogadishu   2.046  45.318  25.061257        0.0   \n",
       "2015-01-01        NBO        Nairobi  -1.286  36.817  26.761467        0.0   \n",
       "2015-01-01        KRT       Khartoum  15.500  32.560  23.538721        0.0   \n",
       "2015-01-01        DAR  Dar es Salaam  -6.792  39.208  27.539051        0.0   \n",
       "\n",
       "             wind_ms     rh_pct  \n",
       "date                             \n",
       "2015-01-01  3.828286  62.610573  \n",
       "2015-01-01  1.512537  59.372599  \n",
       "2015-01-01  5.396700  46.460131  \n",
       "2015-01-01  2.196587  51.063869  \n",
       "2015-01-01  2.585994  55.125804  "
      ]
     },
     "execution_count": 76,
     "metadata": {},
     "output_type": "execute_result"
    }
   ],
   "source": [
    "\n",
    "\n",
    "rows = []\n",
    "for sid, name, lat, lon in stations:\n",
    "    doy = dates.dayofyear.values\n",
    "    season = 6*np.sin(2*np.pi*(doy-1)/365.0)\n",
    "    lat_grad = 0.2*(10 - lat)\n",
    "    temp = 24 + season + lat_grad + rng.normal(0,1.0,len(dates))\n",
    "    season_r = 2 + 2*np.sin(2*np.pi*(doy-30)/365.0) + 1.5*np.sin(4*np.pi*(doy-30)/365.0)\n",
    "    precip = rng.gamma(1.2, np.clip(season_r,0.2,None), size=len(dates))\n",
    "    precip = np.maximum(precip - 1.5, 0)\n",
    "    wind = np.abs(rng.normal(4.0,1.5,len(dates)))\n",
    "    rh = np.clip(65 + 10*np.sin(2*np.pi*(doy-100)/365.0) + rng.normal(0,5,len(dates)), 20, 100)\n",
    "    df_s = pd.DataFrame({\n",
    "        \"date\": dates, \"station_id\": sid, \"station_name\": name, \"lat\": lat, \"lon\": lon,\n",
    "        \"t2m_c\": temp, \"precip_mm\": precip, \"wind_ms\": wind, \"rh_pct\": rh\n",
    "    })\n",
    "    rows.append(df_s)\n",
    "df = pd.concat(rows, ignore_index=True).set_index(\"date\").sort_index()\n",
    "df.head()\n"
   ]
  },
  {
   "cell_type": "markdown",
   "metadata": {},
   "source": [
    "---\n",
    "\n",
    "### Pandas Series"
   ]
  },
  {
   "cell_type": "code",
   "execution_count": 9,
   "metadata": {},
   "outputs": [
    {
     "data": {
      "text/plain": [
       "(count    1826.000000\n",
       " mean        1.598806\n",
       " std         3.167576\n",
       " min         0.000000\n",
       " 25%         0.000000\n",
       " 50%         0.000000\n",
       " 75%         1.880291\n",
       " max        39.516660\n",
       " Name: precip_mm, dtype: float64,\n",
       " date\n",
       " 2015-01-01    0.0\n",
       " 2015-01-02    0.0\n",
       " 2015-01-03    0.0\n",
       " 2015-01-04    0.0\n",
       " 2015-01-05    0.0\n",
       " Name: precip_mm, dtype: float64)"
      ]
     },
     "execution_count": 9,
     "metadata": {},
     "output_type": "execute_result"
    }
   ],
   "source": [
    "precip_add = df.loc[df[\"station_id\"]==\"ADD\", \"precip_mm\"]\n",
    "precip_add.describe(), precip_add.head()"
   ]
  },
  {
   "cell_type": "markdown",
   "metadata": {},
   "source": [
    "## Pandas DataFrame"
   ]
  },
  {
   "cell_type": "code",
   "execution_count": 84,
   "metadata": {},
   "outputs": [
    {
     "data": {
      "text/html": [
       "<div>\n",
       "<style scoped>\n",
       "    .dataframe tbody tr th:only-of-type {\n",
       "        vertical-align: middle;\n",
       "    }\n",
       "\n",
       "    .dataframe tbody tr th {\n",
       "        vertical-align: top;\n",
       "    }\n",
       "\n",
       "    .dataframe thead th {\n",
       "        text-align: right;\n",
       "    }\n",
       "</style>\n",
       "<table border=\"1\" class=\"dataframe\">\n",
       "  <thead>\n",
       "    <tr style=\"text-align: right;\">\n",
       "      <th></th>\n",
       "      <th>station_id</th>\n",
       "      <th>station_name</th>\n",
       "      <th>latitude</th>\n",
       "      <th>longitude</th>\n",
       "      <th>t2m_c</th>\n",
       "      <th>precip_mm</th>\n",
       "      <th>wind_ms</th>\n",
       "      <th>rh_pct</th>\n",
       "    </tr>\n",
       "    <tr>\n",
       "      <th>date</th>\n",
       "      <th></th>\n",
       "      <th></th>\n",
       "      <th></th>\n",
       "      <th></th>\n",
       "      <th></th>\n",
       "      <th></th>\n",
       "      <th></th>\n",
       "      <th></th>\n",
       "    </tr>\n",
       "  </thead>\n",
       "  <tbody>\n",
       "    <tr>\n",
       "      <th>2017-03-10</th>\n",
       "      <td>DAR</td>\n",
       "      <td>Dar es Salaam</td>\n",
       "      <td>-6.792</td>\n",
       "      <td>39.208</td>\n",
       "      <td>33.341576</td>\n",
       "      <td>2.085262</td>\n",
       "      <td>5.681299</td>\n",
       "      <td>56.673766</td>\n",
       "    </tr>\n",
       "    <tr>\n",
       "      <th>2019-03-24</th>\n",
       "      <td>ADD</td>\n",
       "      <td>Addis Ababa</td>\n",
       "      <td>9.030</td>\n",
       "      <td>38.740</td>\n",
       "      <td>30.115611</td>\n",
       "      <td>4.235970</td>\n",
       "      <td>6.746884</td>\n",
       "      <td>46.397766</td>\n",
       "    </tr>\n",
       "    <tr>\n",
       "      <th>2016-09-04</th>\n",
       "      <td>KRT</td>\n",
       "      <td>Khartoum</td>\n",
       "      <td>15.500</td>\n",
       "      <td>32.560</td>\n",
       "      <td>17.238317</td>\n",
       "      <td>0.445245</td>\n",
       "      <td>3.434693</td>\n",
       "      <td>79.932452</td>\n",
       "    </tr>\n",
       "    <tr>\n",
       "      <th>2019-11-05</th>\n",
       "      <td>ADD</td>\n",
       "      <td>Addis Ababa</td>\n",
       "      <td>9.030</td>\n",
       "      <td>38.740</td>\n",
       "      <td>19.031074</td>\n",
       "      <td>0.000000</td>\n",
       "      <td>4.880244</td>\n",
       "      <td>64.469575</td>\n",
       "    </tr>\n",
       "    <tr>\n",
       "      <th>2017-01-06</th>\n",
       "      <td>NBO</td>\n",
       "      <td>Nairobi</td>\n",
       "      <td>-1.286</td>\n",
       "      <td>36.817</td>\n",
       "      <td>27.216106</td>\n",
       "      <td>0.000000</td>\n",
       "      <td>5.269936</td>\n",
       "      <td>53.219116</td>\n",
       "    </tr>\n",
       "  </tbody>\n",
       "</table>\n",
       "</div>"
      ],
      "text/plain": [
       "           station_id   station_name  latitude  longitude      t2m_c  \\\n",
       "date                                                                   \n",
       "2017-03-10        DAR  Dar es Salaam    -6.792     39.208  33.341576   \n",
       "2019-03-24        ADD    Addis Ababa     9.030     38.740  30.115611   \n",
       "2016-09-04        KRT       Khartoum    15.500     32.560  17.238317   \n",
       "2019-11-05        ADD    Addis Ababa     9.030     38.740  19.031074   \n",
       "2017-01-06        NBO        Nairobi    -1.286     36.817  27.216106   \n",
       "\n",
       "            precip_mm   wind_ms     rh_pct  \n",
       "date                                        \n",
       "2017-03-10   2.085262  5.681299  56.673766  \n",
       "2019-03-24   4.235970  6.746884  46.397766  \n",
       "2016-09-04   0.445245  3.434693  79.932452  \n",
       "2019-11-05   0.000000  4.880244  64.469575  \n",
       "2017-01-06   0.000000  5.269936  53.219116  "
      ]
     },
     "execution_count": 84,
     "metadata": {},
     "output_type": "execute_result"
    }
   ],
   "source": [
    "df.sample(5)"
   ]
  },
  {
   "cell_type": "markdown",
   "metadata": {},
   "source": [
    "## Viewing DataFrame"
   ]
  },
  {
   "cell_type": "code",
   "execution_count": 82,
   "metadata": {},
   "outputs": [
    {
     "data": {
      "text/html": [
       "<div>\n",
       "<style scoped>\n",
       "    .dataframe tbody tr th:only-of-type {\n",
       "        vertical-align: middle;\n",
       "    }\n",
       "\n",
       "    .dataframe tbody tr th {\n",
       "        vertical-align: top;\n",
       "    }\n",
       "\n",
       "    .dataframe thead th {\n",
       "        text-align: right;\n",
       "    }\n",
       "</style>\n",
       "<table border=\"1\" class=\"dataframe\">\n",
       "  <thead>\n",
       "    <tr style=\"text-align: right;\">\n",
       "      <th></th>\n",
       "      <th>station_id</th>\n",
       "      <th>station_name</th>\n",
       "      <th>latitude</th>\n",
       "      <th>longitude</th>\n",
       "      <th>t2m_c</th>\n",
       "      <th>precip_mm</th>\n",
       "      <th>wind_ms</th>\n",
       "      <th>rh_pct</th>\n",
       "    </tr>\n",
       "    <tr>\n",
       "      <th>date</th>\n",
       "      <th></th>\n",
       "      <th></th>\n",
       "      <th></th>\n",
       "      <th></th>\n",
       "      <th></th>\n",
       "      <th></th>\n",
       "      <th></th>\n",
       "      <th></th>\n",
       "    </tr>\n",
       "  </thead>\n",
       "  <tbody>\n",
       "    <tr>\n",
       "      <th>2015-01-01</th>\n",
       "      <td>ADD</td>\n",
       "      <td>Addis Ababa</td>\n",
       "      <td>9.030</td>\n",
       "      <td>38.740</td>\n",
       "      <td>23.492607</td>\n",
       "      <td>0.0</td>\n",
       "      <td>3.828286</td>\n",
       "      <td>62.610573</td>\n",
       "    </tr>\n",
       "    <tr>\n",
       "      <th>2015-01-01</th>\n",
       "      <td>MOG</td>\n",
       "      <td>Mogadishu</td>\n",
       "      <td>2.046</td>\n",
       "      <td>45.318</td>\n",
       "      <td>25.061257</td>\n",
       "      <td>0.0</td>\n",
       "      <td>1.512537</td>\n",
       "      <td>59.372599</td>\n",
       "    </tr>\n",
       "    <tr>\n",
       "      <th>2015-01-01</th>\n",
       "      <td>NBO</td>\n",
       "      <td>Nairobi</td>\n",
       "      <td>-1.286</td>\n",
       "      <td>36.817</td>\n",
       "      <td>26.761467</td>\n",
       "      <td>0.0</td>\n",
       "      <td>5.396700</td>\n",
       "      <td>46.460131</td>\n",
       "    </tr>\n",
       "  </tbody>\n",
       "</table>\n",
       "</div>"
      ],
      "text/plain": [
       "           station_id station_name  latitude  longitude      t2m_c  precip_mm  \\\n",
       "date                                                                            \n",
       "2015-01-01        ADD  Addis Ababa     9.030     38.740  23.492607        0.0   \n",
       "2015-01-01        MOG    Mogadishu     2.046     45.318  25.061257        0.0   \n",
       "2015-01-01        NBO      Nairobi    -1.286     36.817  26.761467        0.0   \n",
       "\n",
       "             wind_ms     rh_pct  \n",
       "date                             \n",
       "2015-01-01  3.828286  62.610573  \n",
       "2015-01-01  1.512537  59.372599  \n",
       "2015-01-01  5.396700  46.460131  "
      ]
     },
     "execution_count": 82,
     "metadata": {},
     "output_type": "execute_result"
    }
   ],
   "source": [
    "df.head(3)"
   ]
  },
  {
   "cell_type": "code",
   "execution_count": 81,
   "id": "9868a6a5",
   "metadata": {},
   "outputs": [
    {
     "data": {
      "text/html": [
       "<div>\n",
       "<style scoped>\n",
       "    .dataframe tbody tr th:only-of-type {\n",
       "        vertical-align: middle;\n",
       "    }\n",
       "\n",
       "    .dataframe tbody tr th {\n",
       "        vertical-align: top;\n",
       "    }\n",
       "\n",
       "    .dataframe thead th {\n",
       "        text-align: right;\n",
       "    }\n",
       "</style>\n",
       "<table border=\"1\" class=\"dataframe\">\n",
       "  <thead>\n",
       "    <tr style=\"text-align: right;\">\n",
       "      <th></th>\n",
       "      <th>station_id</th>\n",
       "      <th>station_name</th>\n",
       "      <th>latitude</th>\n",
       "      <th>longitude</th>\n",
       "      <th>t2m_c</th>\n",
       "      <th>precip_mm</th>\n",
       "      <th>wind_ms</th>\n",
       "      <th>rh_pct</th>\n",
       "    </tr>\n",
       "    <tr>\n",
       "      <th>date</th>\n",
       "      <th></th>\n",
       "      <th></th>\n",
       "      <th></th>\n",
       "      <th></th>\n",
       "      <th></th>\n",
       "      <th></th>\n",
       "      <th></th>\n",
       "      <th></th>\n",
       "    </tr>\n",
       "  </thead>\n",
       "  <tbody>\n",
       "    <tr>\n",
       "      <th>2019-12-31</th>\n",
       "      <td>KRT</td>\n",
       "      <td>Khartoum</td>\n",
       "      <td>15.500</td>\n",
       "      <td>32.560</td>\n",
       "      <td>23.972350</td>\n",
       "      <td>0.0</td>\n",
       "      <td>3.355706</td>\n",
       "      <td>53.422156</td>\n",
       "    </tr>\n",
       "    <tr>\n",
       "      <th>2019-12-31</th>\n",
       "      <td>MOG</td>\n",
       "      <td>Mogadishu</td>\n",
       "      <td>2.046</td>\n",
       "      <td>45.318</td>\n",
       "      <td>25.181895</td>\n",
       "      <td>0.0</td>\n",
       "      <td>2.094387</td>\n",
       "      <td>45.893028</td>\n",
       "    </tr>\n",
       "  </tbody>\n",
       "</table>\n",
       "</div>"
      ],
      "text/plain": [
       "           station_id station_name  latitude  longitude      t2m_c  precip_mm  \\\n",
       "date                                                                            \n",
       "2019-12-31        KRT     Khartoum    15.500     32.560  23.972350        0.0   \n",
       "2019-12-31        MOG    Mogadishu     2.046     45.318  25.181895        0.0   \n",
       "\n",
       "             wind_ms     rh_pct  \n",
       "date                             \n",
       "2019-12-31  3.355706  53.422156  \n",
       "2019-12-31  2.094387  45.893028  "
      ]
     },
     "execution_count": 81,
     "metadata": {},
     "output_type": "execute_result"
    }
   ],
   "source": [
    "df.tail(2)"
   ]
  },
  {
   "cell_type": "markdown",
   "metadata": {},
   "source": [
    "## Accessing a DataFrame"
   ]
  },
  {
   "cell_type": "code",
   "execution_count": 12,
   "metadata": {},
   "outputs": [
    {
     "data": {
      "text/html": [
       "<div>\n",
       "<style scoped>\n",
       "    .dataframe tbody tr th:only-of-type {\n",
       "        vertical-align: middle;\n",
       "    }\n",
       "\n",
       "    .dataframe tbody tr th {\n",
       "        vertical-align: top;\n",
       "    }\n",
       "\n",
       "    .dataframe thead th {\n",
       "        text-align: right;\n",
       "    }\n",
       "</style>\n",
       "<table border=\"1\" class=\"dataframe\">\n",
       "  <thead>\n",
       "    <tr style=\"text-align: right;\">\n",
       "      <th></th>\n",
       "      <th>station_id</th>\n",
       "      <th>t2m_c</th>\n",
       "      <th>precip_mm</th>\n",
       "    </tr>\n",
       "    <tr>\n",
       "      <th>date</th>\n",
       "      <th></th>\n",
       "      <th></th>\n",
       "      <th></th>\n",
       "    </tr>\n",
       "  </thead>\n",
       "  <tbody>\n",
       "    <tr>\n",
       "      <th>2017-07-01</th>\n",
       "      <td>MOG</td>\n",
       "      <td>26.639599</td>\n",
       "      <td>0.000000</td>\n",
       "    </tr>\n",
       "    <tr>\n",
       "      <th>2017-07-01</th>\n",
       "      <td>DAR</td>\n",
       "      <td>27.402184</td>\n",
       "      <td>0.000000</td>\n",
       "    </tr>\n",
       "    <tr>\n",
       "      <th>2017-07-01</th>\n",
       "      <td>KRT</td>\n",
       "      <td>25.944065</td>\n",
       "      <td>0.801203</td>\n",
       "    </tr>\n",
       "    <tr>\n",
       "      <th>2017-07-01</th>\n",
       "      <td>ADD</td>\n",
       "      <td>24.904493</td>\n",
       "      <td>1.306163</td>\n",
       "    </tr>\n",
       "    <tr>\n",
       "      <th>2017-07-01</th>\n",
       "      <td>NBO</td>\n",
       "      <td>26.941912</td>\n",
       "      <td>1.541067</td>\n",
       "    </tr>\n",
       "  </tbody>\n",
       "</table>\n",
       "</div>"
      ],
      "text/plain": [
       "           station_id      t2m_c  precip_mm\n",
       "date                                       \n",
       "2017-07-01        MOG  26.639599   0.000000\n",
       "2017-07-01        DAR  27.402184   0.000000\n",
       "2017-07-01        KRT  25.944065   0.801203\n",
       "2017-07-01        ADD  24.904493   1.306163\n",
       "2017-07-01        NBO  26.941912   1.541067"
      ]
     },
     "execution_count": 12,
     "metadata": {},
     "output_type": "execute_result"
    }
   ],
   "source": [
    "df.loc[\"2017-07\":\"2017-07-10\", [\"station_id\",\"t2m_c\",\"precip_mm\"]].head()"
   ]
  },
  {
   "cell_type": "markdown",
   "metadata": {},
   "source": [
    "## Adding New Columns"
   ]
  },
  {
   "cell_type": "code",
   "execution_count": 85,
   "metadata": {},
   "outputs": [],
   "source": [
    "df2 = df.copy()\n",
    "df2[\"t2m_k\"] = df2[\"t2m_c\"] + 273.15\n",
    "e = (df2[\"rh_pct\"]/100.0)*6.105*np.exp(17.27*df2[\"t2m_c\"]/(237.7+df2[\"t2m_c\"]))\n",
    "df2[\"apparent_c\"] = df2[\"t2m_c\"] + 0.33*e - 0.70*df2[\"wind_ms\"] - 4.0"
   ]
  },
  {
   "cell_type": "code",
   "execution_count": 86,
   "id": "d572204c",
   "metadata": {},
   "outputs": [
    {
     "data": {
      "text/html": [
       "<div>\n",
       "<style scoped>\n",
       "    .dataframe tbody tr th:only-of-type {\n",
       "        vertical-align: middle;\n",
       "    }\n",
       "\n",
       "    .dataframe tbody tr th {\n",
       "        vertical-align: top;\n",
       "    }\n",
       "\n",
       "    .dataframe thead th {\n",
       "        text-align: right;\n",
       "    }\n",
       "</style>\n",
       "<table border=\"1\" class=\"dataframe\">\n",
       "  <thead>\n",
       "    <tr style=\"text-align: right;\">\n",
       "      <th></th>\n",
       "      <th>station_id</th>\n",
       "      <th>station_name</th>\n",
       "      <th>latitude</th>\n",
       "      <th>longitude</th>\n",
       "      <th>t2m_c</th>\n",
       "      <th>precip_mm</th>\n",
       "      <th>wind_ms</th>\n",
       "      <th>rh_pct</th>\n",
       "      <th>t2m_k</th>\n",
       "      <th>apparent_c</th>\n",
       "    </tr>\n",
       "    <tr>\n",
       "      <th>date</th>\n",
       "      <th></th>\n",
       "      <th></th>\n",
       "      <th></th>\n",
       "      <th></th>\n",
       "      <th></th>\n",
       "      <th></th>\n",
       "      <th></th>\n",
       "      <th></th>\n",
       "      <th></th>\n",
       "      <th></th>\n",
       "    </tr>\n",
       "  </thead>\n",
       "  <tbody>\n",
       "    <tr>\n",
       "      <th>2015-01-01</th>\n",
       "      <td>ADD</td>\n",
       "      <td>Addis Ababa</td>\n",
       "      <td>9.030</td>\n",
       "      <td>38.740</td>\n",
       "      <td>23.492607</td>\n",
       "      <td>0.0</td>\n",
       "      <td>3.828286</td>\n",
       "      <td>62.610573</td>\n",
       "      <td>296.642607</td>\n",
       "      <td>22.775580</td>\n",
       "    </tr>\n",
       "    <tr>\n",
       "      <th>2015-01-01</th>\n",
       "      <td>MOG</td>\n",
       "      <td>Mogadishu</td>\n",
       "      <td>2.046</td>\n",
       "      <td>45.318</td>\n",
       "      <td>25.061257</td>\n",
       "      <td>0.0</td>\n",
       "      <td>1.512537</td>\n",
       "      <td>59.372599</td>\n",
       "      <td>298.211257</td>\n",
       "      <td>26.213101</td>\n",
       "    </tr>\n",
       "    <tr>\n",
       "      <th>2015-01-01</th>\n",
       "      <td>NBO</td>\n",
       "      <td>Nairobi</td>\n",
       "      <td>-1.286</td>\n",
       "      <td>36.817</td>\n",
       "      <td>26.761467</td>\n",
       "      <td>0.0</td>\n",
       "      <td>5.396700</td>\n",
       "      <td>46.460131</td>\n",
       "      <td>299.911467</td>\n",
       "      <td>24.357177</td>\n",
       "    </tr>\n",
       "    <tr>\n",
       "      <th>2015-01-01</th>\n",
       "      <td>KRT</td>\n",
       "      <td>Khartoum</td>\n",
       "      <td>15.500</td>\n",
       "      <td>32.560</td>\n",
       "      <td>23.538721</td>\n",
       "      <td>0.0</td>\n",
       "      <td>2.196587</td>\n",
       "      <td>51.063869</td>\n",
       "      <td>296.688721</td>\n",
       "      <td>22.877733</td>\n",
       "    </tr>\n",
       "    <tr>\n",
       "      <th>2015-01-01</th>\n",
       "      <td>DAR</td>\n",
       "      <td>Dar es Salaam</td>\n",
       "      <td>-6.792</td>\n",
       "      <td>39.208</td>\n",
       "      <td>27.539051</td>\n",
       "      <td>0.0</td>\n",
       "      <td>2.585994</td>\n",
       "      <td>55.125804</td>\n",
       "      <td>300.689051</td>\n",
       "      <td>28.401328</td>\n",
       "    </tr>\n",
       "    <tr>\n",
       "      <th>...</th>\n",
       "      <td>...</td>\n",
       "      <td>...</td>\n",
       "      <td>...</td>\n",
       "      <td>...</td>\n",
       "      <td>...</td>\n",
       "      <td>...</td>\n",
       "      <td>...</td>\n",
       "      <td>...</td>\n",
       "      <td>...</td>\n",
       "      <td>...</td>\n",
       "    </tr>\n",
       "    <tr>\n",
       "      <th>2019-12-31</th>\n",
       "      <td>DAR</td>\n",
       "      <td>Dar es Salaam</td>\n",
       "      <td>-6.792</td>\n",
       "      <td>39.208</td>\n",
       "      <td>27.647587</td>\n",
       "      <td>0.0</td>\n",
       "      <td>5.313968</td>\n",
       "      <td>53.584144</td>\n",
       "      <td>300.797587</td>\n",
       "      <td>26.454868</td>\n",
       "    </tr>\n",
       "    <tr>\n",
       "      <th>2019-12-31</th>\n",
       "      <td>NBO</td>\n",
       "      <td>Nairobi</td>\n",
       "      <td>-1.286</td>\n",
       "      <td>36.817</td>\n",
       "      <td>27.582417</td>\n",
       "      <td>0.0</td>\n",
       "      <td>5.854557</td>\n",
       "      <td>59.454385</td>\n",
       "      <td>300.732417</td>\n",
       "      <td>26.698865</td>\n",
       "    </tr>\n",
       "    <tr>\n",
       "      <th>2019-12-31</th>\n",
       "      <td>ADD</td>\n",
       "      <td>Addis Ababa</td>\n",
       "      <td>9.030</td>\n",
       "      <td>38.740</td>\n",
       "      <td>24.332698</td>\n",
       "      <td>0.0</td>\n",
       "      <td>7.754628</td>\n",
       "      <td>47.303117</td>\n",
       "      <td>297.482698</td>\n",
       "      <td>19.642227</td>\n",
       "    </tr>\n",
       "    <tr>\n",
       "      <th>2019-12-31</th>\n",
       "      <td>KRT</td>\n",
       "      <td>Khartoum</td>\n",
       "      <td>15.500</td>\n",
       "      <td>32.560</td>\n",
       "      <td>23.972350</td>\n",
       "      <td>0.0</td>\n",
       "      <td>3.355706</td>\n",
       "      <td>53.422156</td>\n",
       "      <td>297.122350</td>\n",
       "      <td>22.859794</td>\n",
       "    </tr>\n",
       "    <tr>\n",
       "      <th>2019-12-31</th>\n",
       "      <td>MOG</td>\n",
       "      <td>Mogadishu</td>\n",
       "      <td>2.046</td>\n",
       "      <td>45.318</td>\n",
       "      <td>25.181895</td>\n",
       "      <td>0.0</td>\n",
       "      <td>2.094387</td>\n",
       "      <td>45.893028</td>\n",
       "      <td>298.331895</td>\n",
       "      <td>24.550967</td>\n",
       "    </tr>\n",
       "  </tbody>\n",
       "</table>\n",
       "<p>9130 rows × 10 columns</p>\n",
       "</div>"
      ],
      "text/plain": [
       "           station_id   station_name  latitude  longitude      t2m_c  \\\n",
       "date                                                                   \n",
       "2015-01-01        ADD    Addis Ababa     9.030     38.740  23.492607   \n",
       "2015-01-01        MOG      Mogadishu     2.046     45.318  25.061257   \n",
       "2015-01-01        NBO        Nairobi    -1.286     36.817  26.761467   \n",
       "2015-01-01        KRT       Khartoum    15.500     32.560  23.538721   \n",
       "2015-01-01        DAR  Dar es Salaam    -6.792     39.208  27.539051   \n",
       "...               ...            ...       ...        ...        ...   \n",
       "2019-12-31        DAR  Dar es Salaam    -6.792     39.208  27.647587   \n",
       "2019-12-31        NBO        Nairobi    -1.286     36.817  27.582417   \n",
       "2019-12-31        ADD    Addis Ababa     9.030     38.740  24.332698   \n",
       "2019-12-31        KRT       Khartoum    15.500     32.560  23.972350   \n",
       "2019-12-31        MOG      Mogadishu     2.046     45.318  25.181895   \n",
       "\n",
       "            precip_mm   wind_ms     rh_pct       t2m_k  apparent_c  \n",
       "date                                                                \n",
       "2015-01-01        0.0  3.828286  62.610573  296.642607   22.775580  \n",
       "2015-01-01        0.0  1.512537  59.372599  298.211257   26.213101  \n",
       "2015-01-01        0.0  5.396700  46.460131  299.911467   24.357177  \n",
       "2015-01-01        0.0  2.196587  51.063869  296.688721   22.877733  \n",
       "2015-01-01        0.0  2.585994  55.125804  300.689051   28.401328  \n",
       "...               ...       ...        ...         ...         ...  \n",
       "2019-12-31        0.0  5.313968  53.584144  300.797587   26.454868  \n",
       "2019-12-31        0.0  5.854557  59.454385  300.732417   26.698865  \n",
       "2019-12-31        0.0  7.754628  47.303117  297.482698   19.642227  \n",
       "2019-12-31        0.0  3.355706  53.422156  297.122350   22.859794  \n",
       "2019-12-31        0.0  2.094387  45.893028  298.331895   24.550967  \n",
       "\n",
       "[9130 rows x 10 columns]"
      ]
     },
     "execution_count": 86,
     "metadata": {},
     "output_type": "execute_result"
    }
   ],
   "source": [
    "df2"
   ]
  },
  {
   "cell_type": "markdown",
   "metadata": {},
   "source": [
    "## Dropping Columns"
   ]
  },
  {
   "cell_type": "code",
   "execution_count": 14,
   "metadata": {},
   "outputs": [
    {
     "data": {
      "text/html": [
       "<div>\n",
       "<style scoped>\n",
       "    .dataframe tbody tr th:only-of-type {\n",
       "        vertical-align: middle;\n",
       "    }\n",
       "\n",
       "    .dataframe tbody tr th {\n",
       "        vertical-align: top;\n",
       "    }\n",
       "\n",
       "    .dataframe thead th {\n",
       "        text-align: right;\n",
       "    }\n",
       "</style>\n",
       "<table border=\"1\" class=\"dataframe\">\n",
       "  <thead>\n",
       "    <tr style=\"text-align: right;\">\n",
       "      <th></th>\n",
       "      <th>station_id</th>\n",
       "      <th>station_name</th>\n",
       "      <th>lat</th>\n",
       "      <th>lon</th>\n",
       "      <th>t2m_c</th>\n",
       "      <th>precip_mm</th>\n",
       "      <th>wind_ms</th>\n",
       "      <th>rh_pct</th>\n",
       "      <th>t2m_k</th>\n",
       "    </tr>\n",
       "    <tr>\n",
       "      <th>date</th>\n",
       "      <th></th>\n",
       "      <th></th>\n",
       "      <th></th>\n",
       "      <th></th>\n",
       "      <th></th>\n",
       "      <th></th>\n",
       "      <th></th>\n",
       "      <th></th>\n",
       "      <th></th>\n",
       "    </tr>\n",
       "  </thead>\n",
       "  <tbody>\n",
       "    <tr>\n",
       "      <th>2015-01-01</th>\n",
       "      <td>ADD</td>\n",
       "      <td>Addis Ababa</td>\n",
       "      <td>9.030</td>\n",
       "      <td>38.740</td>\n",
       "      <td>24.498717</td>\n",
       "      <td>0.0</td>\n",
       "      <td>6.011673</td>\n",
       "      <td>51.363205</td>\n",
       "      <td>297.648717</td>\n",
       "    </tr>\n",
       "    <tr>\n",
       "      <th>2015-01-01</th>\n",
       "      <td>MOG</td>\n",
       "      <td>Mogadishu</td>\n",
       "      <td>2.046</td>\n",
       "      <td>45.318</td>\n",
       "      <td>26.021727</td>\n",
       "      <td>0.0</td>\n",
       "      <td>3.413349</td>\n",
       "      <td>47.676047</td>\n",
       "      <td>299.171727</td>\n",
       "    </tr>\n",
       "  </tbody>\n",
       "</table>\n",
       "</div>"
      ],
      "text/plain": [
       "           station_id station_name    lat     lon      t2m_c  precip_mm  \\\n",
       "date                                                                      \n",
       "2015-01-01        ADD  Addis Ababa  9.030  38.740  24.498717        0.0   \n",
       "2015-01-01        MOG    Mogadishu  2.046  45.318  26.021727        0.0   \n",
       "\n",
       "             wind_ms     rh_pct       t2m_k  \n",
       "date                                         \n",
       "2015-01-01  6.011673  51.363205  297.648717  \n",
       "2015-01-01  3.413349  47.676047  299.171727  "
      ]
     },
     "execution_count": 14,
     "metadata": {},
     "output_type": "execute_result"
    }
   ],
   "source": [
    "df2.drop(columns=[\"apparent_c\"]).head(2)"
   ]
  },
  {
   "cell_type": "code",
   "execution_count": 80,
   "id": "951d5e41",
   "metadata": {},
   "outputs": [
    {
     "data": {
      "text/html": [
       "<div>\n",
       "<style scoped>\n",
       "    .dataframe tbody tr th:only-of-type {\n",
       "        vertical-align: middle;\n",
       "    }\n",
       "\n",
       "    .dataframe tbody tr th {\n",
       "        vertical-align: top;\n",
       "    }\n",
       "\n",
       "    .dataframe thead th {\n",
       "        text-align: right;\n",
       "    }\n",
       "</style>\n",
       "<table border=\"1\" class=\"dataframe\">\n",
       "  <thead>\n",
       "    <tr style=\"text-align: right;\">\n",
       "      <th></th>\n",
       "      <th>station_id</th>\n",
       "      <th>station_name</th>\n",
       "      <th>latitude</th>\n",
       "      <th>longitude</th>\n",
       "      <th>t2m_c</th>\n",
       "      <th>precip_mm</th>\n",
       "      <th>wind_ms</th>\n",
       "      <th>rh_pct</th>\n",
       "    </tr>\n",
       "    <tr>\n",
       "      <th>date</th>\n",
       "      <th></th>\n",
       "      <th></th>\n",
       "      <th></th>\n",
       "      <th></th>\n",
       "      <th></th>\n",
       "      <th></th>\n",
       "      <th></th>\n",
       "      <th></th>\n",
       "    </tr>\n",
       "  </thead>\n",
       "  <tbody>\n",
       "    <tr>\n",
       "      <th>2015-01-01</th>\n",
       "      <td>ADD</td>\n",
       "      <td>Addis Ababa</td>\n",
       "      <td>9.030</td>\n",
       "      <td>38.740</td>\n",
       "      <td>23.492607</td>\n",
       "      <td>0.0</td>\n",
       "      <td>3.828286</td>\n",
       "      <td>62.610573</td>\n",
       "    </tr>\n",
       "    <tr>\n",
       "      <th>2015-01-01</th>\n",
       "      <td>MOG</td>\n",
       "      <td>Mogadishu</td>\n",
       "      <td>2.046</td>\n",
       "      <td>45.318</td>\n",
       "      <td>25.061257</td>\n",
       "      <td>0.0</td>\n",
       "      <td>1.512537</td>\n",
       "      <td>59.372599</td>\n",
       "    </tr>\n",
       "  </tbody>\n",
       "</table>\n",
       "</div>"
      ],
      "text/plain": [
       "           station_id station_name  latitude  longitude      t2m_c  precip_mm  \\\n",
       "date                                                                            \n",
       "2015-01-01        ADD  Addis Ababa     9.030     38.740  23.492607        0.0   \n",
       "2015-01-01        MOG    Mogadishu     2.046     45.318  25.061257        0.0   \n",
       "\n",
       "             wind_ms     rh_pct  \n",
       "date                             \n",
       "2015-01-01  3.828286  62.610573  \n",
       "2015-01-01  1.512537  59.372599  "
      ]
     },
     "execution_count": 80,
     "metadata": {},
     "output_type": "execute_result"
    }
   ],
   "source": [
    "### Renaming Columns\n",
    "df.rename(columns={\"lon\": \"longitude\", \"lat\": \"latitude\"}, inplace=True) \n",
    "df.head(2)"
   ]
  },
  {
   "cell_type": "markdown",
   "metadata": {},
   "source": [
    "## Dropping Rows"
   ]
  },
  {
   "cell_type": "code",
   "execution_count": 15,
   "metadata": {},
   "outputs": [
    {
     "data": {
      "text/html": [
       "<div>\n",
       "<style scoped>\n",
       "    .dataframe tbody tr th:only-of-type {\n",
       "        vertical-align: middle;\n",
       "    }\n",
       "\n",
       "    .dataframe tbody tr th {\n",
       "        vertical-align: top;\n",
       "    }\n",
       "\n",
       "    .dataframe thead th {\n",
       "        text-align: right;\n",
       "    }\n",
       "</style>\n",
       "<table border=\"1\" class=\"dataframe\">\n",
       "  <thead>\n",
       "    <tr style=\"text-align: right;\">\n",
       "      <th></th>\n",
       "      <th>station_id</th>\n",
       "      <th>station_name</th>\n",
       "      <th>lat</th>\n",
       "      <th>lon</th>\n",
       "      <th>t2m_c</th>\n",
       "      <th>precip_mm</th>\n",
       "      <th>wind_ms</th>\n",
       "      <th>rh_pct</th>\n",
       "    </tr>\n",
       "    <tr>\n",
       "      <th>date</th>\n",
       "      <th></th>\n",
       "      <th></th>\n",
       "      <th></th>\n",
       "      <th></th>\n",
       "      <th></th>\n",
       "      <th></th>\n",
       "      <th></th>\n",
       "      <th></th>\n",
       "    </tr>\n",
       "  </thead>\n",
       "  <tbody>\n",
       "    <tr>\n",
       "      <th>2015-03-01</th>\n",
       "      <td>MOG</td>\n",
       "      <td>Mogadishu</td>\n",
       "      <td>2.046</td>\n",
       "      <td>45.318</td>\n",
       "      <td>31.029596</td>\n",
       "      <td>3.475400</td>\n",
       "      <td>4.783702</td>\n",
       "      <td>62.084746</td>\n",
       "    </tr>\n",
       "    <tr>\n",
       "      <th>2015-03-02</th>\n",
       "      <td>MOG</td>\n",
       "      <td>Mogadishu</td>\n",
       "      <td>2.046</td>\n",
       "      <td>45.318</td>\n",
       "      <td>32.013884</td>\n",
       "      <td>6.166426</td>\n",
       "      <td>3.307198</td>\n",
       "      <td>53.210218</td>\n",
       "    </tr>\n",
       "    <tr>\n",
       "      <th>2015-03-03</th>\n",
       "      <td>MOG</td>\n",
       "      <td>Mogadishu</td>\n",
       "      <td>2.046</td>\n",
       "      <td>45.318</td>\n",
       "      <td>29.216900</td>\n",
       "      <td>1.129071</td>\n",
       "      <td>5.781958</td>\n",
       "      <td>78.253268</td>\n",
       "    </tr>\n",
       "    <tr>\n",
       "      <th>2015-03-04</th>\n",
       "      <td>MOG</td>\n",
       "      <td>Mogadishu</td>\n",
       "      <td>2.046</td>\n",
       "      <td>45.318</td>\n",
       "      <td>30.966538</td>\n",
       "      <td>6.251592</td>\n",
       "      <td>2.453640</td>\n",
       "      <td>58.970132</td>\n",
       "    </tr>\n",
       "    <tr>\n",
       "      <th>2015-03-05</th>\n",
       "      <td>MOG</td>\n",
       "      <td>Mogadishu</td>\n",
       "      <td>2.046</td>\n",
       "      <td>45.318</td>\n",
       "      <td>28.853817</td>\n",
       "      <td>1.759359</td>\n",
       "      <td>3.803125</td>\n",
       "      <td>50.789886</td>\n",
       "    </tr>\n",
       "  </tbody>\n",
       "</table>\n",
       "</div>"
      ],
      "text/plain": [
       "           station_id station_name    lat     lon      t2m_c  precip_mm  \\\n",
       "date                                                                      \n",
       "2015-03-01        MOG    Mogadishu  2.046  45.318  31.029596   3.475400   \n",
       "2015-03-02        MOG    Mogadishu  2.046  45.318  32.013884   6.166426   \n",
       "2015-03-03        MOG    Mogadishu  2.046  45.318  29.216900   1.129071   \n",
       "2015-03-04        MOG    Mogadishu  2.046  45.318  30.966538   6.251592   \n",
       "2015-03-05        MOG    Mogadishu  2.046  45.318  28.853817   1.759359   \n",
       "\n",
       "             wind_ms     rh_pct  \n",
       "date                             \n",
       "2015-03-01  4.783702  62.084746  \n",
       "2015-03-02  3.307198  53.210218  \n",
       "2015-03-03  5.781958  78.253268  \n",
       "2015-03-04  2.453640  58.970132  \n",
       "2015-03-05  3.803125  50.789886  "
      ]
     },
     "execution_count": 15,
     "metadata": {},
     "output_type": "execute_result"
    }
   ],
   "source": [
    "tmp = df.copy()\n",
    "mask = (tmp[\"station_id\"]==\"MOG\") & (tmp.index<\"2015-03-01\")\n",
    "tmp = tmp.drop(index=tmp[mask].index)\n",
    "tmp.loc[tmp[\"station_id\"]==\"MOG\"].head()"
   ]
  },
  {
   "cell_type": "markdown",
   "metadata": {},
   "source": [
    "---\n",
    "## 5. Reading and Writing Data\n"
   ]
  },
  {
   "cell_type": "code",
   "execution_count": 16,
   "id": "a68a21a6",
   "metadata": {},
   "outputs": [],
   "source": [
    "df.to_csv(\"data/processed/climate_data.csv\")\n"
   ]
  },
  {
   "cell_type": "code",
   "execution_count": 17,
   "id": "28a42de0",
   "metadata": {},
   "outputs": [
    {
     "data": {
      "text/html": [
       "<div>\n",
       "<style scoped>\n",
       "    .dataframe tbody tr th:only-of-type {\n",
       "        vertical-align: middle;\n",
       "    }\n",
       "\n",
       "    .dataframe tbody tr th {\n",
       "        vertical-align: top;\n",
       "    }\n",
       "\n",
       "    .dataframe thead th {\n",
       "        text-align: right;\n",
       "    }\n",
       "</style>\n",
       "<table border=\"1\" class=\"dataframe\">\n",
       "  <thead>\n",
       "    <tr style=\"text-align: right;\">\n",
       "      <th></th>\n",
       "      <th>station_id</th>\n",
       "      <th>station_name</th>\n",
       "      <th>lat</th>\n",
       "      <th>lon</th>\n",
       "      <th>t2m_c</th>\n",
       "      <th>precip_mm</th>\n",
       "      <th>wind_ms</th>\n",
       "      <th>rh_pct</th>\n",
       "    </tr>\n",
       "    <tr>\n",
       "      <th>date</th>\n",
       "      <th></th>\n",
       "      <th></th>\n",
       "      <th></th>\n",
       "      <th></th>\n",
       "      <th></th>\n",
       "      <th></th>\n",
       "      <th></th>\n",
       "      <th></th>\n",
       "    </tr>\n",
       "  </thead>\n",
       "  <tbody>\n",
       "    <tr>\n",
       "      <th>2015-01-01</th>\n",
       "      <td>ADD</td>\n",
       "      <td>Addis Ababa</td>\n",
       "      <td>9.030</td>\n",
       "      <td>38.740</td>\n",
       "      <td>24.498717</td>\n",
       "      <td>0.0</td>\n",
       "      <td>6.011673</td>\n",
       "      <td>51.363205</td>\n",
       "    </tr>\n",
       "    <tr>\n",
       "      <th>2015-01-01</th>\n",
       "      <td>MOG</td>\n",
       "      <td>Mogadishu</td>\n",
       "      <td>2.046</td>\n",
       "      <td>45.318</td>\n",
       "      <td>26.021727</td>\n",
       "      <td>0.0</td>\n",
       "      <td>3.413349</td>\n",
       "      <td>47.676047</td>\n",
       "    </tr>\n",
       "  </tbody>\n",
       "</table>\n",
       "</div>"
      ],
      "text/plain": [
       "           station_id station_name    lat     lon      t2m_c  precip_mm  \\\n",
       "date                                                                      \n",
       "2015-01-01        ADD  Addis Ababa  9.030  38.740  24.498717        0.0   \n",
       "2015-01-01        MOG    Mogadishu  2.046  45.318  26.021727        0.0   \n",
       "\n",
       "             wind_ms     rh_pct  \n",
       "date                             \n",
       "2015-01-01  6.011673  51.363205  \n",
       "2015-01-01  3.413349  47.676047  "
      ]
     },
     "execution_count": 17,
     "metadata": {},
     "output_type": "execute_result"
    }
   ],
   "source": [
    "df_csv = pd.read_csv(\"data/processed/climate_data.csv\", parse_dates=[\"date\"], index_col=\"date\")\n",
    "df_csv.head(2)"
   ]
  },
  {
   "cell_type": "markdown",
   "id": "8227035f",
   "metadata": {},
   "source": [
    "### Writing Excel Files\n",
    "\n",
    "- To save a DataFrame to an Excel file, use the to_excel() function."
   ]
  },
  {
   "cell_type": "code",
   "execution_count": 57,
   "id": "21279b12",
   "metadata": {},
   "outputs": [],
   "source": [
    "# Save DataFrame to an Excel file\n",
    "df.to_excel(\"data/processed/climate_data.xlsx\", index=False)  # Save without including the index"
   ]
  },
  {
   "cell_type": "code",
   "execution_count": 71,
   "id": "ed074fff",
   "metadata": {},
   "outputs": [
    {
     "data": {
      "text/html": [
       "<div>\n",
       "<style scoped>\n",
       "    .dataframe tbody tr th:only-of-type {\n",
       "        vertical-align: middle;\n",
       "    }\n",
       "\n",
       "    .dataframe tbody tr th {\n",
       "        vertical-align: top;\n",
       "    }\n",
       "\n",
       "    .dataframe thead th {\n",
       "        text-align: right;\n",
       "    }\n",
       "</style>\n",
       "<table border=\"1\" class=\"dataframe\">\n",
       "  <thead>\n",
       "    <tr style=\"text-align: right;\">\n",
       "      <th></th>\n",
       "      <th>Name</th>\n",
       "      <th>Age</th>\n",
       "      <th>City</th>\n",
       "    </tr>\n",
       "  </thead>\n",
       "  <tbody>\n",
       "    <tr>\n",
       "      <th>0</th>\n",
       "      <td>Alice</td>\n",
       "      <td>25</td>\n",
       "      <td>New York</td>\n",
       "    </tr>\n",
       "    <tr>\n",
       "      <th>1</th>\n",
       "      <td>Bob</td>\n",
       "      <td>30</td>\n",
       "      <td>Los Angeles</td>\n",
       "    </tr>\n",
       "  </tbody>\n",
       "</table>\n",
       "</div>"
      ],
      "text/plain": [
       "    Name  Age         City\n",
       "0  Alice   25     New York\n",
       "1    Bob   30  Los Angeles"
      ]
     },
     "execution_count": 71,
     "metadata": {},
     "output_type": "execute_result"
    }
   ],
   "source": [
    "# Read excel file\n",
    "df_excel = pd.read_excel(\"data/processed/climate_data.xlsx\", index_col=None)\n",
    "df_excel.head(2)"
   ]
  },
  {
   "cell_type": "markdown",
   "id": "31fd687e",
   "metadata": {},
   "source": [
    "### Reading JSON Files"
   ]
  },
  {
   "cell_type": "code",
   "execution_count": 65,
   "id": "5016d572",
   "metadata": {},
   "outputs": [
    {
     "data": {
      "text/html": [
       "<div>\n",
       "<style scoped>\n",
       "    .dataframe tbody tr th:only-of-type {\n",
       "        vertical-align: middle;\n",
       "    }\n",
       "\n",
       "    .dataframe tbody tr th {\n",
       "        vertical-align: top;\n",
       "    }\n",
       "\n",
       "    .dataframe thead th {\n",
       "        text-align: right;\n",
       "    }\n",
       "</style>\n",
       "<table border=\"1\" class=\"dataframe\">\n",
       "  <thead>\n",
       "    <tr style=\"text-align: right;\">\n",
       "      <th></th>\n",
       "      <th>weather</th>\n",
       "    </tr>\n",
       "  </thead>\n",
       "  <tbody>\n",
       "    <tr>\n",
       "      <th>0</th>\n",
       "      <td>{'cityId': 1, 'cityName': 'London', 'currentCo...</td>\n",
       "    </tr>\n",
       "    <tr>\n",
       "      <th>1</th>\n",
       "      <td>{'cityId': 2, 'cityName': 'Newcastle', 'curren...</td>\n",
       "    </tr>\n",
       "    <tr>\n",
       "      <th>2</th>\n",
       "      <td>{'cityId': 3, 'cityName': 'Edinburgh', 'curren...</td>\n",
       "    </tr>\n",
       "    <tr>\n",
       "      <th>3</th>\n",
       "      <td>{'cityId': 4, 'cityName': 'Manchester', 'curre...</td>\n",
       "    </tr>\n",
       "    <tr>\n",
       "      <th>4</th>\n",
       "      <td>{'cityId': 5, 'cityName': 'Glasgow', 'currentC...</td>\n",
       "    </tr>\n",
       "    <tr>\n",
       "      <th>5</th>\n",
       "      <td>{'cityId': 6, 'cityName': 'Bristol', 'currentC...</td>\n",
       "    </tr>\n",
       "    <tr>\n",
       "      <th>6</th>\n",
       "      <td>{'cityId': 7, 'cityName': 'Liverpool', 'curren...</td>\n",
       "    </tr>\n",
       "    <tr>\n",
       "      <th>7</th>\n",
       "      <td>{'cityId': 8, 'cityName': 'Sheffield', 'curren...</td>\n",
       "    </tr>\n",
       "  </tbody>\n",
       "</table>\n",
       "</div>"
      ],
      "text/plain": [
       "                                             weather\n",
       "0  {'cityId': 1, 'cityName': 'London', 'currentCo...\n",
       "1  {'cityId': 2, 'cityName': 'Newcastle', 'curren...\n",
       "2  {'cityId': 3, 'cityName': 'Edinburgh', 'curren...\n",
       "3  {'cityId': 4, 'cityName': 'Manchester', 'curre...\n",
       "4  {'cityId': 5, 'cityName': 'Glasgow', 'currentC...\n",
       "5  {'cityId': 6, 'cityName': 'Bristol', 'currentC...\n",
       "6  {'cityId': 7, 'cityName': 'Liverpool', 'curren...\n",
       "7  {'cityId': 8, 'cityName': 'Sheffield', 'curren..."
      ]
     },
     "execution_count": 65,
     "metadata": {},
     "output_type": "execute_result"
    }
   ],
   "source": [
    "df_json = pd.read_json(\"data/raw/weather.json\")\n",
    "df_json"
   ]
  },
  {
   "cell_type": "code",
   "execution_count": 66,
   "id": "dde62f2a",
   "metadata": {},
   "outputs": [
    {
     "data": {
      "text/html": [
       "<div>\n",
       "<style scoped>\n",
       "    .dataframe tbody tr th:only-of-type {\n",
       "        vertical-align: middle;\n",
       "    }\n",
       "\n",
       "    .dataframe tbody tr th {\n",
       "        vertical-align: top;\n",
       "    }\n",
       "\n",
       "    .dataframe thead th {\n",
       "        text-align: right;\n",
       "    }\n",
       "</style>\n",
       "<table border=\"1\" class=\"dataframe\">\n",
       "  <thead>\n",
       "    <tr style=\"text-align: right;\">\n",
       "      <th></th>\n",
       "      <th>weather</th>\n",
       "    </tr>\n",
       "  </thead>\n",
       "  <tbody>\n",
       "    <tr>\n",
       "      <th>0</th>\n",
       "      <td>{'cityId': 1, 'cityName': 'London', 'currentCo...</td>\n",
       "    </tr>\n",
       "  </tbody>\n",
       "</table>\n",
       "</div>"
      ],
      "text/plain": [
       "                                             weather\n",
       "0  {'cityId': 1, 'cityName': 'London', 'currentCo..."
      ]
     },
     "execution_count": 66,
     "metadata": {},
     "output_type": "execute_result"
    }
   ],
   "source": [
    "df_json.head(1)"
   ]
  },
  {
   "cell_type": "code",
   "execution_count": null,
   "id": "f6ceafb9",
   "metadata": {},
   "outputs": [
    {
     "data": {
      "text/plain": [
       "{'cityId': 1,\n",
       " 'cityName': 'London',\n",
       " 'currentConditions': 'Cloud',\n",
       " 'temperature': 25,\n",
       " 'windSpeed': 27,\n",
       " 'windDirection': 'Easterly',\n",
       " 'windChillFactor': 11}"
      ]
     },
     "execution_count": 67,
     "metadata": {},
     "output_type": "execute_result"
    }
   ],
   "source": [
    "\n",
    "df_json[\"weather\"].values[0]"
   ]
  },
  {
   "cell_type": "markdown",
   "id": "9985ef1f",
   "metadata": {},
   "source": [
    "## Write JSON file"
   ]
  },
  {
   "cell_type": "code",
   "execution_count": 69,
   "id": "0d917fea",
   "metadata": {},
   "outputs": [
    {
     "data": {
      "text/html": [
       "<div>\n",
       "<style scoped>\n",
       "    .dataframe tbody tr th:only-of-type {\n",
       "        vertical-align: middle;\n",
       "    }\n",
       "\n",
       "    .dataframe tbody tr th {\n",
       "        vertical-align: top;\n",
       "    }\n",
       "\n",
       "    .dataframe thead th {\n",
       "        text-align: right;\n",
       "    }\n",
       "</style>\n",
       "<table border=\"1\" class=\"dataframe\">\n",
       "  <thead>\n",
       "    <tr style=\"text-align: right;\">\n",
       "      <th></th>\n",
       "      <th>Station</th>\n",
       "      <th>Temperature_C</th>\n",
       "      <th>Precipitation_mm</th>\n",
       "    </tr>\n",
       "  </thead>\n",
       "  <tbody>\n",
       "    <tr>\n",
       "      <th>0</th>\n",
       "      <td>ADD</td>\n",
       "      <td>20.5</td>\n",
       "      <td>5.0</td>\n",
       "    </tr>\n",
       "    <tr>\n",
       "      <th>1</th>\n",
       "      <td>NBO</td>\n",
       "      <td>22.3</td>\n",
       "      <td>0.0</td>\n",
       "    </tr>\n",
       "    <tr>\n",
       "      <th>2</th>\n",
       "      <td>KRT</td>\n",
       "      <td>30.1</td>\n",
       "      <td>2.5</td>\n",
       "    </tr>\n",
       "  </tbody>\n",
       "</table>\n",
       "</div>"
      ],
      "text/plain": [
       "  Station  Temperature_C  Precipitation_mm\n",
       "0     ADD           20.5               5.0\n",
       "1     NBO           22.3               0.0\n",
       "2     KRT           30.1               2.5"
      ]
     },
     "execution_count": 69,
     "metadata": {},
     "output_type": "execute_result"
    }
   ],
   "source": [
    "data = {\n",
    "    \"Station\": [\"ADD\", \"NBO\", \"KRT\"],\n",
    "    \"Temperature_C\": [20.5, 22.3, 30.1],\n",
    "    \"Precipitation_mm\": [5.0, 0.0, 2.5]\n",
    "}\n",
    "\n",
    "df_climate = pd.DataFrame(data)\n",
    "df_climate"
   ]
  },
  {
   "cell_type": "code",
   "execution_count": 70,
   "id": "741f38a4",
   "metadata": {},
   "outputs": [],
   "source": [
    "df_climate.to_json(\"data/processed/climate_data.json\", orient=\"records\", indent=4)"
   ]
  },
  {
   "cell_type": "markdown",
   "metadata": {},
   "source": [
    "---\n",
    "## 6. Data Manipulation: Filtering"
   ]
  },
  {
   "cell_type": "code",
   "execution_count": 19,
   "id": "7bc6633f",
   "metadata": {},
   "outputs": [
    {
     "data": {
      "text/html": [
       "<div>\n",
       "<style scoped>\n",
       "    .dataframe tbody tr th:only-of-type {\n",
       "        vertical-align: middle;\n",
       "    }\n",
       "\n",
       "    .dataframe tbody tr th {\n",
       "        vertical-align: top;\n",
       "    }\n",
       "\n",
       "    .dataframe thead th {\n",
       "        text-align: right;\n",
       "    }\n",
       "</style>\n",
       "<table border=\"1\" class=\"dataframe\">\n",
       "  <thead>\n",
       "    <tr style=\"text-align: right;\">\n",
       "      <th></th>\n",
       "      <th>station_id</th>\n",
       "      <th>station_name</th>\n",
       "      <th>lat</th>\n",
       "      <th>lon</th>\n",
       "      <th>t2m_c</th>\n",
       "      <th>precip_mm</th>\n",
       "      <th>wind_ms</th>\n",
       "      <th>rh_pct</th>\n",
       "    </tr>\n",
       "    <tr>\n",
       "      <th>date</th>\n",
       "      <th></th>\n",
       "      <th></th>\n",
       "      <th></th>\n",
       "      <th></th>\n",
       "      <th></th>\n",
       "      <th></th>\n",
       "      <th></th>\n",
       "      <th></th>\n",
       "    </tr>\n",
       "  </thead>\n",
       "  <tbody>\n",
       "    <tr>\n",
       "      <th>2015-07-01</th>\n",
       "      <td>MOG</td>\n",
       "      <td>Mogadishu</td>\n",
       "      <td>2.046</td>\n",
       "      <td>45.318</td>\n",
       "      <td>25.298206</td>\n",
       "      <td>0.000000</td>\n",
       "      <td>2.166290</td>\n",
       "      <td>83.351931</td>\n",
       "    </tr>\n",
       "    <tr>\n",
       "      <th>2015-07-01</th>\n",
       "      <td>KRT</td>\n",
       "      <td>Khartoum</td>\n",
       "      <td>15.500</td>\n",
       "      <td>32.560</td>\n",
       "      <td>23.247284</td>\n",
       "      <td>0.000000</td>\n",
       "      <td>3.881973</td>\n",
       "      <td>73.649941</td>\n",
       "    </tr>\n",
       "    <tr>\n",
       "      <th>2015-07-01</th>\n",
       "      <td>DAR</td>\n",
       "      <td>Dar es Salaam</td>\n",
       "      <td>-6.792</td>\n",
       "      <td>39.208</td>\n",
       "      <td>27.521499</td>\n",
       "      <td>0.853249</td>\n",
       "      <td>4.865813</td>\n",
       "      <td>77.754760</td>\n",
       "    </tr>\n",
       "    <tr>\n",
       "      <th>2015-07-01</th>\n",
       "      <td>ADD</td>\n",
       "      <td>Addis Ababa</td>\n",
       "      <td>9.030</td>\n",
       "      <td>38.740</td>\n",
       "      <td>24.568293</td>\n",
       "      <td>1.168959</td>\n",
       "      <td>1.748411</td>\n",
       "      <td>77.138895</td>\n",
       "    </tr>\n",
       "    <tr>\n",
       "      <th>2015-07-01</th>\n",
       "      <td>NBO</td>\n",
       "      <td>Nairobi</td>\n",
       "      <td>-1.286</td>\n",
       "      <td>36.817</td>\n",
       "      <td>26.394597</td>\n",
       "      <td>0.000000</td>\n",
       "      <td>5.213327</td>\n",
       "      <td>73.447242</td>\n",
       "    </tr>\n",
       "  </tbody>\n",
       "</table>\n",
       "</div>"
      ],
      "text/plain": [
       "           station_id   station_name     lat     lon      t2m_c  precip_mm  \\\n",
       "date                                                                         \n",
       "2015-07-01        MOG      Mogadishu   2.046  45.318  25.298206   0.000000   \n",
       "2015-07-01        KRT       Khartoum  15.500  32.560  23.247284   0.000000   \n",
       "2015-07-01        DAR  Dar es Salaam  -6.792  39.208  27.521499   0.853249   \n",
       "2015-07-01        ADD    Addis Ababa   9.030  38.740  24.568293   1.168959   \n",
       "2015-07-01        NBO        Nairobi  -1.286  36.817  26.394597   0.000000   \n",
       "\n",
       "             wind_ms     rh_pct  \n",
       "date                             \n",
       "2015-07-01  2.166290  83.351931  \n",
       "2015-07-01  3.881973  73.649941  \n",
       "2015-07-01  4.865813  77.754760  \n",
       "2015-07-01  1.748411  77.138895  \n",
       "2015-07-01  5.213327  73.447242  "
      ]
     },
     "execution_count": 19,
     "metadata": {},
     "output_type": "execute_result"
    }
   ],
   "source": [
    "july = df[df.index.month==7]\n",
    "july.head()\n"
   ]
  },
  {
   "cell_type": "code",
   "execution_count": 20,
   "id": "679b0797",
   "metadata": {},
   "outputs": [
    {
     "data": {
      "text/html": [
       "<div>\n",
       "<style scoped>\n",
       "    .dataframe tbody tr th:only-of-type {\n",
       "        vertical-align: middle;\n",
       "    }\n",
       "\n",
       "    .dataframe tbody tr th {\n",
       "        vertical-align: top;\n",
       "    }\n",
       "\n",
       "    .dataframe thead th {\n",
       "        text-align: right;\n",
       "    }\n",
       "</style>\n",
       "<table border=\"1\" class=\"dataframe\">\n",
       "  <thead>\n",
       "    <tr style=\"text-align: right;\">\n",
       "      <th></th>\n",
       "      <th>station_id</th>\n",
       "      <th>station_name</th>\n",
       "      <th>lat</th>\n",
       "      <th>lon</th>\n",
       "      <th>t2m_c</th>\n",
       "      <th>precip_mm</th>\n",
       "      <th>wind_ms</th>\n",
       "      <th>rh_pct</th>\n",
       "    </tr>\n",
       "    <tr>\n",
       "      <th>date</th>\n",
       "      <th></th>\n",
       "      <th></th>\n",
       "      <th></th>\n",
       "      <th></th>\n",
       "      <th></th>\n",
       "      <th></th>\n",
       "      <th></th>\n",
       "      <th></th>\n",
       "    </tr>\n",
       "  </thead>\n",
       "  <tbody>\n",
       "    <tr>\n",
       "      <th>2015-01-10</th>\n",
       "      <td>NBO</td>\n",
       "      <td>Nairobi</td>\n",
       "      <td>-1.286</td>\n",
       "      <td>36.817</td>\n",
       "      <td>26.365741</td>\n",
       "      <td>1.420092</td>\n",
       "      <td>2.993146</td>\n",
       "      <td>59.633344</td>\n",
       "    </tr>\n",
       "    <tr>\n",
       "      <th>2015-01-13</th>\n",
       "      <td>NBO</td>\n",
       "      <td>Nairobi</td>\n",
       "      <td>-1.286</td>\n",
       "      <td>36.817</td>\n",
       "      <td>27.920302</td>\n",
       "      <td>1.275217</td>\n",
       "      <td>5.455883</td>\n",
       "      <td>43.237625</td>\n",
       "    </tr>\n",
       "  </tbody>\n",
       "</table>\n",
       "</div>"
      ],
      "text/plain": [
       "           station_id station_name    lat     lon      t2m_c  precip_mm  \\\n",
       "date                                                                      \n",
       "2015-01-10        NBO      Nairobi -1.286  36.817  26.365741   1.420092   \n",
       "2015-01-13        NBO      Nairobi -1.286  36.817  27.920302   1.275217   \n",
       "\n",
       "             wind_ms     rh_pct  \n",
       "date                             \n",
       "2015-01-10  2.993146  59.633344  \n",
       "2015-01-13  5.455883  43.237625  "
      ]
     },
     "execution_count": 20,
     "metadata": {},
     "output_type": "execute_result"
    }
   ],
   "source": [
    "wet_nbo = df[(df[\"station_id\"]==\"NBO\") & (df[\"precip_mm\"]>=1.0)]\n",
    "wet_nbo.head(2)"
   ]
  },
  {
   "cell_type": "markdown",
   "metadata": {},
   "source": [
    "## Data Manipulation: Sorting"
   ]
  },
  {
   "cell_type": "code",
   "execution_count": 21,
   "metadata": {},
   "outputs": [
    {
     "data": {
      "text/html": [
       "<div>\n",
       "<style scoped>\n",
       "    .dataframe tbody tr th:only-of-type {\n",
       "        vertical-align: middle;\n",
       "    }\n",
       "\n",
       "    .dataframe tbody tr th {\n",
       "        vertical-align: top;\n",
       "    }\n",
       "\n",
       "    .dataframe thead th {\n",
       "        text-align: right;\n",
       "    }\n",
       "</style>\n",
       "<table border=\"1\" class=\"dataframe\">\n",
       "  <thead>\n",
       "    <tr style=\"text-align: right;\">\n",
       "      <th></th>\n",
       "      <th>station_id</th>\n",
       "      <th>precip_mm</th>\n",
       "    </tr>\n",
       "    <tr>\n",
       "      <th>date</th>\n",
       "      <th></th>\n",
       "      <th></th>\n",
       "    </tr>\n",
       "  </thead>\n",
       "  <tbody>\n",
       "    <tr>\n",
       "      <th>2018-03-08</th>\n",
       "      <td>ADD</td>\n",
       "      <td>39.516660</td>\n",
       "    </tr>\n",
       "    <tr>\n",
       "      <th>2016-03-30</th>\n",
       "      <td>ADD</td>\n",
       "      <td>30.544245</td>\n",
       "    </tr>\n",
       "    <tr>\n",
       "      <th>2016-03-11</th>\n",
       "      <td>ADD</td>\n",
       "      <td>26.025224</td>\n",
       "    </tr>\n",
       "    <tr>\n",
       "      <th>2016-04-26</th>\n",
       "      <td>ADD</td>\n",
       "      <td>23.269092</td>\n",
       "    </tr>\n",
       "    <tr>\n",
       "      <th>2017-05-04</th>\n",
       "      <td>ADD</td>\n",
       "      <td>21.152791</td>\n",
       "    </tr>\n",
       "  </tbody>\n",
       "</table>\n",
       "</div>"
      ],
      "text/plain": [
       "           station_id  precip_mm\n",
       "date                            \n",
       "2018-03-08        ADD  39.516660\n",
       "2016-03-30        ADD  30.544245\n",
       "2016-03-11        ADD  26.025224\n",
       "2016-04-26        ADD  23.269092\n",
       "2017-05-04        ADD  21.152791"
      ]
     },
     "execution_count": 21,
     "metadata": {},
     "output_type": "execute_result"
    }
   ],
   "source": [
    "df[df[\"station_id\"]==\"ADD\"].sort_values(\"precip_mm\", ascending=False).head(5)[[\"station_id\",\"precip_mm\"]]"
   ]
  },
  {
   "cell_type": "markdown",
   "metadata": {},
   "source": [
    "## Data Manipulation: Aggregations"
   ]
  },
  {
   "cell_type": "code",
   "execution_count": null,
   "metadata": {},
   "outputs": [
    {
     "name": "stderr",
     "output_type": "stream",
     "text": [
      "C:\\Users\\yonas\\AppData\\Local\\Temp\\ipykernel_58044\\4160454045.py:1: FutureWarning: 'A' is deprecated and will be removed in a future version, please use 'YE' instead.\n",
      "  annual_mean = df.groupby(\"station_id\").resample(\"A\")[\"t2m_c\"].mean().rename(\"t_ann\").reset_index()\n"
     ]
    },
    {
     "data": {
      "text/html": [
       "<div>\n",
       "<style scoped>\n",
       "    .dataframe tbody tr th:only-of-type {\n",
       "        vertical-align: middle;\n",
       "    }\n",
       "\n",
       "    .dataframe tbody tr th {\n",
       "        vertical-align: top;\n",
       "    }\n",
       "\n",
       "    .dataframe thead th {\n",
       "        text-align: right;\n",
       "    }\n",
       "</style>\n",
       "<table border=\"1\" class=\"dataframe\">\n",
       "  <thead>\n",
       "    <tr style=\"text-align: right;\">\n",
       "      <th></th>\n",
       "      <th>station_id</th>\n",
       "      <th>date</th>\n",
       "      <th>t_ann</th>\n",
       "    </tr>\n",
       "  </thead>\n",
       "  <tbody>\n",
       "    <tr>\n",
       "      <th>0</th>\n",
       "      <td>ADD</td>\n",
       "      <td>2015-12-31</td>\n",
       "      <td>24.185020</td>\n",
       "    </tr>\n",
       "    <tr>\n",
       "      <th>1</th>\n",
       "      <td>ADD</td>\n",
       "      <td>2016-12-31</td>\n",
       "      <td>24.110184</td>\n",
       "    </tr>\n",
       "    <tr>\n",
       "      <th>2</th>\n",
       "      <td>ADD</td>\n",
       "      <td>2017-12-31</td>\n",
       "      <td>24.210580</td>\n",
       "    </tr>\n",
       "    <tr>\n",
       "      <th>3</th>\n",
       "      <td>ADD</td>\n",
       "      <td>2018-12-31</td>\n",
       "      <td>24.210628</td>\n",
       "    </tr>\n",
       "    <tr>\n",
       "      <th>4</th>\n",
       "      <td>ADD</td>\n",
       "      <td>2019-12-31</td>\n",
       "      <td>24.042635</td>\n",
       "    </tr>\n",
       "  </tbody>\n",
       "</table>\n",
       "</div>"
      ],
      "text/plain": [
       "  station_id       date      t_ann\n",
       "0        ADD 2015-12-31  24.185020\n",
       "1        ADD 2016-12-31  24.110184\n",
       "2        ADD 2017-12-31  24.210580\n",
       "3        ADD 2018-12-31  24.210628\n",
       "4        ADD 2019-12-31  24.042635"
      ]
     },
     "execution_count": 22,
     "metadata": {},
     "output_type": "execute_result"
    }
   ],
   "source": [
    "# Compute annual mean temperature for each station \n",
    "annual_mean = df.groupby(\"station_id\").resample(\"YE\")[\"t2m_c\"].mean().rename(\"t_ann\").reset_index()\n",
    "annual_mean.head()"
   ]
  },
  {
   "cell_type": "markdown",
   "metadata": {},
   "source": [
    "---\n",
    "## 7. Aggregations: Monthly Climatology & Anomalies"
   ]
  },
  {
   "cell_type": "code",
   "execution_count": 77,
   "id": "10c68522",
   "metadata": {},
   "outputs": [
    {
     "data": {
      "text/html": [
       "<div>\n",
       "<style scoped>\n",
       "    .dataframe tbody tr th:only-of-type {\n",
       "        vertical-align: middle;\n",
       "    }\n",
       "\n",
       "    .dataframe tbody tr th {\n",
       "        vertical-align: top;\n",
       "    }\n",
       "\n",
       "    .dataframe thead th {\n",
       "        text-align: right;\n",
       "    }\n",
       "</style>\n",
       "<table border=\"1\" class=\"dataframe\">\n",
       "  <thead>\n",
       "    <tr style=\"text-align: right;\">\n",
       "      <th></th>\n",
       "      <th>station_id</th>\n",
       "      <th>t2m_c</th>\n",
       "      <th>t_mon_clim</th>\n",
       "      <th>t2m_anom</th>\n",
       "    </tr>\n",
       "    <tr>\n",
       "      <th>date</th>\n",
       "      <th></th>\n",
       "      <th></th>\n",
       "      <th></th>\n",
       "      <th></th>\n",
       "    </tr>\n",
       "  </thead>\n",
       "  <tbody>\n",
       "    <tr>\n",
       "      <th>2015-01-01</th>\n",
       "      <td>ADD</td>\n",
       "      <td>23.492607</td>\n",
       "      <td>25.658658</td>\n",
       "      <td>-2.166051</td>\n",
       "    </tr>\n",
       "    <tr>\n",
       "      <th>2015-01-01</th>\n",
       "      <td>MOG</td>\n",
       "      <td>25.061257</td>\n",
       "      <td>27.194053</td>\n",
       "      <td>-2.132796</td>\n",
       "    </tr>\n",
       "    <tr>\n",
       "      <th>2015-01-01</th>\n",
       "      <td>NBO</td>\n",
       "      <td>26.761467</td>\n",
       "      <td>27.848914</td>\n",
       "      <td>-1.087447</td>\n",
       "    </tr>\n",
       "    <tr>\n",
       "      <th>2015-01-01</th>\n",
       "      <td>KRT</td>\n",
       "      <td>23.538721</td>\n",
       "      <td>24.385507</td>\n",
       "      <td>-0.846786</td>\n",
       "    </tr>\n",
       "    <tr>\n",
       "      <th>2015-01-01</th>\n",
       "      <td>DAR</td>\n",
       "      <td>27.539051</td>\n",
       "      <td>28.999603</td>\n",
       "      <td>-1.460551</td>\n",
       "    </tr>\n",
       "  </tbody>\n",
       "</table>\n",
       "</div>"
      ],
      "text/plain": [
       "           station_id      t2m_c  t_mon_clim  t2m_anom\n",
       "date                                                  \n",
       "2015-01-01        ADD  23.492607   25.658658 -2.166051\n",
       "2015-01-01        MOG  25.061257   27.194053 -2.132796\n",
       "2015-01-01        NBO  26.761467   27.848914 -1.087447\n",
       "2015-01-01        KRT  23.538721   24.385507 -0.846786\n",
       "2015-01-01        DAR  27.539051   28.999603 -1.460551"
      ]
     },
     "execution_count": 77,
     "metadata": {},
     "output_type": "execute_result"
    }
   ],
   "source": [
    "df_an = df.copy()\n",
    "\n",
    "df_an[\"t_mon_clim\"] = (\n",
    "    df.groupby([\"station_id\", df.index.month])[\"t2m_c\"]\n",
    "      .transform(\"mean\")\n",
    ")\n",
    "\n",
    "# Compute anomalies\n",
    "df_an[\"month\"] = df_an.index.month\n",
    "df_an[\"t2m_anom\"] = df_an[\"t2m_c\"] - df_an[\"t_mon_clim\"]\n",
    "\n",
    "df_an[[\"station_id\",\"t2m_c\",\"t_mon_clim\",\"t2m_anom\"]].head()"
   ]
  },
  {
   "cell_type": "markdown",
   "metadata": {},
   "source": [
    "## Selecting Specific Rows and Columns"
   ]
  },
  {
   "cell_type": "code",
   "execution_count": 79,
   "metadata": {},
   "outputs": [
    {
     "data": {
      "text/html": [
       "<div>\n",
       "<style scoped>\n",
       "    .dataframe tbody tr th:only-of-type {\n",
       "        vertical-align: middle;\n",
       "    }\n",
       "\n",
       "    .dataframe tbody tr th {\n",
       "        vertical-align: top;\n",
       "    }\n",
       "\n",
       "    .dataframe thead th {\n",
       "        text-align: right;\n",
       "    }\n",
       "</style>\n",
       "<table border=\"1\" class=\"dataframe\">\n",
       "  <thead>\n",
       "    <tr style=\"text-align: right;\">\n",
       "      <th></th>\n",
       "      <th>t2m_c</th>\n",
       "      <th>precip_mm</th>\n",
       "    </tr>\n",
       "    <tr>\n",
       "      <th>date</th>\n",
       "      <th></th>\n",
       "      <th></th>\n",
       "    </tr>\n",
       "  </thead>\n",
       "  <tbody>\n",
       "    <tr>\n",
       "      <th>2019-12-27</th>\n",
       "      <td>21.434750</td>\n",
       "      <td>0.0</td>\n",
       "    </tr>\n",
       "    <tr>\n",
       "      <th>2019-12-28</th>\n",
       "      <td>22.750775</td>\n",
       "      <td>0.0</td>\n",
       "    </tr>\n",
       "    <tr>\n",
       "      <th>2019-12-29</th>\n",
       "      <td>22.606622</td>\n",
       "      <td>0.0</td>\n",
       "    </tr>\n",
       "    <tr>\n",
       "      <th>2019-12-30</th>\n",
       "      <td>23.431164</td>\n",
       "      <td>0.0</td>\n",
       "    </tr>\n",
       "    <tr>\n",
       "      <th>2019-12-31</th>\n",
       "      <td>23.972350</td>\n",
       "      <td>0.0</td>\n",
       "    </tr>\n",
       "  </tbody>\n",
       "</table>\n",
       "</div>"
      ],
      "text/plain": [
       "                t2m_c  precip_mm\n",
       "date                            \n",
       "2019-12-27  21.434750        0.0\n",
       "2019-12-28  22.750775        0.0\n",
       "2019-12-29  22.606622        0.0\n",
       "2019-12-30  23.431164        0.0\n",
       "2019-12-31  23.972350        0.0"
      ]
     },
     "execution_count": 79,
     "metadata": {},
     "output_type": "execute_result"
    }
   ],
   "source": [
    "df.loc[df[\"station_id\"]==\"KRT\", [\"t2m_c\",\"precip_mm\"]].tail(5)"
   ]
  },
  {
   "cell_type": "markdown",
   "metadata": {},
   "source": [
    "---\n",
    "## Exercise"
   ]
  },
  {
   "cell_type": "markdown",
   "metadata": {},
   "source": [
    "\n",
    "### Exercises\n",
    "\n",
    "1) **Filtering & Selection**:  \n",
    "   - Extract JJA for Khartoum; compute mean `t2m_c`.  \n",
    "   - List top-10 daily rainfall events for Nairobi.\n",
    "\n",
    "2) **Aggregations & Resampling**:  \n",
    "   - Compute **monthly climatology** (calendar-month means) of temperature for each station.  \n",
    "   - Compute **7-day rolling precipitation sum** for Addis and find the maximum value and its date.\n",
    "\n",
    "3) **Anomalies**:  \n",
    "   - Build daily temperature anomalies relative to station-wise monthly climatology; plot a 60-day window (optional).  \n",
    "   - Compute the **wet-day fraction** (precip >= 1 mm) per month per station.\n",
    "\n",
    "4) **Missing Data**:  \n",
    "   - Introduce a 10-day missing block in 2018 for Dar es Salaam; compare `dropna`, `ffill/bfill`, and time interpolation (`interpolate(method='time')`) for temperature.  \n",
    "   - Recompute monthly precipitation sums after filling and compare to baseline.\n",
    "\n",
    "5) **Joins & Regions**:  \n",
    "   - Add a `region` column and compute **region monthly** temperature means.  \n",
    "   - Compute **area-weighted** (cos(lat)) region means using station latitudes.\n",
    "\n",
    "6) **I/O**:  \n",
    "   - Save anomalies to `anoms.parquet` (if supported) and re-load.  \n",
    "   - Export monthly climatology to CSV.\n"
   ]
  }
 ],
 "metadata": {
  "kernelspec": {
   "display_name": "python-ml-gha-venv",
   "language": "python",
   "name": "python3"
  },
  "language_info": {
   "codemirror_mode": {
    "name": "ipython",
    "version": 3
   },
   "file_extension": ".py",
   "mimetype": "text/x-python",
   "name": "python",
   "nbconvert_exporter": "python",
   "pygments_lexer": "ipython3",
   "version": "3.13.8"
  }
 },
 "nbformat": 4,
 "nbformat_minor": 5
}

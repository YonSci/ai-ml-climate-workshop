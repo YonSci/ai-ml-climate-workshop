{
 "cells": [
  {
   "cell_type": "markdown",
   "metadata": {},
   "source": [
    "\n",
    "# Project Structure for Python & Data Science/ML/AI\n",
    "\n",
    " • **Cookiecutter**   \n",
    " • **Git**  \n",
    " • **VS Code**    \n",
    " • **GitHub**  \n",
    "\n",
    "A logical, reasonably standardized but flexible **project structure** for doing and sharing data science work.\n"
   ]
  },
  {
   "cell_type": "markdown",
   "metadata": {},
   "source": [
    "\n",
    "## Why this matters\n",
    "A well-structured project isn’t just about tidiness it **saves time**, **reduces errors**, and lets you focus on solving hard problems."
   ]
  },
  {
   "cell_type": "markdown",
   "metadata": {},
   "source": [
    "\n",
    "## Prerequisites\n",
    "- Python 3.10+\n",
    "- pip / pipx\n",
    "- Git\n",
    "- VS Code (or PyCharm/Spyder)\n",
    "---"
   ]
  },
  {
   "cell_type": "markdown",
   "metadata": {},
   "source": [
    "## 0) Quick Checks"
   ]
  },
  {
   "cell_type": "code",
   "execution_count": 1,
   "metadata": {},
   "outputs": [
    {
     "name": "stdout",
     "output_type": "stream",
     "text": [
      "Python: 3.13.8 | exe: c:\\Users\\yonas\\Documents\\ICPAC\\python-ml-gha-venv\\Scripts\\python.exe\n",
      "pip: c:\\Users\\yonas\\Documents\\ICPAC\\python-ml-gha-venv\\Scripts\\pip.EXE\n",
      "git: C:\\Program Files\\Git\\cmd\\git.EXE\n",
      "code (VS Code): C:\\Users\\yonas\\AppData\\Local\\Programs\\Microsoft VS Code\\bin\\code.CMD\n",
      "cookiecutter: c:\\Users\\yonas\\Documents\\ICPAC\\python-ml-gha-venv\\Scripts\\cookiecutter.EXE\n"
     ]
    }
   ],
   "source": [
    "\n",
    "import shutil, subprocess, sys\n",
    "def which(x):\n",
    "    return shutil.which(x) or \"<not found>\"\n",
    "print(\"Python:\", sys.version.split()[0], \"| exe:\", sys.executable)\n",
    "print(\"pip:\", which(\"pip\"))\n",
    "print(\"git:\", which(\"git\"))\n",
    "print(\"code (VS Code):\", which(\"code\"))\n",
    "print(\"cookiecutter:\", which(\"cookiecutter\"))"
   ]
  },
  {
   "cell_type": "markdown",
   "metadata": {},
   "source": [
    "\n",
    "---\n",
    "## 1) Installing Cookiecutter\n",
    "\n",
    "**Option A: pip**\n",
    "```bash\n",
    "python -m pip install --upgrade pip\n",
    "pip install cookiecutter\n",
    "```\n",
    "\n",
    "Verify:\n",
    "```bash\n",
    "cookiecutter --version\n",
    "```\n"
   ]
  },
  {
   "cell_type": "markdown",
   "metadata": {},
   "source": [
    "\n",
    "---\n",
    "## 2) Creating Your ML Project Structure (Cookiecutter)\n",
    "\n",
    "\n",
    "From the parent directory where you want your project\n",
    "\n",
    "```bash\n",
    "cookiecutter https://github.com/drivendataorg/cookiecutter-data-science -c v1\n",
    "```\n",
    "\n",
    "**Interactive prompts (examples):**\n",
    "```\n",
    "project_name [My Awesome Project]: MyMLProject\n",
    "repo_name [my_ml_project]:\n",
    "author_name [Your Name]: Jane Doe\n",
    "description [A short description of the project.]: A cool ML project using Cookiecutter!\n",
    "```\n",
    "\n",
    "**Non-interactive:**\n",
    "```bash\n",
    "cookiecutter gh:drivendata/cookiecutter-data-science -c v2 --no-input   project_name=\"MyMLProject\" repo_name=\"my_ml_project\" author_name=\"Jane Doe\"   description=\"A cool ML project using Cookiecutter!\"\n",
    "```\n"
   ]
  },
  {
   "cell_type": "markdown",
   "metadata": {},
   "source": [
    "\n",
    "---\n",
    "## 3) Understanding the Structure\n",
    "\n",
    "```\n",
    "MyMLProject/\n",
    "├── data/\n",
    "│   ├── external/\n",
    "│   ├── interim/\n",
    "│   ├── processed/\n",
    "│   └── raw/\n",
    "├── docs/\n",
    "├── models/\n",
    "├── notebooks/\n",
    "├── references/\n",
    "├── reports/\n",
    "│   └── figures/\n",
    "└── src/\n",
    "    ├── data/\n",
    "    ├── features/\n",
    "    ├── models/\n",
    "    └── visualization/\n",
    "```\n",
    "- **data/**: external/raw/interim/processed for data lifecycle\n",
    "- **docs/**: project documentation\n",
    "- **models/**: saved models/checkpoints\n",
    "- **notebooks/**: EDA & experiments\n",
    "- **references/**: papers/links\n",
    "- **reports/** + **figures/**: generated outputs\n",
    "- **src/**: importable code modules\n"
   ]
  },
  {
   "cell_type": "markdown",
   "id": "06fd8ae7",
   "metadata": {},
   "source": [
    "---\n",
    "## 4) Initialize Git & Push to GitHub\n",
    "\n",
    "From your project directory:\n",
    "\n",
    "### Initialize Git\n",
    "```bash\n",
    "git init\n",
    "git add -A\n",
    "git commit -m \"Initial commit: Created project structure\"\n",
    "```"
   ]
  },
  {
   "cell_type": "markdown",
   "id": "b8038da8",
   "metadata": {},
   "source": [
    "### Create a Repository on [GitHub](https://github.com/) \n",
    "\n",
    "- Log in to GitHub and create a new repository.\n",
    "- Click on New (or use this link) to create a new repository.\n",
    "- Name it the same as your local project (e.g., MyMLProject).\n",
    "- Do not initialize with a README (since you already have one or can add it later)."
   ]
  },
  {
   "cell_type": "markdown",
   "id": "ccb67bee",
   "metadata": {},
   "source": [
    "## 5)  Pushing Your Project to GitHub\n",
    "\n",
    "- Link your local repository to the GitHub repository and push your changes.\n",
    "\n",
    "- Add the Remote Repository Replace and with your details:\n",
    "\n",
    "```bash\n",
    "git remote add origin https://github.com/<your-github-username>/<repository-name>.git\n",
    "```\n",
    "\n",
    "Example:\n",
    "\n",
    "git remote add origin https://github.com/YonSci/MyMLProject.git\n"
   ]
  },
  {
   "cell_type": "markdown",
   "id": "acdcd454",
   "metadata": {},
   "source": [
    "### Push Your Code Push your initial commit to GitHub:\n",
    "\n",
    "```bash\n",
    "git push origin master\n",
    "or\n",
    "git branch -M main  # Ensure your main branch is named 'main'\n",
    "git push -u origin main\n",
    "```\n",
    "\n",
    "---"
   ]
  },
  {
   "cell_type": "markdown",
   "id": "96dd53b8",
   "metadata": {},
   "source": [
    "### After running these commands, refresh your GitHub repository page, and you should see your project files online!\n",
    "\n",
    "#### Optional: Git Comands\n",
    "\n",
    "\n",
    "```bash\n",
    "# To check the status\n",
    "git status\n",
    "git status -s\n",
    "\n",
    "# To check the commit history\n",
    "git log\n",
    "\n",
    "# To add the file to the staging area\n",
    "git add -A  \n",
    "git add .\n",
    "```\n",
    "\n",
    "####  To commit the changes\n",
    "\n",
    "```bash\n",
    "git commit -m \"First commit\" \n",
    "\n",
    "# Push the changes from the local to Github\n",
    "git push origin master\n",
    "\n",
    "# When a local branch is behind the remote branch:\n",
    "git fetch origin \n",
    "git merge origin/master  \n",
    "git push origin master\n",
    "```"
   ]
  },
  {
   "cell_type": "markdown",
   "metadata": {},
   "source": [
    "\n",
    "---\n",
    "##  Conclusion\n",
    "Congratulations! \n",
    "\n",
    "You now have a well‑organized machine learning project structure generated by Cookiecutter or the Pure‑Python Git, VS Code, and GitHub.\n"
   ]
  }
 ],
 "metadata": {
  "kernelspec": {
   "display_name": "python-ml-gha-venv",
   "language": "python",
   "name": "python3"
  },
  "language_info": {
   "codemirror_mode": {
    "name": "ipython",
    "version": 3
   },
   "file_extension": ".py",
   "mimetype": "text/x-python",
   "name": "python",
   "nbconvert_exporter": "python",
   "pygments_lexer": "ipython3",
   "version": "3.13.8"
  }
 },
 "nbformat": 4,
 "nbformat_minor": 5
}

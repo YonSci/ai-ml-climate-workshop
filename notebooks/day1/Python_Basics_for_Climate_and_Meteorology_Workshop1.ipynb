{
 "cells": [
  {
   "cell_type": "markdown",
   "metadata": {
    "id": "irgOWNuvFG6q"
   },
   "source": [
    "<a name='0'></a>\n",
    "\n",
    "# Basic of Python Programming\n",
    "\n",
    "- This is a practical introduction to Python Programming Language. \n",
    "\n",
    "- Python is an interpreted, high-level, and general purpose programming language that was designed for efficiency, readability, and simplicity. \n",
    "\n",
    "- Python is a popular and go-to programming language in different tech communities, most notable in machine learning and data science. \n",
    "\n",
    "- Python design philosophy emphasizes simplicity and code readability. \n",
    "\n",
    "    * It is simple to read and write: Python syntaxes are very easy to write and easy to recall as well. \n",
    "    * It has a beautiful design and built-in data types. \n",
    "    * It has thousands of great libraries in many disciplines.\n",
    "    * Supportive communities: Good documentation, courses, tutorials, social groups.\n",
    "    * Easy to learn and use due to its simple syntaxes which feel like a natural language. \n"
   ]
  },
  {
   "cell_type": "markdown",
   "metadata": {},
   "source": [
    "This introduction will cover the following: \n",
    "\n",
    "* [0. Basic Syntax and Structure](#0)\n",
    "    * [0.1 Keywords](#0-1)\n",
    "    * [0.2 Comments](#0-2)\n",
    "    * [0.3 Indentation](#0-3)\n",
    "    * [0.4 Docstrings](#0-4)\n",
    "* [1. Variables and Data Types](#1)\n",
    "    * [1.1 Variables](#1-1)\n",
    "    * [1.2 Numbers](#1-2)\n",
    "    * [1.3 Strings](#1-3)\n",
    "* [2. Data Structures](#2)\n",
    "    * [2.1 Lists](#2-1)\n",
    "    * [2.2 Dictionaries](#2-2)\n",
    "    * [2.3 Tuples](#2-3)\n",
    "    * [2.4 Sets](#2-4)\n",
    "* [3. Comparison and Logic Operators](#3)\n",
    "* [4. Control Flow](#4)\n",
    "    * [4.1 If Condition](#4-1)\n",
    "    * [4.2 For Loop](#4-2)\n",
    "    * [4.3 While Loop](#4-3)\n",
    "* [5. Functions](#5)\n",
    "* [6. Lambda Functions](#6)\n",
    "* [7. Built in functions](#7)\n",
    "    * [7.1 Map Function](#7-1)\n",
    "    * [7.2 Filter Function](#7-2)\n",
    "\n",
    "* [8. More Useful Python Stuff](#8)\n",
    "    * [8.1 List Comprehension](#8-1)\n",
    "    * [8.2 Enumerate Function](#8-2)\n",
    "    * [8.3 Zip Function](#8-3)\n",
    "\n",
    "* [9. Python Modules](#9)\n",
    "  \n",
    "* [10. Python Modules](#10)\n"
   ]
  },
  {
   "cell_type": "code",
   "execution_count": 1,
   "metadata": {},
   "outputs": [],
   "source": [
    "# Import necessary modules\n",
    "import sys\n",
    "import keyword\n",
    "import operator\n",
    "from datetime import datetime\n",
    "import os"
   ]
  },
  {
   "cell_type": "markdown",
   "metadata": {},
   "source": [
    "---\n",
    " ## Keywords\n",
    "\n",
    " Keywords are the reserved words in Python and can't be used as an identifier"
   ]
  },
  {
   "cell_type": "code",
   "execution_count": 2,
   "metadata": {},
   "outputs": [
    {
     "name": "stdout",
     "output_type": "stream",
     "text": [
      "['False', 'None', 'True', 'and', 'as', 'assert', 'async', 'await', 'break', 'class', 'continue', 'def', 'del', 'elif', 'else', 'except', 'finally', 'for', 'from', 'global', 'if', 'import', 'in', 'is', 'lambda', 'nonlocal', 'not', 'or', 'pass', 'raise', 'return', 'try', 'while', 'with', 'yield']\n"
     ]
    }
   ],
   "source": [
    "\n",
    "print(keyword.kwlist) # List all Python Keywords\n"
   ]
  },
  {
   "cell_type": "code",
   "execution_count": null,
   "metadata": {},
   "outputs": [],
   "source": [
    "import = 125 # Keywords can't be used as identifiers\n"
   ]
  },
  {
   "cell_type": "markdown",
   "metadata": {},
   "source": [
    "---\n",
    "\n",
    "## Comments in Python\n",
    "\n",
    "Comments can be used to explain the code for more readabilty."
   ]
  },
  {
   "cell_type": "code",
   "execution_count": null,
   "metadata": {},
   "outputs": [],
   "source": [
    "# Single line comment\n",
    "val1  = 10"
   ]
  },
  {
   "cell_type": "code",
   "execution_count": null,
   "metadata": {},
   "outputs": [],
   "source": [
    "# Convert 2 m temperature from Celsius to Kelvin (K = C + 273.15)\n",
    "t2m_c = 27.3   # daily mean 2 m air temp in C\n",
    "t2m_k = t2m_c + 273.15  # result in Kelvin\n",
    "t2m_k"
   ]
  },
  {
   "cell_type": "code",
   "execution_count": null,
   "metadata": {},
   "outputs": [],
   "source": [
    "# Multiple line comment\n",
    "'''\n",
    "Multiple line comment\n",
    "Multiple line comment\n",
    "Multiple line comment\n",
    "'''"
   ]
  },
  {
   "cell_type": "code",
   "execution_count": null,
   "metadata": {},
   "outputs": [],
   "source": [
    "\"\"\"\n",
    "Multiple line comment\n",
    "Multiple line comment\n",
    "Multiple line comment\n",
    "\"\"\""
   ]
  },
  {
   "cell_type": "markdown",
   "metadata": {},
   "source": [
    "---\n",
    "\n",
    "## Statements\n",
    "\n",
    "Instructions that a Python interpreter can execute"
   ]
  },
  {
   "cell_type": "markdown",
   "metadata": {},
   "source": [
    "#### Single line statement\n",
    "\n"
   ]
  },
  {
   "cell_type": "code",
   "execution_count": null,
   "metadata": {},
   "outputs": [],
   "source": [
    "p1 = 10 + 20\n",
    "p1\n"
   ]
  },
  {
   "cell_type": "markdown",
   "metadata": {},
   "source": [
    "#### Multiple line statement\n",
    "\n"
   ]
  },
  {
   "cell_type": "code",
   "execution_count": null,
   "metadata": {},
   "outputs": [],
   "source": [
    "p1 = 20 + 30 \\\n",
    " + 40 + 50 +\\\n",
    " + 70 + 80\n",
    "p1\n"
   ]
  },
  {
   "cell_type": "markdown",
   "metadata": {},
   "source": [
    "#### Multiple line statement"
   ]
  },
  {
   "cell_type": "code",
   "execution_count": null,
   "metadata": {},
   "outputs": [],
   "source": [
    "p2 = ['a' , \n",
    "    'b' , \n",
    "    'c' , \n",
    "    'd' \n",
    "     ]\n",
    "p2"
   ]
  },
  {
   "cell_type": "markdown",
   "metadata": {},
   "source": [
    "---\n",
    "\n",
    "## Indentation\n",
    "\n",
    "- Indentation refers to the spaces at the beginning of a code line. \n",
    "\n",
    "- It is very important as Python uses indentation to indicate a block of code.\n",
    " \n",
    " - If the indentation is not correct we will endup with **IndentationError error**."
   ]
  },
  {
   "cell_type": "code",
   "execution_count": null,
   "metadata": {},
   "outputs": [],
   "source": [
    "p = 10\n",
    "if p == 10:\n",
    "    print ('P is equal to 10') # correct indentation"
   ]
  },
  {
   "cell_type": "code",
   "execution_count": null,
   "metadata": {},
   "outputs": [],
   "source": [
    "# if indentation is skipped we will encounter \"IndentationError: expected an inde\n",
    "p = 10\n",
    "if p == 10:\n",
    "print ('P is equal to 10')"
   ]
  },
  {
   "cell_type": "code",
   "execution_count": null,
   "metadata": {},
   "outputs": [],
   "source": [
    "for i in range(0,5):\n",
    "    print(i)"
   ]
  },
  {
   "cell_type": "code",
   "execution_count": null,
   "metadata": {},
   "outputs": [],
   "source": [
    "# Count wet days (> 1 mm) using proper indentation\n",
    "rain = [0.0, 0.8, 1.2, 5.0, 0.0, 2.0]\n",
    "wet = 0\n",
    "for x in rain:\n",
    "    if x > 1.0:\n",
    "        wet += 1  # wet = wet + 1\n",
    "wet\n"
   ]
  },
  {
   "cell_type": "markdown",
   "metadata": {},
   "source": [
    "---\n",
    "\n",
    "## Docstrings"
   ]
  },
  {
   "cell_type": "markdown",
   "metadata": {},
   "source": [
    "1) Docstrings provide a convenient way of associating documentation with functions, classes,\n",
    " methods or modules.\n",
    " \n",
    "2) They appear right after the definition of a function, method, class, or module."
   ]
  },
  {
   "cell_type": "code",
   "execution_count": null,
   "metadata": {},
   "outputs": [],
   "source": [
    "def square(num):\n",
    "    '''Square Function :- This function will return the square of a number'''\n",
    "    return num**2\n"
   ]
  },
  {
   "cell_type": "code",
   "execution_count": null,
   "metadata": {},
   "outputs": [],
   "source": [
    "square(2)"
   ]
  },
  {
   "cell_type": "code",
   "execution_count": null,
   "metadata": {},
   "outputs": [],
   "source": [
    "square.__doc__  # We can access the Docstring using __doc__ method\n"
   ]
  },
  {
   "cell_type": "code",
   "execution_count": null,
   "metadata": {},
   "outputs": [],
   "source": [
    "def c_to_k(t_c: float) -> float:\n",
    "    \"\"\"Convert Celsius to Kelvin.\n",
    "\n",
    "    Parameters\n",
    "    ----------\n",
    "    t_c : float\n",
    "        Temperature in C.\n",
    "    Returns\n",
    "    -------\n",
    "    float\n",
    "        Temperature in Kelvin.\n",
    "    \"\"\"\n",
    "    return t_c + 273.15\n",
    "\n",
    "c_to_k(30.0)\n"
   ]
  },
  {
   "cell_type": "code",
   "execution_count": null,
   "metadata": {},
   "outputs": [],
   "source": [
    "c_to_k.__doc__\n"
   ]
  },
  {
   "cell_type": "markdown",
   "metadata": {
    "id": "LQkPE-1-f4_w"
   },
   "source": [
    "---\n",
    "\n",
    "<a name='1'></a>\n",
    "\n",
    "## 1. Variables and Data Types"
   ]
  },
  {
   "cell_type": "markdown",
   "metadata": {},
   "source": [
    "<a name='1-1'></a>\n",
    "\n",
    "\n",
    "### 1.1 Variables"
   ]
  },
  {
   "cell_type": "markdown",
   "metadata": {
    "id": "Ay7vWsxNgOvQ"
   },
   "source": [
    "* `Variable` is a reserved memory location to store values. \n",
    "\n",
    "* A variable is created the moment you first assign a value to it.\n",
    "\n",
    "* `A variable` in Python can either be of 3 data types: `integer`, `float`, or a `string`. \n",
    "\n",
    "* `Data type` specifies the category of the variables.\n",
    "\n",
    "* We can use `type(variable_name)` to find the type \n",
    "of given `variable_name`.\n",
    "\n",
    "* Comments do not change anything and are not `compiled`.\n",
    "\n",
    "* The lines inside triple quotes are ignore during runtime.\n",
    "\n",
    "* We also use `=` to assign a value to the name of variable. \n",
    "* Example: `var_name = 1`. Note that it's different to comparison operator of equal to (`==`).\n",
    "\n",
    "* We can use `print()` to display the value of variable or the results of any expression.\n",
    "\n",
    "* Be aware of indentations. Python is serious about them.\n",
    "\n"
   ]
  },
  {
   "cell_type": "code",
   "execution_count": null,
   "metadata": {},
   "outputs": [],
   "source": [
    "p =30"
   ]
  },
  {
   "cell_type": "code",
   "execution_count": null,
   "metadata": {},
   "outputs": [],
   "source": [
    "'''\n",
    "id() function returns the “identity” of the object. \n",
    "The identity of an object - Is an integer\n",
    "                          - Guaranteed to be unique\n",
    "                          - Constant for this object during its lifetime. \n",
    "'''\n",
    "id(p)"
   ]
  },
  {
   "cell_type": "markdown",
   "metadata": {},
   "source": [
    "#### Memory address of the variable \n"
   ]
  },
  {
   "cell_type": "code",
   "execution_count": null,
   "metadata": {},
   "outputs": [],
   "source": [
    "# Get the memory address in hexadecimal format using hex() function\n",
    "hex(id(p)) \n"
   ]
  },
  {
   "cell_type": "code",
   "execution_count": null,
   "metadata": {},
   "outputs": [],
   "source": [
    "p = 10\n",
    "q = 10\n",
    "r = p\n",
    "\n",
    "# Checking the memory address of the variables\n",
    "print( \n",
    "    id(p) , id(q) , id(r), \n",
    "    hex(id(p)) , hex(id(q)) , hex(id(r))\n",
    "    )"
   ]
  },
  {
   "cell_type": "code",
   "execution_count": null,
   "metadata": {},
   "outputs": [],
   "source": [
    "station_id = \"ADD001\"     # Addis Ababa example code\n",
    "lat, lon = 9.03, 38.74    # degrees\n",
    "elev_m = 2355\n",
    "print(station_id, lat, lon, elev_m)\n"
   ]
  },
  {
   "cell_type": "markdown",
   "metadata": {},
   "source": [
    "### Variable Assigment\n",
    "\n",
    "* Variable names in Python can contain alphanumerical characters\n",
    " - a-z, A-Z, 0-9 and some special characters such as _.\n",
    "Variable names must start with a letter.\n",
    "\n",
    " - By convention, variable names start with a lower-case letter\n",
    "\n",
    " - There are a number of Python keywords that cannot be used as variable names."
   ]
  },
  {
   "cell_type": "code",
   "execution_count": null,
   "metadata": {},
   "outputs": [],
   "source": [
    "intvar = 10 # Integer variable\n",
    "floatvar = 2.57 # Float Variable\n",
    "strvar = \"Python Language\" # String variable\n",
    "print(intvar)\n",
    "print(floatvar)\n",
    "print(strvar)"
   ]
  },
  {
   "cell_type": "code",
   "execution_count": null,
   "metadata": {},
   "outputs": [],
   "source": [
    "intvar, floatvar, strvar = 10, 2.57, \"Python Language\"  # Using commas to separate\n",
    "print(intvar)\n",
    "print(floatvar)\n",
    "print(strvar)"
   ]
  },
  {
   "cell_type": "code",
   "execution_count": null,
   "metadata": {},
   "outputs": [],
   "source": [
    "p1 = p2 = p3 = p4 = 44 # All variables pointing to same value\n",
    "print(p1,p2,p3,p4)"
   ]
  },
  {
   "cell_type": "markdown",
   "metadata": {},
   "source": [
    "---\n",
    "\n",
    "### Data Types"
   ]
  },
  {
   "cell_type": "markdown",
   "metadata": {
    "id": "QKqOitvHiJGq"
   },
   "source": [
    "<a name='1-2'></a>\n",
    "\n",
    "### 1.2 Numbers\n",
    "\n",
    "- Numbers in Python can either be integers `int` or floats `float`. \n",
    "\n",
    "- Integer are real, finite, natural or whole numbers. \n",
    "\n",
    "- Take an example: `1`,`2`,`3`,`4` are integers. \n",
    "\n",
    "- Floats are numbers that have decimal points such as`4.6`, `6.0`, `7.7`. \n",
    "\n",
    "- Note that `4.0` is considered as a float data type too. \n",
    "\n",
    "- We can perform operations on numbers. The operations that we can perform include addition, multiplication, division, modular, etc..."
   ]
  },
  {
   "cell_type": "code",
   "execution_count": null,
   "metadata": {
    "colab": {
     "base_uri": "https://localhost:8080/"
    },
    "id": "D4k_6MQvDGyw",
    "outputId": "22956e00-8d13-47a9-e8ec-92abcd562ea7"
   },
   "outputs": [],
   "source": [
    "int_var = 10\n",
    "float_var = 12.8\n",
    "\n",
    "\n",
    "print(type(int_var))\n",
    "print(sys.getsizeof(val1)) # size of integer object in bytes "
   ]
  },
  {
   "cell_type": "code",
   "execution_count": null,
   "metadata": {
    "colab": {
     "base_uri": "https://localhost:8080/"
    },
    "id": "-Xux_M0IDSNd",
    "outputId": "de6cf2b9-e855-4376-be5e-e36a98ac95b3"
   },
   "outputs": [],
   "source": [
    "print(type(float_var))\n",
    "print(sys.getsizeof(float_var)) # size of float object in bytes"
   ]
  },
  {
   "cell_type": "code",
   "execution_count": null,
   "metadata": {},
   "outputs": [],
   "source": [
    "# Unit conversions common in climate work\n",
    "wind_ms = 6.0\n",
    "wind_kmh = wind_ms * 3.6     # m/s -> km/h\n",
    "precip_mm_day = 12.0\n",
    "precip_m_day = precip_mm_day / 1000.0\n",
    "print(\"Wind (km/h):\", wind_kmh, \"| Precip (m/day):\", precip_m_day)"
   ]
  },
  {
   "cell_type": "markdown",
   "metadata": {},
   "source": [
    "### Boolean\n",
    "\n",
    "- Boolean data type can have only two possible values true or false."
   ]
  },
  {
   "cell_type": "code",
   "execution_count": null,
   "metadata": {},
   "outputs": [],
   "source": [
    "bool1 = True\n",
    "\n",
    "bool2 = False\n",
    "\n",
    "print(bool1)\n",
    "print(bool2)\n",
    "print(type(bool1))\n",
    "print(type(bool2))\n"
   ]
  },
  {
   "cell_type": "markdown",
   "metadata": {},
   "source": [
    "### Numeric Operations "
   ]
  },
  {
   "cell_type": "code",
   "execution_count": null,
   "metadata": {
    "colab": {
     "base_uri": "https://localhost:8080/"
    },
    "id": "ylRf_AakiOX5",
    "outputId": "af61036a-51e4-471a-fc9f-6bbb5ed2bb7e"
   },
   "outputs": [],
   "source": [
    "# Addition\n",
    "\n",
    "1 + 100"
   ]
  },
  {
   "cell_type": "code",
   "execution_count": null,
   "metadata": {
    "colab": {
     "base_uri": "https://localhost:8080/"
    },
    "id": "z8RlLLQRiclC",
    "outputId": "329c4f62-fb29-4cdb-f2a8-11bda7294f48"
   },
   "outputs": [],
   "source": [
    "# Multiplication\n",
    "\n",
    "1 * 100"
   ]
  },
  {
   "cell_type": "code",
   "execution_count": null,
   "metadata": {
    "colab": {
     "base_uri": "https://localhost:8080/"
    },
    "id": "j3Z7GFSjiuJ9",
    "outputId": "4b0715e2-c877-4927-87b0-16da07b7fe99"
   },
   "outputs": [],
   "source": [
    "# Division\n",
    "\n",
    "1 / 100"
   ]
  },
  {
   "cell_type": "code",
   "execution_count": null,
   "metadata": {},
   "outputs": [],
   "source": [
    "# Floor division\n",
    "\n",
    "## Floor division is a type of division that rounds the result down to the nearest whole number, discarding any fractional part.\n",
    "\n",
    "7 // 2"
   ]
  },
  {
   "cell_type": "code",
   "execution_count": null,
   "metadata": {
    "colab": {
     "base_uri": "https://localhost:8080/"
    },
    "id": "2TC5FUgKizLU",
    "outputId": "cca0eb84-b6f0-4db1-e3b7-bba58d03ea66"
   },
   "outputs": [],
   "source": [
    "# Modular (%)\n",
    "# This is the remainder or a value remaining after dividing two numbers\n",
    "# 100 / 1 = 100, remainder is 0\n",
    "\n",
    "10 % 2"
   ]
  },
  {
   "cell_type": "code",
   "execution_count": null,
   "metadata": {
    "colab": {
     "base_uri": "https://localhost:8080/"
    },
    "id": "LEXWCtDTAjxN",
    "outputId": "082a19fc-38ec-41dc-c6b1-a3085747fd52"
   },
   "outputs": [],
   "source": [
    "# Powers\n",
    "# 1 power any number is 1 always\n",
    "\n",
    "1 ** 100"
   ]
  },
  {
   "cell_type": "code",
   "execution_count": null,
   "metadata": {
    "colab": {
     "base_uri": "https://localhost:8080/"
    },
    "id": "aX6B6U7vBs0T",
    "outputId": "4cdc396a-50eb-4712-96f8-2212aa801da5"
   },
   "outputs": [],
   "source": [
    "2 ** 2"
   ]
  },
  {
   "cell_type": "markdown",
   "metadata": {
    "id": "eHvcuGQoBCTU"
   },
   "source": [
    "<a name='1-3'></a>\n",
    "\n",
    "### 1.3 Strings\n",
    "\n",
    "- String is a sequence of characters. \n",
    "\n",
    "- Strings are one of the commonly used and important data types. \n",
    "\n",
    "\n",
    "- Strings are expressed in either `\"...\"` or `'...'`.\n",
    "\n",
    "\n",
    "We can manipulate strings in many ways. A simple example is to concat the strings. "
   ]
  },
  {
   "cell_type": "code",
   "execution_count": null,
   "metadata": {
    "id": "VNjcQxVRj3qu"
   },
   "outputs": [],
   "source": [
    "str_var = 'One'\n",
    "str_var2 = 'Hundred'"
   ]
  },
  {
   "cell_type": "code",
   "execution_count": null,
   "metadata": {
    "colab": {
     "base_uri": "https://localhost:8080/",
     "height": 35
    },
    "id": "Vu-n4cy1F9uj",
    "outputId": "4b9720ce-6212-4f15-d3bb-eb39bba8d05f"
   },
   "outputs": [],
   "source": [
    "str_var + str_var2"
   ]
  },
  {
   "cell_type": "code",
   "execution_count": null,
   "metadata": {
    "colab": {
     "base_uri": "https://localhost:8080/",
     "height": 35
    },
    "id": "177djVcAj8oL",
    "outputId": "8534b840-a7e2-4a2c-bf26-d57ed25b8d42"
   },
   "outputs": [],
   "source": [
    "str_var + ' ' + 'and' + ' '+ str_var2 + '.'"
   ]
  },
  {
   "cell_type": "code",
   "execution_count": null,
   "metadata": {
    "colab": {
     "base_uri": "https://localhost:8080/"
    },
    "id": "jemHahb6GCyx",
    "outputId": "24754a7d-018d-4e6d-fa9d-16a0ef67f444"
   },
   "outputs": [],
   "source": [
    "# We can use print() to display a string\n",
    "\n",
    "print(\" This is a string\")"
   ]
  },
  {
   "cell_type": "code",
   "execution_count": null,
   "metadata": {},
   "outputs": [],
   "source": [
    "# We can also compare strings to check whether they are similar. \n",
    "# If they are similar, case by case, comparison operator returns true. Else false\n",
    "\n",
    "\"A string\" == \"a string\""
   ]
  },
  {
   "cell_type": "code",
   "execution_count": null,
   "metadata": {},
   "outputs": [],
   "source": [
    "\"A string\" == \"A string\""
   ]
  },
  {
   "cell_type": "markdown",
   "metadata": {
    "id": "-8qJK4h8n8_P"
   },
   "source": [
    "#### Strings Methods\n",
    "\n",
    "- Python provides many built-in methods for manipulating strings. \n",
    "\n",
    "As a programmer, knowing typical string methods and how to use them will give you a real leverage when working with strings."
   ]
  },
  {
   "cell_type": "code",
   "execution_count": null,
   "metadata": {
    "id": "xF6Kk0Vco2Uh"
   },
   "outputs": [],
   "source": [
    "sentence = 'this IS A String'"
   ]
  },
  {
   "cell_type": "code",
   "execution_count": null,
   "metadata": {
    "colab": {
     "base_uri": "https://localhost:8080/",
     "height": 35
    },
    "id": "xgYf8qO2o2Uj",
    "outputId": "b28989dc-b99e-4c6b-c5eb-9861902a314f"
   },
   "outputs": [],
   "source": [
    "# Case capitalization \n",
    "# It return the string with first letter capitalized and the rest being lower cases. \n",
    "\n",
    "sentence.capitalize()"
   ]
  },
  {
   "cell_type": "code",
   "execution_count": null,
   "metadata": {
    "colab": {
     "base_uri": "https://localhost:8080/",
     "height": 35
    },
    "id": "OqbKJIqjpFUv",
    "outputId": "6affdb88-344d-41f2-952f-55154a8f883c"
   },
   "outputs": [],
   "source": [
    "# Given a string, convert it into title (each word is capitalized)\n",
    "\n",
    "sentence_2 = 'this is a string to be titled'\n",
    "sentence_2.title()"
   ]
  },
  {
   "cell_type": "code",
   "execution_count": null,
   "metadata": {
    "colab": {
     "base_uri": "https://localhost:8080/",
     "height": 35
    },
    "id": "vUvd51eGpFUw",
    "outputId": "1820345d-e13e-4539-e2c4-edde8a62105e"
   },
   "outputs": [],
   "source": [
    "# Converting the string to upper case\n",
    "\n",
    "sentence.upper()"
   ]
  },
  {
   "cell_type": "code",
   "execution_count": null,
   "metadata": {
    "colab": {
     "base_uri": "https://localhost:8080/",
     "height": 35
    },
    "id": "msoUtVcfpFUx",
    "outputId": "c4ba7416-6f2a-4d96-f428-d66495b17449"
   },
   "outputs": [],
   "source": [
    "# Converting the string to upper case\n",
    "\n",
    "sentence.lower()"
   ]
  },
  {
   "cell_type": "code",
   "execution_count": null,
   "metadata": {
    "colab": {
     "base_uri": "https://localhost:8080/"
    },
    "id": "lddBz3mFpFUx",
    "outputId": "d0a16ebc-5260-417f-ff97-00bfb902a4d9"
   },
   "outputs": [],
   "source": [
    "# Splitting the string\n",
    "\n",
    "sentence.split()"
   ]
  },
  {
   "cell_type": "markdown",
   "metadata": {},
   "source": [
    "- You can use `replace()` method to replace some characters in string with another characters. \n",
    "\n",
    "- Replace method takes two inputs: characters to be replaced, and new characters to be inserted in string, `replace('characters to be replaced', 'new characters')`. \n",
    "\n",
    "Example, given the string \"This movie was awesome\", replace the world `movie` with `project`. "
   ]
  },
  {
   "cell_type": "code",
   "execution_count": null,
   "metadata": {},
   "outputs": [],
   "source": [
    "stri = \"This movie was awesome\"\n",
    "stri.replace('movie', 'project')"
   ]
  },
  {
   "cell_type": "code",
   "execution_count": null,
   "metadata": {},
   "outputs": [],
   "source": [
    "# In the following string, replace all spaces with `%20'\n",
    "\n",
    "stri_2 = \"The future is great\"\n",
    "stri_2.replace(' ', '%20')"
   ]
  },
  {
   "cell_type": "code",
   "execution_count": null,
   "metadata": {},
   "outputs": [],
   "source": [
    "stri_3 = \"Climate \"\n",
    "stri_3 = stri_3*5\n",
    "stri_3"
   ]
  },
  {
   "cell_type": "code",
   "execution_count": null,
   "metadata": {},
   "outputs": [],
   "source": [
    "len(stri_3)"
   ]
  },
  {
   "cell_type": "code",
   "execution_count": null,
   "metadata": {},
   "outputs": [],
   "source": [
    "mystr = \"Hello World\""
   ]
  },
  {
   "cell_type": "code",
   "execution_count": null,
   "metadata": {},
   "outputs": [],
   "source": [
    "mystr[0] # First character in string"
   ]
  },
  {
   "cell_type": "markdown",
   "metadata": {},
   "source": [
    "### String Indexing"
   ]
  },
  {
   "cell_type": "code",
   "execution_count": null,
   "metadata": {},
   "outputs": [],
   "source": [
    "mystr[-1]  # Last character in string"
   ]
  },
  {
   "cell_type": "markdown",
   "metadata": {},
   "source": [
    "### String Slicing"
   ]
  },
  {
   "cell_type": "code",
   "execution_count": null,
   "metadata": {},
   "outputs": [],
   "source": [
    "mystr[0:5]  # First five characters\n",
    "# mystr[:5]  # From start to index 5"
   ]
  },
  {
   "cell_type": "code",
   "execution_count": null,
   "metadata": {},
   "outputs": [],
   "source": [
    "mystr[6:11] # From index 6 to index 10\n",
    "# mystr[6:]  # From index 6 to end"
   ]
  },
  {
   "cell_type": "code",
   "execution_count": null,
   "metadata": {},
   "outputs": [],
   "source": [
    "mystr[-5:]  # Last five characters"
   ]
  },
  {
   "cell_type": "code",
   "execution_count": null,
   "metadata": {},
   "outputs": [],
   "source": [
    "del mystr # Delete a string\n",
    "print(mystr)"
   ]
  },
  {
   "cell_type": "code",
   "execution_count": null,
   "metadata": {},
   "outputs": [],
   "source": [
    "mystr2 = \"   Hello Everyone  \"\n",
    "mystr2"
   ]
  },
  {
   "cell_type": "code",
   "execution_count": null,
   "metadata": {},
   "outputs": [],
   "source": [
    "mystr2.strip() # Remove leading and trailing whitespace"
   ]
  },
  {
   "cell_type": "code",
   "execution_count": null,
   "metadata": {},
   "outputs": [],
   "source": [
    "mystr2.rstrip() # Remove trailing whitespace"
   ]
  },
  {
   "cell_type": "code",
   "execution_count": null,
   "metadata": {},
   "outputs": [],
   "source": [
    "mystr2.lstrip() # Remove leading whitespace"
   ]
  },
  {
   "cell_type": "code",
   "execution_count": null,
   "metadata": {},
   "outputs": [],
   "source": [
    "mylist =mystr2.split()\n",
    "mylist"
   ]
  },
  {
   "cell_type": "code",
   "execution_count": null,
   "metadata": {},
   "outputs": [],
   "source": [
    "station_name = \"Addis Ababa Observatory\"\n",
    "msg = f\"Station {station_id} ({station_name}) at {lat:.2f} deg, {lon:.2f} deg\"\n",
    "msg\n"
   ]
  },
  {
   "cell_type": "markdown",
   "metadata": {
    "id": "lG9ZQje1k92N"
   },
   "source": [
    "---\n",
    "<a name='2'></a>\n",
    "## 2. Data Structures"
   ]
  },
  {
   "cell_type": "markdown",
   "metadata": {},
   "source": [
    "- Data structures are used to organize and store the data. \n",
    "\n",
    "- Python has 4 main data structures: `Lists`, `Dictionaries`, `Tuples` and `Sets`. "
   ]
  },
  {
   "cell_type": "markdown",
   "metadata": {
    "id": "DH8pNlbTic4m"
   },
   "source": [
    "<a name='2-1'></a>\n",
    "\n",
    "### 2.1 List"
   ]
  },
  {
   "cell_type": "markdown",
   "metadata": {},
   "source": [
    "- A list is a set of ordered values. \n",
    "\n",
    "- Each value in a list is called an `element` or `item` and can be identified by an index. \n",
    "\n",
    "- A list supports different data types, we can have a list of integers, strings, and floats. \n",
    "\n",
    "What we will see with Python lists:\n",
    "\n",
    "- Creating a list\n",
    "- Accessing elements in a list\n",
    "- Slicing a list\n",
    "- Changing elements in a list\n",
    "- Traversing a list\n",
    "- Operations on list\n",
    "- Nested lists\n",
    "- List methods\n",
    "- List and strings"
   ]
  },
  {
   "cell_type": "markdown",
   "metadata": {},
   "source": [
    "#### Creating a List\n",
    "\n",
    "A python list can be created by enclosing elements of similar or different data type in square brackets `[...]`, or with `range()` function."
   ]
  },
  {
   "cell_type": "code",
   "execution_count": null,
   "metadata": {
    "id": "swPhe55olYIy"
   },
   "outputs": [],
   "source": [
    "# Creating a list\n",
    "\n",
    "week_days = ['Mon', 'Tue', 'Wed', 'Thur','Fri']\n",
    "even_numbers = [2, 4, 6, 8, 10]\n",
    "mixed_list = ['Mon', 1, 'Tue', 2, 'Wed', 3]\n",
    "\n",
    "# Displaying elements of a list\n",
    "print(week_days)\n",
    "print(even_numbers)\n",
    "print(mixed_list)"
   ]
  },
  {
   "cell_type": "markdown",
   "metadata": {},
   "source": [
    "#### Accessing the elements of the list"
   ]
  },
  {
   "cell_type": "markdown",
   "metadata": {},
   "source": [
    "We can access the a given element of the list by providing the index of the element in a bracket. The index starts at 0 in Python."
   ]
  },
  {
   "cell_type": "code",
   "execution_count": null,
   "metadata": {
    "colab": {
     "base_uri": "https://localhost:8080/",
     "height": 35
    },
    "id": "fn8cVIUKlkLc",
    "outputId": "76d88488-058d-4681-f12b-0446fc19bb1d"
   },
   "outputs": [],
   "source": [
    "# Accessing the first elements of the list\n",
    "week_days = ['Mon', 'Tue', 'Wed', 'Thur','Fri']\n",
    "week_days[0]"
   ]
  },
  {
   "cell_type": "code",
   "execution_count": null,
   "metadata": {
    "colab": {
     "base_uri": "https://localhost:8080/"
    },
    "id": "-RBb9JkBl818",
    "outputId": "33dc5ade-a128-4412-fc65-a052ba5613f7"
   },
   "outputs": [],
   "source": [
    "# Get the third element of the list\n",
    "even_numbers = [2, 4, 6, 8, 10]\n",
    "even_numbers[2]"
   ]
  },
  {
   "cell_type": "code",
   "execution_count": null,
   "metadata": {
    "colab": {
     "base_uri": "https://localhost:8080/"
    },
    "id": "D4ZyzdIqmJhp",
    "outputId": "bf0e2e13-9aa7-4dc8-b587-db9b7f9ad27a"
   },
   "outputs": [],
   "source": [
    "# Getting the last element of the list\n",
    "even_numbers = [2, 4, 6, 8, 10]\n",
    "print(even_numbers[-1])"
   ]
  },
  {
   "cell_type": "markdown",
   "metadata": {},
   "source": [
    "#### Slicing a list"
   ]
  },
  {
   "cell_type": "markdown",
   "metadata": {},
   "source": [
    "Given a list, we can slice it to get any parts or combination of its elements forming another list."
   ]
  },
  {
   "cell_type": "code",
   "execution_count": null,
   "metadata": {
    "colab": {
     "base_uri": "https://localhost:8080/"
    },
    "id": "6vgpF3uumLSh",
    "outputId": "94668bd8-cc67-4662-8005-ad85d70c0415"
   },
   "outputs": [],
   "source": [
    "# Get the elements from index 0 to 2. Index 2 is not included.\n",
    "\n",
    "week_days = ['Mon', 'Tue', 'Wed', 'Thur','Fri']\n",
    "week_days[0:2]"
   ]
  },
  {
   "cell_type": "code",
   "execution_count": null,
   "metadata": {
    "colab": {
     "base_uri": "https://localhost:8080/"
    },
    "id": "rbz02O80mV1K",
    "outputId": "2ba533db-6467-4121-b964-ba9c1bf40a3b"
   },
   "outputs": [],
   "source": [
    "# Get elements from the last fourth elements to the first\n",
    "# -1 starts at the last element 'Fri', -2 second last element `Thur'..... -4 to 'Tue'\n",
    "\n",
    "week_days[-4:]"
   ]
  },
  {
   "cell_type": "code",
   "execution_count": null,
   "metadata": {},
   "outputs": [],
   "source": [
    "# Get all elements up to the fourth index\n",
    "\n",
    "week_days[:4]"
   ]
  },
  {
   "cell_type": "code",
   "execution_count": null,
   "metadata": {},
   "outputs": [],
   "source": [
    "# Get all elements from the second to the last index\n",
    "\n",
    "week_days[2:]"
   ]
  },
  {
   "cell_type": "markdown",
   "metadata": {},
   "source": [
    "You can use `[:]` to copy the entire list. "
   ]
  },
  {
   "cell_type": "code",
   "execution_count": null,
   "metadata": {},
   "outputs": [],
   "source": [
    "# Get all elements in the list\n",
    "week_days[:]"
   ]
  },
  {
   "cell_type": "markdown",
   "metadata": {},
   "source": [
    "#### Changing elements in a list\n",
    "\n",
    "Python lists are mutable. We can delete or change the elements of the list."
   ]
  },
  {
   "cell_type": "code",
   "execution_count": null,
   "metadata": {},
   "outputs": [],
   "source": [
    "names = ['James', 'Jean', 'Sebastian', 'Prit']\n",
    "names"
   ]
  },
  {
   "cell_type": "code",
   "execution_count": null,
   "metadata": {},
   "outputs": [],
   "source": [
    "# Change 'Jean' to 'Nyandwi' and 'Sebastian' to 'Ras'\n",
    "\n",
    "names[1:3] = ['Nyandwi', 'Ras']\n",
    "names"
   ]
  },
  {
   "cell_type": "code",
   "execution_count": null,
   "metadata": {},
   "outputs": [],
   "source": [
    "# Change 'Prit' to Sun\n",
    "\n",
    "names[-1] = 'Sun'\n",
    "names"
   ]
  },
  {
   "cell_type": "code",
   "execution_count": null,
   "metadata": {},
   "outputs": [],
   "source": [
    "# Change `James` to `yonas`\n",
    "\n",
    "names[0] = 'yonas'\n",
    "names"
   ]
  },
  {
   "cell_type": "markdown",
   "metadata": {},
   "source": [
    "In order to delete a given element in a list, we can empty slice it but the better way to delete element is to use `del` keyword."
   ]
  },
  {
   "cell_type": "code",
   "execution_count": null,
   "metadata": {},
   "outputs": [],
   "source": [
    "# Delete Nyandwi in names list\n",
    "\n",
    "del names[1]\n",
    "names"
   ]
  },
  {
   "cell_type": "markdown",
   "metadata": {},
   "source": [
    "- If you know the index of the element you want to remove, you can use `pop()`. \n",
    "\n",
    "- If you don't provide the index in pop(), the last element will be deleted."
   ]
  },
  {
   "cell_type": "code",
   "execution_count": null,
   "metadata": {},
   "outputs": [],
   "source": [
    "names = ['James', 'Jean', 'Sebastian', 'Prit']\n",
    "names.pop(2)\n",
    "names"
   ]
  },
  {
   "cell_type": "markdown",
   "metadata": {},
   "source": [
    "Also, we can use `remove()` to delete the element provided inside the remove() method."
   ]
  },
  {
   "cell_type": "code",
   "execution_count": null,
   "metadata": {},
   "outputs": [],
   "source": [
    "names = ['James', 'Jean', 'Sebastian', 'Prit']\n",
    "names.remove('James')\n",
    "names"
   ]
  },
  {
   "cell_type": "markdown",
   "metadata": {},
   "source": [
    "We can also use `append()` to add element to the list."
   ]
  },
  {
   "cell_type": "code",
   "execution_count": null,
   "metadata": {
    "colab": {
     "base_uri": "https://localhost:8080/"
    },
    "id": "4IQ2eSWKnUUe",
    "outputId": "b9a4bb0a-7e58-4c65-e2f6-0e6bc7e26cc1"
   },
   "outputs": [],
   "source": [
    "# Adding the new elements in list\n",
    "\n",
    "names = ['James', 'Jean', 'Sebastian', 'Prit']\n",
    "names.append('Jac')\n",
    "names.append('Jess')\n",
    "names"
   ]
  },
  {
   "cell_type": "markdown",
   "metadata": {},
   "source": [
    "#### Operations on list"
   ]
  },
  {
   "cell_type": "code",
   "execution_count": null,
   "metadata": {
    "colab": {
     "base_uri": "https://localhost:8080/"
    },
    "id": "eAFvBTBwnwE6",
    "outputId": "b38e412a-9839-454c-b8b2-5594174225e2"
   },
   "outputs": [],
   "source": [
    "# Concatenating two lists\n",
    "\n",
    "a = [1,2,3]\n",
    "b = [4,5,6]\n",
    "\n",
    "c = a + b\n",
    "\n",
    "c"
   ]
  },
  {
   "cell_type": "code",
   "execution_count": null,
   "metadata": {},
   "outputs": [],
   "source": [
    "# We can also use * operator to repeat a list a number of times\n",
    "\n",
    "[None] * 5"
   ]
  },
  {
   "cell_type": "code",
   "execution_count": null,
   "metadata": {},
   "outputs": [],
   "source": [
    "# Creating a list with repeated elements\n",
    "[True] * 4"
   ]
  },
  {
   "cell_type": "code",
   "execution_count": null,
   "metadata": {},
   "outputs": [],
   "source": [
    "# Creating a list with repeated elements\n",
    "[1,2,4,5] * 2"
   ]
  },
  {
   "cell_type": "markdown",
   "metadata": {},
   "source": [
    "#### Nested lists"
   ]
  },
  {
   "cell_type": "code",
   "execution_count": null,
   "metadata": {
    "colab": {
     "base_uri": "https://localhost:8080/"
    },
    "id": "YfuV7azQoAfP",
    "outputId": "8d5fe027-3b49-482b-af56-4eaf0713169b"
   },
   "outputs": [],
   "source": [
    "# Creating a list in other list\n",
    "\n",
    "nested_list = [1,2,3, ['a', 'b', 'c']]\n",
    "\n",
    "\n",
    "# Get the ['a', 'b', 'c'] from the nested_list\n",
    "\n",
    "nested_list[3]"
   ]
  },
  {
   "cell_type": "code",
   "execution_count": null,
   "metadata": {},
   "outputs": [],
   "source": [
    "nested_list[3][0]  # Get 'a' from the nested list"
   ]
  },
  {
   "cell_type": "code",
   "execution_count": null,
   "metadata": {},
   "outputs": [],
   "source": [
    "# Indexing and slicing a nested list is quite similar to normal list\n",
    "\n",
    "nested_list[1]"
   ]
  },
  {
   "cell_type": "markdown",
   "metadata": {
    "id": "-06aEzRYpQuv"
   },
   "source": [
    "#### List Methods\n",
    "\n",
    "- Python also offers methods which make it easy to work with lists. \n",
    "\n",
    "- We already have been using some list methods such as `pop()` and `append()` but let's review more other methods."
   ]
  },
  {
   "cell_type": "code",
   "execution_count": null,
   "metadata": {
    "colab": {
     "base_uri": "https://localhost:8080/"
    },
    "id": "J9mdh2H7pQuw",
    "outputId": "5ae746d6-e318-438d-cfef-88548b052299"
   },
   "outputs": [],
   "source": [
    "# Sorting a list with sort()\n",
    "\n",
    "even_numbers = [2,14,16,12,20,8,10]\n",
    "\n",
    "even_numbers.sort()\n",
    "\n",
    "even_numbers"
   ]
  },
  {
   "cell_type": "code",
   "execution_count": null,
   "metadata": {
    "colab": {
     "base_uri": "https://localhost:8080/"
    },
    "id": "rIkRCqJFpQuw",
    "outputId": "7a1c9c79-4c4c-4c7e-b740-83b78636d4dc"
   },
   "outputs": [],
   "source": [
    "# Reversing a string with reverse()\n",
    "\n",
    "even_numbers.reverse()\n",
    "even_numbers"
   ]
  },
  {
   "cell_type": "code",
   "execution_count": null,
   "metadata": {
    "colab": {
     "base_uri": "https://localhost:8080/"
    },
    "id": "XkPIhdgspQux",
    "outputId": "dbc9490d-f065-4ae0-a760-2411d620f499"
   },
   "outputs": [],
   "source": [
    "# Adding other elements to a list with append()\n",
    "\n",
    "even_numbers = [2,14,16,12,20,8,10]\n",
    "\n",
    "even_numbers.append(40)\n",
    "even_numbers"
   ]
  },
  {
   "cell_type": "code",
   "execution_count": null,
   "metadata": {
    "colab": {
     "base_uri": "https://localhost:8080/"
    },
    "id": "ar0cycDrpQux",
    "outputId": "fa83b714-1d63-4b14-f4d6-a5d0ac6cd3dc"
   },
   "outputs": [],
   "source": [
    "# Removing the first element of a list\n",
    "\n",
    "even_numbers.remove(2)\n",
    "even_numbers"
   ]
  },
  {
   "cell_type": "code",
   "execution_count": null,
   "metadata": {
    "colab": {
     "base_uri": "https://localhost:8080/"
    },
    "id": "cEaIcsmepQux",
    "outputId": "626ea699-cdf2-454b-958e-8fba665495dd"
   },
   "outputs": [],
   "source": [
    "## Return the element of the list at index x\n",
    "\n",
    "even_numbers = [2,14,16,12,20,8,10]\n",
    "\n",
    "## Return the item at the 1st index\n",
    "\n",
    "even_numbers.pop(1)\n",
    "\n",
    "week_days = ['Mon', 'Tue', 'Wed', 'Thur','Fri']\n",
    "\n",
    "even_numbers"
   ]
  },
  {
   "cell_type": "code",
   "execution_count": null,
   "metadata": {
    "colab": {
     "base_uri": "https://localhost:8080/"
    },
    "id": "F1VVBhZOpQuy",
    "outputId": "f77f0562-e653-4d83-eefb-b8346470b9d9"
   },
   "outputs": [],
   "source": [
    "# pop() without index specified will return the last element of the list\n",
    "\n",
    "even_numbers = [2,14,16,12,20,8,10]\n",
    "even_numbers.pop()\n",
    "even_numbers"
   ]
  },
  {
   "cell_type": "code",
   "execution_count": null,
   "metadata": {
    "colab": {
     "base_uri": "https://localhost:8080/"
    },
    "id": "X19sfgRHpQuy",
    "outputId": "2334f253-bc52-4314-9dc6-26914a3d7d51"
   },
   "outputs": [],
   "source": [
    "# Count a number of times an element appear in a list\n",
    "\n",
    "even_numbers = [2,2,4,6,8,2]\n",
    "even_numbers.count(2)"
   ]
  },
  {
   "cell_type": "markdown",
   "metadata": {},
   "source": [
    "#### List and strings"
   ]
  },
  {
   "cell_type": "markdown",
   "metadata": {},
   "source": [
    "We previously have learned about strings. Strings are sequence of characters. List is a sequence of values. "
   ]
  },
  {
   "cell_type": "code",
   "execution_count": null,
   "metadata": {},
   "outputs": [],
   "source": [
    "# We can convert a string into list\n",
    "\n",
    "stri = 'Apple'\n",
    "\n",
    "list(stri)"
   ]
  },
  {
   "cell_type": "code",
   "execution_count": null,
   "metadata": {},
   "outputs": [],
   "source": [
    "# Splitting a string produces a list of individual words\n",
    "\n",
    "stri_2 = \"List and Strings\"\n",
    "stri_2.split()"
   ]
  },
  {
   "cell_type": "markdown",
   "metadata": {},
   "source": [
    "The split() string method allows to specify the character to use a a boundary while splitting the string. It's called delimiter."
   ]
  },
  {
   "cell_type": "code",
   "execution_count": null,
   "metadata": {},
   "outputs": [],
   "source": [
    "stri_3 = \"state-of-the-art\"\n",
    "\n",
    "stri_3.split('-')"
   ]
  },
  {
   "cell_type": "code",
   "execution_count": null,
   "metadata": {},
   "outputs": [],
   "source": []
  },
  {
   "cell_type": "markdown",
   "metadata": {
    "id": "qXcv4KtLq2RJ"
   },
   "source": [
    "---\n",
    "\n",
    "<a name='2-2'></a>\n",
    "\n",
    "### 2.2 Dictionaries"
   ]
  },
  {
   "cell_type": "markdown",
   "metadata": {},
   "source": [
    "- Dictionaries are powerful Python data structure that are used to store data of ``key` and `values`.\n",
    "\n",
    "- A dictionary is a collection of key and values. A dictionary stores a mapping of keys and values. A key is what we can refer to index.\n",
    "\n",
    "- It is unordered, changeable, and does not allow duplicate keys.\n",
    "\n",
    "What we will see:\n",
    "\n",
    "- Creating a dictionary\n",
    "- Accessing values and keys in dictionary\n",
    "- Solving counting problems with dictionary\n",
    "- Traversing a dictionary\n",
    "- The setdefault() method"
   ]
  },
  {
   "cell_type": "markdown",
   "metadata": {},
   "source": [
    "#### Creating a dictionary"
   ]
  },
  {
   "cell_type": "markdown",
   "metadata": {},
   "source": [
    "- We can create with a `dict()` function and add items later\n",
    "\n",
    "- or insert keys and values right away in the curly brackets { }. \n",
    "\n",
    "Let's start with dict() function to create an empty dictionary. "
   ]
  },
  {
   "cell_type": "code",
   "execution_count": null,
   "metadata": {},
   "outputs": [],
   "source": [
    "# Creating a dictionary\n",
    "\n",
    "countries_code = dict()\n",
    "print(countries_code)"
   ]
  },
  {
   "cell_type": "markdown",
   "metadata": {},
   "source": [
    "You can verify it's a dictionary by passing it through `type()`."
   ]
  },
  {
   "cell_type": "code",
   "execution_count": null,
   "metadata": {},
   "outputs": [],
   "source": [
    "type(countries_code)"
   ]
  },
  {
   "cell_type": "markdown",
   "metadata": {},
   "source": [
    "Let's add items to the empty dictionary that we just created."
   ]
  },
  {
   "cell_type": "code",
   "execution_count": null,
   "metadata": {
    "id": "ehjyFwirq7A0"
   },
   "outputs": [],
   "source": [
    "# Adding items to the empty dictionary.\n",
    "\n",
    "countries_code[\"Kenya\"] = 254"
   ]
  },
  {
   "cell_type": "code",
   "execution_count": null,
   "metadata": {},
   "outputs": [],
   "source": [
    "countries_code"
   ]
  },
  {
   "cell_type": "markdown",
   "metadata": {},
   "source": [
    "Let's create a dictionary with {}. It's the common way to create a dictionary."
   ]
  },
  {
   "cell_type": "code",
   "execution_count": null,
   "metadata": {
    "colab": {
     "base_uri": "https://localhost:8080/"
    },
    "id": "R1miLn1BuN9J",
    "outputId": "3eda6a2d-d452-4272-80af-2f1d45dd525b"
   },
   "outputs": [],
   "source": [
    "countries_code = { \n",
    "        \"Ethiopia\": 251,\n",
    "        \"Kenya\": 254,\n",
    "        \"Rwanda\":250,\n",
    "        \"Uganda\": 49,\n",
    "        \"Tanzania\": 91,\n",
    "}\n",
    "\n",
    "countries_code"
   ]
  },
  {
   "cell_type": "markdown",
   "metadata": {},
   "source": [
    "To add key and values to a dictionary, we just add the new key to [ ] and set its new value. See below for example..."
   ]
  },
  {
   "cell_type": "code",
   "execution_count": null,
   "metadata": {},
   "outputs": [],
   "source": [
    "countries_code['Djibouti'] = 253\n",
    "countries_code"
   ]
  },
  {
   "cell_type": "markdown",
   "metadata": {},
   "source": [
    "#### Accessing the values and keys in a dictionary"
   ]
  },
  {
   "cell_type": "markdown",
   "metadata": {},
   "source": [
    "Just like how we get values in a list by using their indices, in dictionary, we can use a key to get its corresponding value."
   ]
  },
  {
   "cell_type": "code",
   "execution_count": null,
   "metadata": {},
   "outputs": [],
   "source": [
    "# Getting the code of Rwanda\n",
    "\n",
    "countries_code[\"Rwanda\"]"
   ]
  },
  {
   "cell_type": "markdown",
   "metadata": {},
   "source": [
    "We can also check if a key exists in a dictionary by using a classic `in` operator."
   ]
  },
  {
   "cell_type": "code",
   "execution_count": null,
   "metadata": {},
   "outputs": [],
   "source": [
    "\"India\" in countries_code "
   ]
  },
  {
   "cell_type": "code",
   "execution_count": null,
   "metadata": {},
   "outputs": [],
   "source": [
    "# Should be False\n",
    "\n",
    "\"Kenya\" in countries_code"
   ]
  },
  {
   "cell_type": "markdown",
   "metadata": {},
   "source": [
    "To get all the keys, value, and items of the dictionary, we can respectively use `keys()`, `values()`, and `items()` methods."
   ]
  },
  {
   "cell_type": "code",
   "execution_count": null,
   "metadata": {},
   "outputs": [],
   "source": [
    "# Getting the keys and the values and items of the dictionary\n",
    "\n",
    "dict_keys = countries_code.keys() # Get all keys of the dictionary\n",
    "dict_values = countries_code.values() # Get all values of the dictionary\n",
    "dict_items = countries_code.items() # Get all items (key-value pairs) of the dictionary\n",
    "\n",
    "print(f\"Keys: {dict_keys}\\n Values:{dict_values}\\n Items:{dict_items}\")"
   ]
  },
  {
   "cell_type": "markdown",
   "metadata": {},
   "source": [
    "Lastly, we can use `get()` method to return the value of a specified key. Get method allows to also provide a value that will be returned in case the key doesn't exists. This is a cool feature!!"
   ]
  },
  {
   "cell_type": "code",
   "execution_count": null,
   "metadata": {},
   "outputs": [],
   "source": [
    "# Get the value of the Kenya\n",
    "\n",
    "countries_code.get('Kenya')"
   ]
  },
  {
   "cell_type": "code",
   "execution_count": null,
   "metadata": {},
   "outputs": [],
   "source": [
    "countries_code"
   ]
  },
  {
   "cell_type": "markdown",
   "metadata": {},
   "source": [
    "#### Traversing a dictionary\n",
    "\n",
    "We previously used for loop in dictionary to iterate through the values. Let's review it again."
   ]
  },
  {
   "cell_type": "code",
   "execution_count": null,
   "metadata": {},
   "outputs": [],
   "source": [
    "countries_code"
   ]
  },
  {
   "cell_type": "code",
   "execution_count": null,
   "metadata": {},
   "outputs": [],
   "source": [
    "for country in countries_code:\n",
    "    print(country)"
   ]
  },
  {
   "cell_type": "markdown",
   "metadata": {},
   "source": [
    "We can also iterate through the items(key, values) of the dictionary."
   ]
  },
  {
   "cell_type": "code",
   "execution_count": null,
   "metadata": {},
   "outputs": [],
   "source": [
    "for country, code in countries_code.items():\n",
    "    print(country, code)"
   ]
  },
  {
   "cell_type": "markdown",
   "metadata": {},
   "source": [
    "#### The setdefault() Method\n",
    "\n",
    "- The setdefault() method allows you to set a value of a given key that does not already have a key. \n",
    "\n",
    "- This can be helpful when you want to update the dictionary with a new value in case the key you are looking for does not exist."
   ]
  },
  {
   "cell_type": "code",
   "execution_count": null,
   "metadata": {},
   "outputs": [],
   "source": [
    "countries_code.setdefault(\"Somalia\", 252)"
   ]
  },
  {
   "cell_type": "code",
   "execution_count": null,
   "metadata": {},
   "outputs": [],
   "source": [
    "countries_code"
   ]
  },
  {
   "cell_type": "code",
   "execution_count": null,
   "metadata": {},
   "outputs": [],
   "source": [
    "\n",
    "# Remove a key-value pair\n",
    "countries_code.pop(\"UK\")"
   ]
  },
  {
   "cell_type": "code",
   "execution_count": null,
   "metadata": {},
   "outputs": [],
   "source": [
    "countries_code"
   ]
  },
  {
   "cell_type": "code",
   "execution_count": null,
   "metadata": {},
   "outputs": [],
   "source": [
    "station = {\n",
    "    \"id\": \"ADD001\",\n",
    "    \"name\": \"Addis Ababa Observatory\",\n",
    "    \"coords\": (9.03, 38.74),\n",
    "    \"daily_precip_mm\": [0.0, 2.1, 0.0, 5.4, 1.2],\n",
    "}\n",
    "station[\"name\"], station[\"coords\"]\n"
   ]
  },
  {
   "cell_type": "markdown",
   "metadata": {
    "id": "Lep0FmTjvTct"
   },
   "source": [
    "***Summarizing dictionary***\n",
    "\n",
    "* Dictionaries are not ordered and they can not be sorted - list are ordered (and unordered) and can be sorted.\n",
    "\n",
    "* Dictionary can store data of different types: floats, integers and strings and can also store lists. "
   ]
  },
  {
   "cell_type": "markdown",
   "metadata": {
    "id": "0LH13FnDwfJq"
   },
   "source": [
    "---\n",
    "\n",
    "<a name='2-3'></a>\n",
    "\n",
    "### 2.3 Tuples\n",
    "\n",
    "- Tuple is similar to list but the difference is that you can't change the values once it is defined (termed as `immutability`). \n",
    "\n",
    "- Due to this property it can be used to keep things that you do not want to change in your program. \n",
    "\n",
    "- Example can be a country codes, zipcodes, etc...\n"
   ]
  },
  {
   "cell_type": "code",
   "execution_count": null,
   "metadata": {},
   "outputs": [],
   "source": [
    "coords = (9.03, 38.74)\n",
    "lat, lon = coords    # tuple unpacking\n",
    "lat, lon"
   ]
  },
  {
   "cell_type": "code",
   "execution_count": null,
   "metadata": {},
   "outputs": [],
   "source": [
    "# Empty tuple\n",
    "tup1 = ()      \n"
   ]
  },
  {
   "cell_type": "code",
   "execution_count": null,
   "metadata": {},
   "outputs": [],
   "source": [
    " # tuple of integers numbers\n",
    "tup2 = (10,30,60)  \n",
    "\n",
    "print(tup2)"
   ]
  },
  {
   "cell_type": "code",
   "execution_count": null,
   "metadata": {},
   "outputs": [],
   "source": [
    "# tuple of float numbers\n",
    "tup3 = (10.77,30.66,60.89)\n",
    "print(tup3)"
   ]
  },
  {
   "cell_type": "code",
   "execution_count": null,
   "metadata": {},
   "outputs": [],
   "source": [
    " # tuple of strings\n",
    "tup4 = ('apple', 'banana', 'cherry')\n",
    "print(tup4)"
   ]
  },
  {
   "cell_type": "code",
   "execution_count": null,
   "metadata": {},
   "outputs": [],
   "source": [
    " # Nested tuples\n",
    "tup5 = ('Asif', 25 ,(50, 100),(150, 90))\n",
    "\n",
    "print(tup5)\n"
   ]
  },
  {
   "cell_type": "code",
   "execution_count": null,
   "metadata": {},
   "outputs": [],
   "source": [
    "# accessing elements in nested tuples\n",
    "\n",
    "tup5[2]  # Accessing the third element which is a tuple (50, 100)"
   ]
  },
  {
   "cell_type": "code",
   "execution_count": null,
   "metadata": {},
   "outputs": [],
   "source": [
    "tup5[2][0]  # Accessing the first element of the third element which is 50"
   ]
  },
  {
   "cell_type": "code",
   "execution_count": null,
   "metadata": {},
   "outputs": [],
   "source": [
    "len(tup5) #Length of list"
   ]
  },
  {
   "cell_type": "code",
   "execution_count": null,
   "metadata": {
    "id": "mXy3mtYWxeNC"
   },
   "outputs": [],
   "source": [
    "tup = (1,4,5,6,7,8,1)"
   ]
  },
  {
   "cell_type": "code",
   "execution_count": null,
   "metadata": {
    "colab": {
     "base_uri": "https://localhost:8080/"
    },
    "id": "WDn6FBozxpn8",
    "outputId": "3bffe88b-ce26-4eea-ae57-b9b9d15481de"
   },
   "outputs": [],
   "source": [
    "# Indexing\n",
    "\n",
    "tup[4]"
   ]
  },
  {
   "cell_type": "code",
   "execution_count": null,
   "metadata": {},
   "outputs": [],
   "source": [
    "tup[-1]"
   ]
  },
  {
   "cell_type": "code",
   "execution_count": null,
   "metadata": {
    "id": "n4i9sYcVxtTu"
   },
   "outputs": [],
   "source": [
    "## Tuples are not changeable. Running below code will cause an error\n",
    "\n",
    "tup[2] = 10"
   ]
  },
  {
   "cell_type": "code",
   "execution_count": null,
   "metadata": {
    "id": "DiuL_4xrx8t-"
   },
   "outputs": [],
   "source": [
    "# You can not also add other values to the tuple. This will be error\n",
    "tup.append(12)"
   ]
  },
  {
   "cell_type": "code",
   "execution_count": null,
   "metadata": {},
   "outputs": [],
   "source": [
    "# Get the length of a tuple\n",
    "print(len(tup))  "
   ]
  },
  {
   "cell_type": "code",
   "execution_count": null,
   "metadata": {},
   "outputs": [],
   "source": [
    "# Count occurrences of an element\n",
    "print(tup.count(1))  "
   ]
  },
  {
   "cell_type": "markdown",
   "metadata": {},
   "source": [
    "### Tuple Slicing"
   ]
  },
  {
   "cell_type": "code",
   "execution_count": null,
   "metadata": {},
   "outputs": [],
   "source": [
    "# tuple slicing \n",
    "tup = (1,4,5,6,7,8,1)\n",
    "\n",
    "tup[-1]  # Accessing the last element which is 1\n",
    "tup[0]   # Accessing the first element which is 1\n",
    "tup[0:3] # Accessing elements from index 0 to 2\n",
    "tup[-1:3] # Accessing elements from last to index 3"
   ]
  },
  {
   "cell_type": "markdown",
   "metadata": {},
   "source": [
    "### Sorting a tuple with sorted() function"
   ]
  },
  {
   "cell_type": "code",
   "execution_count": null,
   "metadata": {},
   "outputs": [],
   "source": [
    "    \n",
    "tup = (5,2,8,1,4)\n",
    "\n",
    "sorted(tup)  # Returns a sorted list of the tuple elements\n"
   ]
  },
  {
   "cell_type": "code",
   "execution_count": null,
   "metadata": {},
   "outputs": [],
   "source": [
    "sorted(tup, reverse=True)  # Returns a sorted list of the tuple elements in descending order\n"
   ]
  },
  {
   "cell_type": "markdown",
   "metadata": {
    "id": "IELzAECOycaI"
   },
   "source": [
    "---\n",
    "\n",
    "<a name='2-4'></a>\n",
    "\n",
    "### 2.4 Sets"
   ]
  },
  {
   "cell_type": "markdown",
   "metadata": {
    "id": "Ul5m3MjMzTih"
   },
   "source": [
    "Sets are used to store the unique elements. They are not ordered like list. "
   ]
  },
  {
   "cell_type": "code",
   "execution_count": null,
   "metadata": {},
   "outputs": [],
   "source": [
    "codes = [\"RA\",\"RA\",\"TS\",\"BR\",\"TS\",\"NSW\",\"DZ\"]\n",
    "unique_codes = set(codes)\n",
    "unique_codes\n"
   ]
  },
  {
   "cell_type": "code",
   "execution_count": null,
   "metadata": {
    "colab": {
     "base_uri": "https://localhost:8080/"
    },
    "id": "aJUhhYUBzdXy",
    "outputId": "51daa7c3-4157-4f00-acba-7e2752e054ec"
   },
   "outputs": [],
   "source": [
    "set_1 = {1,2,3,4,5,6,7,8}\n",
    "\n",
    "set_1"
   ]
  },
  {
   "cell_type": "code",
   "execution_count": null,
   "metadata": {
    "colab": {
     "base_uri": "https://localhost:8080/"
    },
    "id": "s5vrQMXvzrrn",
    "outputId": "3666c04f-d689-4987-fa24-048a06d0400b"
   },
   "outputs": [],
   "source": [
    "set_2 = {1,1,2,3,5,3,2,2,4,5,7,8,8,5}\n",
    "set_2"
   ]
  },
  {
   "cell_type": "code",
   "execution_count": null,
   "metadata": {},
   "outputs": [],
   "source": [
    "len(set_2)"
   ]
  },
  {
   "cell_type": "markdown",
   "metadata": {
    "id": "1n9h4Q_Vz_Li"
   },
   "source": [
    "As you can see, set only keep unique values. There can't be a repetition of values. "
   ]
  },
  {
   "cell_type": "code",
   "execution_count": null,
   "metadata": {
    "colab": {
     "base_uri": "https://localhost:8080/"
    },
    "id": "lsKLPvIp0Mc3",
    "outputId": "5291d7fa-103e-48bb-aece-e9210cc0099c"
   },
   "outputs": [],
   "source": [
    "# List Vs Set\n",
    "\n",
    "odd_numbers = [1,1,3,7,9,3,5,7,9,9]\n",
    "\n",
    "print(\"List:{}\".format(odd_numbers))\n",
    "\n",
    "print(\"********\")\n",
    "\n",
    "set_odd_numbers = {1,1,3,7,9,3,5,7,9,9}\n",
    "\n",
    "print(\"Set:{}\".format(set_odd_numbers))"
   ]
  },
  {
   "cell_type": "markdown",
   "metadata": {
    "id": "TSqms6Vk2OKk"
   },
   "source": [
    "---\n",
    "\n",
    "<a name='3'></a>\n",
    "\n",
    "## 3. Comparison and Logic operators\n",
    "\n",
    "`Comparison` operators are used to compare values. It will either return true or false. "
   ]
  },
  {
   "cell_type": "code",
   "execution_count": null,
   "metadata": {
    "colab": {
     "base_uri": "https://localhost:8080/"
    },
    "id": "E0byfFXV2eNO",
    "outputId": "692ed6e7-1e26-404d-c47f-9ed3fafeb780"
   },
   "outputs": [],
   "source": [
    "## Greater than \n",
    "100 > 1"
   ]
  },
  {
   "cell_type": "code",
   "execution_count": null,
   "metadata": {
    "colab": {
     "base_uri": "https://localhost:8080/"
    },
    "id": "fzUdnfqh2gnd",
    "outputId": "f11ecacc-652b-437d-ac2d-eaa96d7007c8"
   },
   "outputs": [],
   "source": [
    "## Equal to\n",
    "\n",
    "100 == 1"
   ]
  },
  {
   "cell_type": "code",
   "execution_count": null,
   "metadata": {
    "colab": {
     "base_uri": "https://localhost:8080/"
    },
    "id": "sW39wpYQ2lBN",
    "outputId": "ce77eb3f-04b1-4223-ca2a-a56736baa944"
   },
   "outputs": [],
   "source": [
    "## Less than\n",
    "\n",
    "100 < 1"
   ]
  },
  {
   "cell_type": "code",
   "execution_count": null,
   "metadata": {
    "colab": {
     "base_uri": "https://localhost:8080/"
    },
    "id": "pmj9bZsy2qH4",
    "outputId": "25968aca-2a82-46fd-f89d-9f6a44c23b90"
   },
   "outputs": [],
   "source": [
    "## Greater or equal to\n",
    "\n",
    "100 >= 1"
   ]
  },
  {
   "cell_type": "code",
   "execution_count": null,
   "metadata": {
    "colab": {
     "base_uri": "https://localhost:8080/"
    },
    "id": "2GQMkYjn3DpW",
    "outputId": "06843fd0-bbc8-42ce-a18e-51ecf1361dfd"
   },
   "outputs": [],
   "source": [
    "## Less or equal to\n",
    "\n",
    "100 <= 1"
   ]
  },
  {
   "cell_type": "code",
   "execution_count": null,
   "metadata": {
    "colab": {
     "base_uri": "https://localhost:8080/"
    },
    "id": "utLU3_7y3KEJ",
    "outputId": "65271608-58ac-4e9a-c110-4a3776ce4c76"
   },
   "outputs": [],
   "source": [
    "'Intro to Python' == 'intro to python'"
   ]
  },
  {
   "cell_type": "code",
   "execution_count": null,
   "metadata": {
    "colab": {
     "base_uri": "https://localhost:8080/"
    },
    "id": "68QTmaFd3YpI",
    "outputId": "8983e42c-c607-4770-ae95-63d36dbc90a0"
   },
   "outputs": [],
   "source": [
    "'Intro to Python' == 'Intro to Python'"
   ]
  },
  {
   "cell_type": "markdown",
   "metadata": {
    "id": "I00qTqfM3d5R"
   },
   "source": [
    "`Logic` operators are used to compare two expressions made by comparison operators. \n",
    "\n",
    "* Logic `and` returns true only when both expressions are true, otherwise false. \n",
    "\n",
    "* Logic `or` returns true when either any of both expressions is true. Only false if both expressions are false.\n",
    "\n",
    "* Logic `not` as you can guess, it will return false when given expression is true, vice versa. "
   ]
  },
  {
   "cell_type": "code",
   "execution_count": null,
   "metadata": {
    "colab": {
     "base_uri": "https://localhost:8080/"
    },
    "id": "dlNW3zaW3tHj",
    "outputId": "7ae4a248-3ac9-48a6-827e-ccd5fe532879"
   },
   "outputs": [],
   "source": [
    "100 == 100 and 100 == 100"
   ]
  },
  {
   "cell_type": "code",
   "execution_count": null,
   "metadata": {
    "colab": {
     "base_uri": "https://localhost:8080/"
    },
    "id": "sJ77YW6D5zpq",
    "outputId": "7037d1a0-1641-4294-c01b-f6f21120dc7e"
   },
   "outputs": [],
   "source": [
    "100 <= 10 and 100 == 100"
   ]
  },
  {
   "cell_type": "code",
   "execution_count": null,
   "metadata": {
    "colab": {
     "base_uri": "https://localhost:8080/"
    },
    "id": "W51xeGzr552j",
    "outputId": "493b4a66-30e4-47b5-cf15-4ed46ca62931"
   },
   "outputs": [],
   "source": [
    "100 == 10 or 100 == 100"
   ]
  },
  {
   "cell_type": "code",
   "execution_count": null,
   "metadata": {
    "colab": {
     "base_uri": "https://localhost:8080/"
    },
    "id": "SAN6F8xj59iG",
    "outputId": "10e31953-d7f8-49f4-bfef-95b4ba118ce4"
   },
   "outputs": [],
   "source": [
    "100 == 10 or 100 == 10"
   ]
  },
  {
   "cell_type": "code",
   "execution_count": null,
   "metadata": {
    "colab": {
     "base_uri": "https://localhost:8080/"
    },
    "id": "9MOShqdV6DrH",
    "outputId": "f99699af-e8ec-49c7-d331-ffb6f2c79d9b"
   },
   "outputs": [],
   "source": [
    "not 1 == 2"
   ]
  },
  {
   "cell_type": "code",
   "execution_count": null,
   "metadata": {
    "colab": {
     "base_uri": "https://localhost:8080/"
    },
    "id": "3YYMcUeA6H3c",
    "outputId": "f68b4aed-e0a0-486a-b192-50a829315b63"
   },
   "outputs": [],
   "source": [
    "not 1 == 1"
   ]
  },
  {
   "cell_type": "markdown",
   "metadata": {
    "id": "3LFYoIiX_IdG"
   },
   "source": [
    "---\n",
    "\n",
    "<a name='4'></a>\n",
    "## 4. Control Flow\n",
    "\n",
    "We will cover:\n",
    "\n",
    "* If statement\n",
    "* For loop\n",
    "* While loop"
   ]
  },
  {
   "cell_type": "markdown",
   "metadata": {
    "id": "dECd-PX0i4L0"
   },
   "source": [
    "<a name='4-1'></a>\n",
    "\n",
    "### 4.1 If, Elif, Else"
   ]
  },
  {
   "cell_type": "markdown",
   "metadata": {
    "id": "PNm5yBHvFFZs"
   },
   "source": [
    "\n",
    "\n",
    "Structure of If condition:\n",
    "\n",
    "```\n",
    "if condition:\n",
    "  do something\n",
    "\n",
    "else:\n",
    "  do this\n",
    "```\n"
   ]
  },
  {
   "cell_type": "code",
   "execution_count": null,
   "metadata": {
    "id": "kliJhGlkA-dM"
   },
   "outputs": [],
   "source": [
    "if 100 < 2:\n",
    "\n",
    "  print(\"This will not be printed\")"
   ]
  },
  {
   "cell_type": "code",
   "execution_count": null,
   "metadata": {
    "colab": {
     "base_uri": "https://localhost:8080/"
    },
    "id": "DA6VkMFABLOE",
    "outputId": "12823390-a9ec-4aaa-9af2-e215c4700f87"
   },
   "outputs": [],
   "source": [
    "if 100 > 2:\n",
    "\n",
    "  print(\"This will be printed out\")"
   ]
  },
  {
   "cell_type": "code",
   "execution_count": null,
   "metadata": {
    "colab": {
     "base_uri": "https://localhost:8080/"
    },
    "id": "tB42MrxeBP9e",
    "outputId": "f13618dc-53c7-4754-b695-a2761c2f49a3"
   },
   "outputs": [],
   "source": [
    "if 100 < 2:\n",
    "\n",
    "  print(\"As expected, no thing will be displayed\")\n",
    "\n",
    "else:\n",
    "  print('Printed')"
   ]
  },
  {
   "cell_type": "code",
   "execution_count": null,
   "metadata": {
    "colab": {
     "base_uri": "https://localhost:8080/"
    },
    "id": "pJ8gAIF9B147",
    "outputId": "72970118-476a-4412-f72a-a9b38a652a35"
   },
   "outputs": [],
   "source": [
    "# Let's assign a number to a variable name 'jean_age' and 'yannick_age'\n",
    "\n",
    "john_age = 30\n",
    "luck_age = 20\n",
    "\n",
    "if john_age > luck_age:\n",
    "  print(\"John is older than Luck\")\n",
    "\n",
    "else:\n",
    "  print(\" John is younger than Luck\")"
   ]
  },
  {
   "cell_type": "code",
   "execution_count": null,
   "metadata": {
    "colab": {
     "base_uri": "https://localhost:8080/"
    },
    "id": "Zl-eiwRICAZg",
    "outputId": "fdbf8cf0-5aa6-4416-9006-6309df3fc3ef"
   },
   "outputs": [],
   "source": [
    "# Let's use multiple conditions \n",
    "\n",
    "john_age = 30\n",
    "luck_age = 20\n",
    "yan_age = 30\n",
    "\n",
    "if john_age < luck_age:\n",
    "  print(\"John is older than Luck\")\n",
    "\n",
    "elif yan_age == luck_age:\n",
    "  print(\" Yan's Age is same as Luck\")\n",
    "\n",
    "elif luck_age > john_age:\n",
    "  print(\"Luck is older than John\")\n",
    "\n",
    "else:\n",
    "  print(\"John's age is same as Yan\")"
   ]
  },
  {
   "cell_type": "markdown",
   "metadata": {
    "id": "D_mbbtQMRjcA"
   },
   "source": [
    "We can also put if condition into one line of code. This can be useful when you want to make a quick decision between few choices. \n",
    "\n",
    "Here is the structure:\n",
    "\n",
    "`'value_to_return_if_true' if condition else 'value_to_return_if_false'`\n",
    "\n",
    "Let's take some examples..."
   ]
  },
  {
   "cell_type": "code",
   "execution_count": null,
   "metadata": {
    "colab": {
     "base_uri": "https://localhost:8080/",
     "height": 35
    },
    "id": "Yca_thlBSTp1",
    "outputId": "fe1ddd46-ebf6-4ebf-c088-da387fcaa46b"
   },
   "outputs": [],
   "source": [
    "# Example 1: Return 'Even' if below num is 'Even' and `Odd` if not. \n",
    "\n",
    "num = 45\n",
    "\n",
    "'Even' if num % 2 == 0 else 'Odd'"
   ]
  },
  {
   "cell_type": "code",
   "execution_count": null,
   "metadata": {
    "colab": {
     "base_uri": "https://localhost:8080/"
    },
    "id": "aDxiANsSS-sd",
    "outputId": "48cd7c6d-a835-4ce5-c907-fcc22e2736b5"
   },
   "outputs": [],
   "source": [
    "# Example 2: Return True if a given element is in a list and False if not\n",
    "\n",
    "nums = [1,2,3,4,5,6]\n",
    "\n",
    "True if 3 in nums else False"
   ]
  },
  {
   "cell_type": "code",
   "execution_count": null,
   "metadata": {},
   "outputs": [],
   "source": [
    "pr = 8.0  # mm/day\n",
    "if pr == 0:\n",
    "    print(\"Dry day\")\n",
    "elif pr < 2.5:\n",
    "    print(\"Light rain\")\n",
    "else:\n",
    "    print(\"Rainy day\")\n"
   ]
  },
  {
   "cell_type": "markdown",
   "metadata": {
    "id": "DR82CZXPi97L"
   },
   "source": [
    "<a name='4-2'></a>\n",
    "### 4.2 For Loop"
   ]
  },
  {
   "cell_type": "markdown",
   "metadata": {
    "id": "4nNM1F9zEPIU"
   },
   "source": [
    "For loop is used to iterate over list, string, tuples, or dictionary. \n",
    "\n",
    "Structure of for loop:\n",
    "\n",
    "```\n",
    "for item in items:\n",
    "  do something\n",
    "```\n",
    "\n"
   ]
  },
  {
   "cell_type": "code",
   "execution_count": null,
   "metadata": {
    "colab": {
     "base_uri": "https://localhost:8080/"
    },
    "id": "lv8sBhK5EStD",
    "outputId": "20f7abc8-b48b-4adc-d21c-06c36ec5a31f"
   },
   "outputs": [],
   "source": [
    "even_nums = [2,4,6,8,10]\n",
    "\n",
    "for num in even_nums:\n",
    "  print(num)"
   ]
  },
  {
   "cell_type": "code",
   "execution_count": null,
   "metadata": {
    "colab": {
     "base_uri": "https://localhost:8080/"
    },
    "id": "BhUn214hEbul",
    "outputId": "e5ef21eb-2b58-4d0d-a26e-8cf3e66e42c8"
   },
   "outputs": [],
   "source": [
    "week_days = ['Mon', 'Tue', 'Wed', 'Thur','Fri']\n",
    "\n",
    "for day in week_days:\n",
    "  print(day)"
   ]
  },
  {
   "cell_type": "code",
   "execution_count": null,
   "metadata": {
    "colab": {
     "base_uri": "https://localhost:8080/"
    },
    "id": "IDhmxmTGF3ui",
    "outputId": "bfe3c5c6-a913-4d75-e5cd-983de528e8e6"
   },
   "outputs": [],
   "source": [
    "sentence = \"It's been a long time learning Python. I am revisiting the basics!!\"\n",
    "\n",
    "for letter in sentence:\n",
    "  print(letter)"
   ]
  },
  {
   "cell_type": "code",
   "execution_count": null,
   "metadata": {
    "colab": {
     "base_uri": "https://localhost:8080/"
    },
    "id": "WJvsmovUGLMf",
    "outputId": "25a9c7cf-1644-41e6-808f-bfa4ab7daf1d"
   },
   "outputs": [],
   "source": [
    "sentence = \"It's been a long time learning Python. I am revisiting the basics!!\"\n",
    "\n",
    "# split is a string method to split the words making the string\n",
    "\n",
    "for letter in sentence.split():\n",
    "  print(letter)"
   ]
  },
  {
   "cell_type": "code",
   "execution_count": null,
   "metadata": {
    "colab": {
     "base_uri": "https://localhost:8080/"
    },
    "id": "iPMw20rMGfiP",
    "outputId": "735e5a51-1013-40ec-ab2a-83cd1f6aeee7"
   },
   "outputs": [],
   "source": [
    "# For loop in dictionary \n",
    "\n",
    "countries_code = { \"United States\": 1,\n",
    "                 \"India\": 91,\n",
    "                 \"Germany\": 49,\n",
    "                 \"China\": 86,\n",
    "                 \"Rwanda\":250\n",
    "            }\n",
    "\n",
    "for country in countries_code:\n",
    "  print(country)"
   ]
  },
  {
   "cell_type": "code",
   "execution_count": null,
   "metadata": {
    "colab": {
     "base_uri": "https://localhost:8080/"
    },
    "id": "wsxejcLhGuhR",
    "outputId": "f9e78e4d-4a1f-489d-d92f-95de770f18bd"
   },
   "outputs": [],
   "source": [
    "for code in countries_code.values():\n",
    "  print(code)"
   ]
  },
  {
   "cell_type": "markdown",
   "metadata": {
    "id": "BlKSXtqtJsCn"
   },
   "source": [
    "For can also be used to iterate over an sequence of numbers. \n",
    "\n",
    "- `Range` is used to generate the sequence of numbers. \n",
    "\n",
    "\n",
    "\n",
    "```\n",
    "for number in range: \n",
    "  do something\n",
    "```\n",
    "\n"
   ]
  },
  {
   "cell_type": "code",
   "execution_count": null,
   "metadata": {
    "colab": {
     "base_uri": "https://localhost:8080/"
    },
    "id": "9JtM6IVQKEOr",
    "outputId": "4d995ca0-dda8-470a-aeaa-2b5964e33cb0"
   },
   "outputs": [],
   "source": [
    "for number in range(10):\n",
    "  print(number)"
   ]
  },
  {
   "cell_type": "code",
   "execution_count": null,
   "metadata": {
    "colab": {
     "base_uri": "https://localhost:8080/"
    },
    "id": "Rrd4cXk5KYCq",
    "outputId": "4ca9aed3-2e87-4d30-f574-a4ddf2abe87c"
   },
   "outputs": [],
   "source": [
    "for number in range(10, 20):\n",
    "  print(number)"
   ]
  },
  {
   "cell_type": "markdown",
   "metadata": {
    "id": "N9liuYozLIKp"
   },
   "source": [
    "One last thing about `for loop` is that we can use it to make a list. This is called list comprehension."
   ]
  },
  {
   "cell_type": "code",
   "execution_count": null,
   "metadata": {
    "colab": {
     "base_uri": "https://localhost:8080/"
    },
    "id": "4-N327iaLZQP",
    "outputId": "584dfca6-d844-45c8-c556-553e1587e33d"
   },
   "outputs": [],
   "source": [
    "letters = []\n",
    "\n",
    "for letter in 'MachineLearning':\n",
    "  letters.append(letter)\n",
    "\n",
    "letters"
   ]
  },
  {
   "cell_type": "markdown",
   "metadata": {
    "id": "VkOTDujzL7re"
   },
   "source": [
    "The above code can be simplified to the following code:"
   ]
  },
  {
   "cell_type": "code",
   "execution_count": null,
   "metadata": {
    "colab": {
     "base_uri": "https://localhost:8080/"
    },
    "id": "XKPCOnUJMBlu",
    "outputId": "420eac32-2e40-4893-a9bc-160c29139059"
   },
   "outputs": [],
   "source": [
    "letters = [letter for letter in 'MachineLearning']\n",
    "\n",
    "letters"
   ]
  },
  {
   "cell_type": "code",
   "execution_count": null,
   "metadata": {},
   "outputs": [],
   "source": [
    "# Accumulate rain until we reach 10 mm\n",
    "rain = [0.0, 0.5, 2.1, 7.8, 0.0, 0.0, 3.0]\n",
    "total = 0.0\n",
    "for r in rain:\n",
    "    total += r # total = total + r\n",
    "total\n"
   ]
  },
  {
   "cell_type": "markdown",
   "metadata": {
    "id": "UNgH0qhbHWEm"
   },
   "source": [
    "<a name='4-3'></a>\n",
    "\n",
    "### 4.3 While loop\n",
    "\n",
    "While loop will executes the statement(s) as long as the condition is true.\n",
    "\n",
    "Structure of while loop\n",
    "\n",
    "\n",
    "\n",
    "```\n",
    "while condition:\n",
    "  statement(s)\n",
    "```\n",
    "\n"
   ]
  },
  {
   "cell_type": "code",
   "execution_count": null,
   "metadata": {
    "colab": {
     "base_uri": "https://localhost:8080/"
    },
    "id": "STL6xiWTHp3w",
    "outputId": "c29cccc6-3e0a-4c2b-e625-ffd4d4a1b9a7"
   },
   "outputs": [],
   "source": [
    "a = 10\n",
    "while a < 20:\n",
    "    print('a is: {}'.format(a)) # Display the value of a\n",
    "    a = a + 1"
   ]
  },
  {
   "cell_type": "code",
   "execution_count": null,
   "metadata": {},
   "outputs": [],
   "source": [
    "# Walk forward until cumulative rain >= 10 mm or we run out of days\n",
    "i, cumulative = 0, 0.0\n",
    "while i < len(rain) and cumulative < 10.0:\n",
    "    cumulative += rain[i]\n",
    "    i += 1 # i = i + 1\n",
    "i, cumulative\n"
   ]
  },
  {
   "cell_type": "markdown",
   "metadata": {
    "id": "i_kah8CoLNf1"
   },
   "source": [
    "---\n",
    "\n",
    "<a name='5'></a>\n",
    "\n",
    "## 5. Functions\n",
    "\n",
    "- Functions are used to write codes or statements that can be used multiple times with different parameters. \n",
    "\n",
    "- One fundamental rule in programming is \"DRY\" or Do not Repeat Yourself. \n",
    "\n",
    "This is how you define a function in Python:\n",
    "\n",
    "```\n",
    "def function_name(parameters):\n",
    "\n",
    "  \"\"\"\n",
    "  This is Doc String\n",
    "  You can use it to notes about the functions\n",
    "  \"\"\"\n",
    "  statements \n",
    "\n",
    "  return results\n",
    "```\n",
    "* `function_name` is the name of the function. It must not be similar to any built in functions. We will see built in functions later. \n",
    "* `parameters` are the values that are passed to the function.\n",
    "* `Doc String` is used to add notes about the function. It is not a must to use it but it is a `good practice`. \n",
    "\n",
    "* `return` specify something or value that you want to return everytime you call or run your function. \n",
    "\n"
   ]
  },
  {
   "cell_type": "code",
   "execution_count": null,
   "metadata": {
    "id": "PaLZl1rAMKFP"
   },
   "outputs": [],
   "source": [
    "# Function to add two numbers and return a sum\n",
    "\n",
    "def add_nums(a,b):\n",
    "\n",
    "  \"\"\"\n",
    "  Function to add two numbers given as inputs\n",
    "  It will return a sum of these two numbers\n",
    "  \"\"\"\n",
    "\n",
    "  sum = a+b\n",
    "  \n",
    "  return sum"
   ]
  },
  {
   "cell_type": "code",
   "execution_count": null,
   "metadata": {
    "colab": {
     "base_uri": "https://localhost:8080/"
    },
    "id": "2ZC1shNkMXiW",
    "outputId": "21911973-ef53-4c0f-d9b6-d7c5ae93d270"
   },
   "outputs": [],
   "source": [
    "add_nums(2,4)"
   ]
  },
  {
   "cell_type": "code",
   "execution_count": null,
   "metadata": {
    "colab": {
     "base_uri": "https://localhost:8080/"
    },
    "id": "7b5NRnJknUoM",
    "outputId": "43375893-6316-45cb-9e3c-23119adc159f"
   },
   "outputs": [],
   "source": [
    "add_nums(4,5)"
   ]
  },
  {
   "cell_type": "code",
   "execution_count": null,
   "metadata": {
    "colab": {
     "base_uri": "https://localhost:8080/"
    },
    "id": "q6ZlApF1uOQa",
    "outputId": "aa353c28-19b5-4327-c845-2e187452ee83"
   },
   "outputs": [],
   "source": [
    "# Displaying the doc string noted early\n",
    "\n",
    "print(add_nums.__doc__)"
   ]
  },
  {
   "cell_type": "code",
   "execution_count": null,
   "metadata": {
    "id": "cS9vtHboMjDM"
   },
   "outputs": [],
   "source": [
    "def activity(name_1, name_2):\n",
    "\n",
    "  print(\"{} and {} are playing basketball!\".format(name_1, name_2))"
   ]
  },
  {
   "cell_type": "code",
   "execution_count": null,
   "metadata": {
    "colab": {
     "base_uri": "https://localhost:8080/"
    },
    "id": "PwWx1JKInAy9",
    "outputId": "9f01176f-57ad-4cac-d39a-6e46528c8a98"
   },
   "outputs": [],
   "source": [
    "activity(\"yonas\", \"Tamirat\")"
   ]
  },
  {
   "cell_type": "code",
   "execution_count": null,
   "metadata": {},
   "outputs": [],
   "source": [
    "def c_to_k(t_c: float) -> float:\n",
    "    \"\"\"Convert Celsius to Kelvin.\n",
    "\n",
    "    Parameters\n",
    "    ----------\n",
    "    t_c : float\n",
    "        Temperature in C.\n",
    "    Returns\n",
    "    -------\n",
    "    float\n",
    "        Temperature in Kelvin.\n",
    "    \"\"\"\n",
    "    return t_c + 273.15\n",
    "\n",
    "c_to_k(30.0)"
   ]
  },
  {
   "cell_type": "markdown",
   "metadata": {
    "id": "UdBoHK66wJIj"
   },
   "source": [
    "---\n",
    "\n",
    "<a name='6'></a>\n",
    "\n",
    "## 6. Lamdba Functions\n",
    "\n",
    "- There are times that you want to create anonymous functions. \n",
    "\n",
    "- These types of functions will only need to have one expressions. \n"
   ]
  },
  {
   "cell_type": "code",
   "execution_count": null,
   "metadata": {
    "colab": {
     "base_uri": "https://localhost:8080/"
    },
    "id": "M7QssT3XyBUa",
    "outputId": "f3b4bf11-ed3a-4aef-9df2-966a869a0639"
   },
   "outputs": [],
   "source": [
    "## Sum of two numbers \n",
    "\n",
    "def add_nums(a,b):\n",
    "\n",
    "  sum = a+b\n",
    "  \n",
    "  return sum\n",
    "\n",
    "add_nums(1,3)"
   ]
  },
  {
   "cell_type": "markdown",
   "metadata": {
    "id": "QZEDAQ91yN2V"
   },
   "source": [
    "We can use lambda to make the same function in just one line of code! Let's do it!!"
   ]
  },
  {
   "cell_type": "code",
   "execution_count": null,
   "metadata": {
    "colab": {
     "base_uri": "https://localhost:8080/"
    },
    "id": "3KuUmPLRyVMv",
    "outputId": "18f70243-45d5-42ef-eef3-8d08b8c0bbf3"
   },
   "outputs": [],
   "source": [
    "sum_of_two_nums = lambda c,d: c + d\n",
    "\n",
    "sum_of_two_nums(4,5)"
   ]
  },
  {
   "cell_type": "code",
   "execution_count": null,
   "metadata": {},
   "outputs": [],
   "source": [
    "c_to_f = lambda c: c * 9/5 + 32\n",
    "list(map(c_to_f, [20.0, 25.0, 30.0]))\n"
   ]
  },
  {
   "cell_type": "markdown",
   "metadata": {
    "id": "uyY1LsFnoZdF"
   },
   "source": [
    "---\n",
    "\n",
    "## <a name='7'></a>\n",
    "\n",
    "## 7. Built in Functions\n",
    "\n",
    "Python being a high level programming language, it has bunch of built in functions which make it easy to get quick computations done. "
   ]
  },
  {
   "cell_type": "code",
   "execution_count": null,
   "metadata": {
    "colab": {
     "base_uri": "https://localhost:8080/"
    },
    "id": "z9jRgZSSoiNv",
    "outputId": "73f486fe-5917-4b5e-b31b-59db44852609"
   },
   "outputs": [],
   "source": [
    "# using len() to count the length of the string\n",
    "\n",
    "message = 'Do not give up!'\n",
    "len(message)"
   ]
  },
  {
   "cell_type": "code",
   "execution_count": null,
   "metadata": {
    "colab": {
     "base_uri": "https://localhost:8080/"
    },
    "id": "ak5Xm5vhqGAL",
    "outputId": "eb679a70-e8f3-40e0-daab-ac03f1722e97"
   },
   "outputs": [],
   "source": [
    "# Using max() to find the maximum number in a list\n",
    "\n",
    "odd_numbers = [1,3,5,7]\n",
    "max(odd_numbers)"
   ]
  },
  {
   "cell_type": "code",
   "execution_count": null,
   "metadata": {
    "colab": {
     "base_uri": "https://localhost:8080/"
    },
    "id": "4_nIijESsGYj",
    "outputId": "8d176183-a12f-4897-ef41-59834acd237e"
   },
   "outputs": [],
   "source": [
    "# Using min() to find the minimum number in a list\n",
    "\n",
    "min(odd_numbers)"
   ]
  },
  {
   "cell_type": "code",
   "execution_count": null,
   "metadata": {
    "colab": {
     "base_uri": "https://localhost:8080/"
    },
    "id": "rayIhzYzsNe_",
    "outputId": "c0780c20-7d6e-48ee-9f23-bf1052a1ac4a"
   },
   "outputs": [],
   "source": [
    "# Sorting the list with sorted()\n",
    "\n",
    "odd_numbers = [9,7,3,5,11,13,15,1]\n",
    "\n",
    "sorted(odd_numbers)"
   ]
  },
  {
   "cell_type": "markdown",
   "metadata": {
    "id": "WYX_BY1Tu7PJ"
   },
   "source": [
    "Let's learn two more useful built functions: they are `map` and `filter`. "
   ]
  },
  {
   "cell_type": "markdown",
   "metadata": {
    "id": "8lOs84gi2ZMW"
   },
   "source": [
    "<a name='7-1'></a>\n",
    "\n",
    "### 7.1 Map function \n",
    "\n",
    "- Map gives you the ability to apply a function to an iterable structures such as list. \n",
    "\n",
    "- When used with a list for example, you can apply the function to every element of the list. \n",
    "\n",
    "Let's see how it works. \n"
   ]
  },
  {
   "cell_type": "code",
   "execution_count": null,
   "metadata": {
    "id": "W0vcZBUD27ah"
   },
   "outputs": [],
   "source": [
    "def cubic(number):\n",
    "  return number ** 3"
   ]
  },
  {
   "cell_type": "code",
   "execution_count": null,
   "metadata": {
    "id": "bsf6dgts3O2Y"
   },
   "outputs": [],
   "source": [
    "num_list = [0,1,2,3,4]"
   ]
  },
  {
   "cell_type": "code",
   "execution_count": null,
   "metadata": {
    "colab": {
     "base_uri": "https://localhost:8080/"
    },
    "id": "alUGYCrp3eh9",
    "outputId": "a46328b2-f18b-4a3c-a794-c8e298fc290b"
   },
   "outputs": [],
   "source": [
    "# Applying `map` to the num_list to just return the list where each element is cubed...(xxx3)\n",
    "\n",
    "list(map(cubic, num_list))"
   ]
  },
  {
   "cell_type": "code",
   "execution_count": null,
   "metadata": {},
   "outputs": [],
   "source": [
    "# Convert a list of C to K using map\n",
    "temps_c = [24.0, 26.5, 29.0]\n",
    "temps_k = list(map(lambda c: c + 273.15, temps_c))\n",
    "temps_k\n"
   ]
  },
  {
   "cell_type": "markdown",
   "metadata": {
    "id": "Lwoq1ore4gX8"
   },
   "source": [
    "### 7.2 Filter function"
   ]
  },
  {
   "cell_type": "code",
   "execution_count": null,
   "metadata": {
    "id": "WYPtPI8H5jt8"
   },
   "outputs": [],
   "source": [
    "def odd_check(number):\n",
    "  \n",
    "  return number % 2 != 0 \n",
    "\n",
    "# != is not equal to operation"
   ]
  },
  {
   "cell_type": "code",
   "execution_count": null,
   "metadata": {
    "colab": {
     "base_uri": "https://localhost:8080/"
    },
    "id": "Yz06GwMG57tp",
    "outputId": "aa8eeebd-21cd-4a7d-b379-42b21cc0e7eb"
   },
   "outputs": [],
   "source": [
    "# Create a list of numbers\n",
    "num_list = [1,2,4,5,6,7,8,9,10,11]\n",
    "\n",
    "# Applying `filter` to the num_list to just return the odd numbers in the list\n",
    "list(filter(odd_check, num_list))"
   ]
  },
  {
   "cell_type": "code",
   "execution_count": null,
   "metadata": {},
   "outputs": [],
   "source": [
    "# Keep rainy days >= 1 mm\n",
    "daily_mm = [0.0, 0.6, 1.2, 3.5, 0.0, 5.0]\n",
    "wet_days = list(filter(lambda mm: mm >= 1.0, daily_mm))\n",
    "wet_days\n"
   ]
  },
  {
   "cell_type": "markdown",
   "metadata": {
    "id": "Svoes7X-TzZ2"
   },
   "source": [
    "---\n",
    "\n",
    "<a name='8'></a>\n",
    "\n",
    "## 8. More Useful Python Stuff"
   ]
  },
  {
   "cell_type": "markdown",
   "metadata": {
    "id": "KVoGtQLbUBtw"
   },
   "source": [
    "Python is an awesome programming language that has a lot of useful functions.\n",
    "\n",
    "Let's see more useful things you may need beyond what's we just saw already."
   ]
  },
  {
   "cell_type": "markdown",
   "metadata": {
    "id": "iU8ylnxKWmMf"
   },
   "source": [
    "### 8.1 Enumerate Function"
   ]
  },
  {
   "cell_type": "markdown",
   "metadata": {
    "id": "iSej80ASb_eb"
   },
   "source": [
    "Enumerate function convert iterable objects into enumerate object. It basically returns a tuple that also contain a counter. \n",
    "\n",
    "That's sounds hard, but with examples, you can see how powerful this function is... "
   ]
  },
  {
   "cell_type": "code",
   "execution_count": null,
   "metadata": {
    "colab": {
     "base_uri": "https://localhost:8080/"
    },
    "id": "WibF3Munca0U",
    "outputId": "057678f1-9ae9-42a8-d61a-e17e96e6afe8"
   },
   "outputs": [],
   "source": [
    "seasons = ['Spring', 'Summer', 'Fall', 'Winter']\n",
    "\n",
    "list(enumerate(seasons))"
   ]
  },
  {
   "cell_type": "markdown",
   "metadata": {
    "id": "a2ISSpE-c9YE"
   },
   "source": [
    "As you can see, each element came with index counter automatically. The counter initially start at 0, but we can change it. "
   ]
  },
  {
   "cell_type": "code",
   "execution_count": null,
   "metadata": {
    "colab": {
     "base_uri": "https://localhost:8080/"
    },
    "id": "VTFXbLr_dc1i",
    "outputId": "572ef0a5-9807-49b7-cc0b-5e4b1c162b56"
   },
   "outputs": [],
   "source": [
    "list(enumerate(seasons, start=1))"
   ]
  },
  {
   "cell_type": "markdown",
   "metadata": {
    "id": "T8Z522_3eIPX"
   },
   "source": [
    "Here is another example: "
   ]
  },
  {
   "cell_type": "code",
   "execution_count": null,
   "metadata": {
    "colab": {
     "base_uri": "https://localhost:8080/"
    },
    "id": "fqeWYORBc8in",
    "outputId": "14dd00ee-4855-4c60-b497-7617d2fd1440"
   },
   "outputs": [],
   "source": [
    "class_names = ['Spring', 'Summer', 'Fall', 'Winter']\n",
    "\n",
    "for index, class_name in enumerate(class_names, start=0):\n",
    "  print(index,'-',class_name)"
   ]
  },
  {
   "cell_type": "code",
   "execution_count": null,
   "metadata": {},
   "outputs": [],
   "source": [
    "# Find first day exceeding 35C\n",
    "tmax = [30.0, 31.5, 34.9, 35.1, 33.0]\n",
    "idx = None\n",
    "for i, val in enumerate(tmax):\n",
    "    if val > 35.0:\n",
    "        idx = i\n",
    "        break\n",
    "idx\n"
   ]
  },
  {
   "cell_type": "markdown",
   "metadata": {
    "id": "4yCl-dG1eO2C"
   },
   "source": [
    "### 8.2 Zip Function"
   ]
  },
  {
   "cell_type": "markdown",
   "metadata": {
    "id": "uXM_FqareiWw"
   },
   "source": [
    "Zip is an incredible function that takes two iterators and returns a pair of corresponsing elements as a tuple. "
   ]
  },
  {
   "cell_type": "code",
   "execution_count": null,
   "metadata": {
    "colab": {
     "base_uri": "https://localhost:8080/"
    },
    "id": "VPUuYcJJe5Eu",
    "outputId": "d690b1c1-aa17-4d2f-9c73-4a16b3156832"
   },
   "outputs": [],
   "source": [
    "name = ['Jessy', 'Joe', 'Jeannette']\n",
    "role = ['ML Engineer', 'Web Developer', 'Data Engineer']\n",
    "\n",
    "zipped_name_role = zip(name, role)\n",
    "zipped_name_role"
   ]
  },
  {
   "cell_type": "markdown",
   "metadata": {
    "id": "FKvYS_glfjrs"
   },
   "source": [
    "The zip object return nothing. In order to show the zipped elements, we can use a list. It's also same thing for enumerate you saw above."
   ]
  },
  {
   "cell_type": "code",
   "execution_count": null,
   "metadata": {
    "colab": {
     "base_uri": "https://localhost:8080/"
    },
    "id": "R2r_01K9fylb",
    "outputId": "79ce3437-2b07-4496-e5df-a225b54f113d"
   },
   "outputs": [],
   "source": [
    "list(zipped_name_role)"
   ]
  },
  {
   "cell_type": "markdown",
   "metadata": {},
   "source": [
    "# 9. Python Modules"
   ]
  },
  {
   "cell_type": "markdown",
   "metadata": {},
   "source": [
    "- A Python module is a file containing `Python code`, such as `functions`, `variables`, or `classes`, that can be imported and used in another Python program.\n",
    "\n",
    "- Modules are reusable code libraries in Python.\n",
    "\n",
    "- You can import entire modules or specific functions/variables.\n",
    "\n",
    "- Built-in modules are ready to use, while external modules need installation with pip.\n",
    "\n",
    "Types of Loading Modules\n",
    " - Import the entire module: You can import an entire module and access its functions or variables using the module name.\n",
    " "
   ]
  },
  {
   "cell_type": "code",
   "execution_count": null,
   "metadata": {},
   "outputs": [],
   "source": [
    "# Importing the math module\n",
    "import math\n",
    "\n",
    "# Use the sqrt function from the math module\n",
    "result = math.sqrt(16)\n",
    "print(result) "
   ]
  },
  {
   "cell_type": "markdown",
   "metadata": {},
   "source": [
    "### Importing Specific Functions or Variables"
   ]
  },
  {
   "cell_type": "code",
   "execution_count": null,
   "metadata": {},
   "outputs": [],
   "source": [
    "# Importing only the sqrt function from math\n",
    "\n",
    "from math import sqrt\n",
    "\n",
    "# Directly use the sqrt function\n",
    "result = sqrt(25)\n",
    "print(result)"
   ]
  },
  {
   "cell_type": "markdown",
   "metadata": {},
   "source": [
    "### Using an Alias ‘\n",
    "\n",
    "- You can give a module or function an alias (short name) for convenience."
   ]
  },
  {
   "cell_type": "code",
   "execution_count": null,
   "metadata": {},
   "outputs": [],
   "source": [
    "# Using an alias for math\n",
    "import math as m\n",
    "\n",
    "# Use the alias to call functions\n",
    "result = m.pow(2, 3)  # 2 raised to the power of 3\n",
    "print(result)  "
   ]
  },
  {
   "cell_type": "markdown",
   "metadata": {},
   "source": [
    "### Importing All Contents of a Module\n",
    "\n",
    "- You can import everything from a module, but this is not recommended as it may lead to naming conflicts."
   ]
  },
  {
   "cell_type": "code",
   "execution_count": null,
   "metadata": {},
   "outputs": [],
   "source": [
    "# Importing all contents of math\n",
    "from math import *\n",
    "\n",
    "# Use functions without the module name\n",
    "result = factorial(5)\n",
    "print(result) "
   ]
  },
  {
   "cell_type": "markdown",
   "metadata": {},
   "source": [
    "### Built-in vs. External Modules\n",
    "\n",
    "Built-in Modules: Python comes with several modules built-in. Examples include:\n",
    "\n",
    "- math (mathematical functions)\n",
    "- os (interacting with the operating system)\n",
    "- sys (system-specific parameters and functions)\n",
    "- random (random number generation)\n",
    "\n",
    "External Modules: are not built into Python and need to be installed using a package manager like pip.\n",
    "\n",
    "- SciPy\n",
    "- Scikit-learn\n",
    "- TensorFlow\n",
    "- PyTorch\n",
    "- Keras"
   ]
  },
  {
   "cell_type": "markdown",
   "metadata": {},
   "source": [
    "### Getting Help with Modules\n",
    "\n",
    "- Using the help() Function: provides detailed documentation about a module."
   ]
  },
  {
   "cell_type": "code",
   "execution_count": null,
   "metadata": {},
   "outputs": [],
   "source": [
    "# Getting help on the math module\n",
    "import math\n",
    "help(math)"
   ]
  },
  {
   "cell_type": "markdown",
   "metadata": {},
   "source": [
    "- Using the dir() Function: lists all attributes and functions available in a module."
   ]
  },
  {
   "cell_type": "code",
   "execution_count": null,
   "metadata": {},
   "outputs": [],
   "source": [
    "# Listing all functions in the math module\n",
    "import math\n",
    "print(dir(math))"
   ]
  },
  {
   "cell_type": "markdown",
   "metadata": {},
   "source": [
    "### Creating Your Own Module\n",
    "- Create a Python file (e.g., my_module.py) with functions or variables."
   ]
  },
  {
   "cell_type": "code",
   "execution_count": null,
   "metadata": {},
   "outputs": [],
   "source": [
    "def greet(name):\n",
    "    return f\"Hello, {name}!\""
   ]
  },
  {
   "cell_type": "markdown",
   "metadata": {},
   "source": [
    "- Using the custom module: import your module in another Python file or script.\n"
   ]
  },
  {
   "cell_type": "code",
   "execution_count": null,
   "metadata": {},
   "outputs": [],
   "source": [
    "import my_module\n",
    "\n",
    "message = my_module.greet(\"Yonas\")\n",
    "print(message) \n"
   ]
  },
  {
   "cell_type": "code",
   "execution_count": null,
   "metadata": {},
   "outputs": [],
   "source": [
    "module_src = '''\\\n",
    "def heat_index_c(t_c: float, rh: float) -> float:\n",
    "    \"\"\"Approximate heat index in C (demo only).\"\"\"\n",
    "    t_f = t_c * 9/5 + 32\n",
    "    hi_f = (-42.379 + 2.04901523*t_f + 10.14333127*rh - 0.22475541*t_f*rh\n",
    "            - 6.83783e-3*t_f*t_f - 5.481717e-2*rh*rh\n",
    "            + 1.22874e-3*t_f*t_f*rh + 8.5282e-4*t_f*rh*rh\n",
    "            - 1.99e-6*t_f*t_f*rh*rh)\n",
    "    return (hi_f - 32) * 5/9\n",
    "'''\n",
    "open(\"climate_utils.py\",\"w\").write(module_src)"
   ]
  },
  {
   "cell_type": "code",
   "execution_count": null,
   "metadata": {},
   "outputs": [],
   "source": [
    "from climate_utils import heat_index_c\n",
    "heat_index_c(32.0, 60.0)\n"
   ]
  },
  {
   "cell_type": "markdown",
   "metadata": {},
   "source": [
    "## 10. Common Python Errors\n",
    "\n",
    "- Python errors, also called **exceptions**, occur when something goes wrong during the execution of your program.\n",
    "\n",
    "- Understanding these errors is key to debugging."
   ]
  },
  {
   "cell_type": "markdown",
   "metadata": {},
   "source": [
    "### SyntaxError\n",
    "- SyntaxError occurs when the Python code violates the syntax rules."
   ]
  },
  {
   "cell_type": "code",
   "execution_count": null,
   "metadata": {},
   "outputs": [],
   "source": [
    "print(\"Hello "
   ]
  },
  {
   "cell_type": "code",
   "execution_count": null,
   "metadata": {},
   "outputs": [],
   "source": [
    "print(\"Hello\")  # Corrected version"
   ]
  },
  {
   "cell_type": "markdown",
   "metadata": {},
   "source": [
    "### NameError\n",
    "   - happens when you use a variable or function that hasn’t been defined."
   ]
  },
  {
   "cell_type": "code",
   "execution_count": null,
   "metadata": {},
   "outputs": [],
   "source": [
    "print(value)  # Trying to print a variable that hasn't been defined\n"
   ]
  },
  {
   "cell_type": "code",
   "execution_count": null,
   "metadata": {},
   "outputs": [],
   "source": [
    "# Corrected version:\n",
    "value = 10\n",
    "print(value)  # Output: 10"
   ]
  },
  {
   "cell_type": "markdown",
   "metadata": {},
   "source": [
    "### TypeError\n",
    "- TypeError occurs when an operation is performed on incompatible data types."
   ]
  },
  {
   "cell_type": "code",
   "execution_count": null,
   "metadata": {},
   "outputs": [],
   "source": [
    "number = 5\n",
    "text = \"hello\"\n",
    "\n",
    "print(number + text)  # Trying to add a number to a string"
   ]
  },
  {
   "cell_type": "code",
   "execution_count": null,
   "metadata": {},
   "outputs": [],
   "source": [
    "# Corrected version:\n",
    "print(f\"{number} {text}\")  # Output: 5 hello"
   ]
  },
  {
   "cell_type": "markdown",
   "metadata": {},
   "source": [
    "### IndexError\n",
    "\n",
    "- occurs when you try to access an index that’s out of range in a list or similar data structure."
   ]
  },
  {
   "cell_type": "code",
   "execution_count": null,
   "metadata": {},
   "outputs": [],
   "source": [
    "numbers = [1, 2, 3]\n",
    "\n",
    "print(numbers[3])  # Accessing an index that doesn't exist\n"
   ]
  },
  {
   "cell_type": "code",
   "execution_count": null,
   "metadata": {},
   "outputs": [],
   "source": [
    "# Corrected version:\n",
    "print(numbers[2])  "
   ]
  },
  {
   "cell_type": "markdown",
   "metadata": {},
   "source": [
    "### Debugging Basics\n",
    "\n",
    "- Debugging helps `identify` and `fix` errors in your program.\n",
    "\n",
    "- Python provides tools like `try-except` for error handling preventing the program from crashing abruptly when an exception occurs.\n",
    "\n",
    "- `Graceful Recovery`: can provide `informative error messages` or take `alternative actions` to recover from the error."
   ]
  },
  {
   "cell_type": "code",
   "execution_count": null,
   "metadata": {},
   "outputs": [],
   "source": [
    "10 / 0"
   ]
  },
  {
   "cell_type": "code",
   "execution_count": null,
   "metadata": {},
   "outputs": [],
   "source": [
    "try:\n",
    "    result = 10 / 0  # Division by zero causes ZeroDivisionError\n",
    "\n",
    "except ZeroDivisionError: # except block catches specific errors and prevents the program from crashing.\n",
    "    print(\"Error: Cannot divide by zero!\")"
   ]
  },
  {
   "cell_type": "markdown",
   "metadata": {},
   "source": [
    "### Catch different types of errors"
   ]
  },
  {
   "cell_type": "code",
   "execution_count": null,
   "metadata": {},
   "outputs": [],
   "source": [
    "text"
   ]
  },
  {
   "cell_type": "code",
   "execution_count": null,
   "metadata": {},
   "outputs": [],
   "source": [
    "value = int(\"text\")"
   ]
  },
  {
   "cell_type": "code",
   "execution_count": null,
   "metadata": {},
   "outputs": [],
   "source": [
    "try:\n",
    "    value = int(\"text\")  # This will cause a ValueError\n",
    "except ValueError:\n",
    "    print(\"Error: Cannot convert text to an integer!\")\n",
    "except TypeError:\n",
    "    print(\"Error: There was a type mismatch!\")"
   ]
  },
  {
   "cell_type": "markdown",
   "metadata": {},
   "source": [
    "### Catch any error\n",
    "- Using `Exception` catches any type of error.\n",
    "- The variable `e` contains information about the error."
   ]
  },
  {
   "cell_type": "code",
   "execution_count": null,
   "metadata": {},
   "outputs": [],
   "source": [
    "try:\n",
    "    result = 10 / 0  # This will cause a ZeroDivisionError\n",
    "except Exception as e:\n",
    "    print(f\"An error occurred: {e}\")"
   ]
  },
  {
   "cell_type": "markdown",
   "metadata": {},
   "source": [
    "## Exercise\n",
    "\n",
    "1) Create a loop that prints all the odd numbers between 1 and 20?\n",
    "2) Write a function that takes a number and returns its square?\n",
    "3) Create a function that takes two numbers and returns their average?\n",
    "4) Write a function with a default argument that prints a farewell message (e.g., “Goodbye, Guest!”)?\n",
    "5) Write a program that handles a ValueError when converting user input to an integer?\n",
    "6) Use a try-except block to handle a FileNotFoundError when opening a non-existent file?\n",
    "7) Debug a program by printing variable values at different points?"
   ]
  },
  {
   "cell_type": "markdown",
   "metadata": {},
   "source": []
  }
 ],
 "metadata": {
  "colab": {
   "collapsed_sections": [],
   "name": "0. Intro to Python for Machine Learning.ipynb",
   "provenance": []
  },
  "kernelspec": {
   "display_name": "python-ml-gha-venv",
   "language": "python",
   "name": "python3"
  },
  "language_info": {
   "codemirror_mode": {
    "name": "ipython",
    "version": 3
   },
   "file_extension": ".py",
   "mimetype": "text/x-python",
   "name": "python",
   "nbconvert_exporter": "python",
   "pygments_lexer": "ipython3",
   "version": "3.13.8"
  }
 },
 "nbformat": 4,
 "nbformat_minor": 1
}
